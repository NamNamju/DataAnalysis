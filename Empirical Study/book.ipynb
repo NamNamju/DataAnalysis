{
 "cells": [
  {
   "cell_type": "code",
   "execution_count": 1,
   "metadata": {},
   "outputs": [],
   "source": [
    "import numpy as np\n",
    "import pandas as pd\n",
    "import matplotlib.pyplot as plt\n",
    "%matplotlib inline\n",
    "import seaborn as sns\n",
    "import datetime"
   ]
  },
  {
   "cell_type": "code",
   "execution_count": 2,
   "metadata": {},
   "outputs": [],
   "source": [
    "plt.rcParams['font.family'] = 'Malgun Gothic'\n",
    "plt.rc('axes', unicode_minus = False)"
   ]
  },
  {
   "cell_type": "code",
   "execution_count": 3,
   "metadata": {},
   "outputs": [],
   "source": [
    "df = pd.read_excel('C:/Users/ST-USER/Desktop/1월 발제/data/data.xlsx')"
   ]
  },
  {
   "cell_type": "code",
   "execution_count": 4,
   "metadata": {},
   "outputs": [
    {
     "name": "stdout",
     "output_type": "stream",
     "text": [
      "<class 'pandas.core.frame.DataFrame'>\n",
      "RangeIndex: 2400 entries, 0 to 2399\n",
      "Data columns (total 9 columns):\n",
      " #   Column  Non-Null Count  Dtype         \n",
      "---  ------  --------------  -----         \n",
      " 0   순위      2400 non-null   int64         \n",
      " 1   도서명     2400 non-null   object        \n",
      " 2   저자명     2400 non-null   object        \n",
      " 3   출판사명    2400 non-null   object        \n",
      " 4   출간일     2400 non-null   datetime64[ns]\n",
      " 5   분야      2400 non-null   object        \n",
      " 6   정가      2400 non-null   int64         \n",
      " 7   쪽수      2400 non-null   int64         \n",
      " 8   월       2400 non-null   int64         \n",
      "dtypes: datetime64[ns](1), int64(4), object(4)\n",
      "memory usage: 168.9+ KB\n"
     ]
    }
   ],
   "source": [
    "df.info()"
   ]
  },
  {
   "cell_type": "code",
   "execution_count": 5,
   "metadata": {},
   "outputs": [
    {
     "data": {
      "text/html": [
       "<div>\n",
       "<style scoped>\n",
       "    .dataframe tbody tr th:only-of-type {\n",
       "        vertical-align: middle;\n",
       "    }\n",
       "\n",
       "    .dataframe tbody tr th {\n",
       "        vertical-align: top;\n",
       "    }\n",
       "\n",
       "    .dataframe thead th {\n",
       "        text-align: right;\n",
       "    }\n",
       "</style>\n",
       "<table border=\"1\" class=\"dataframe\">\n",
       "  <thead>\n",
       "    <tr style=\"text-align: right;\">\n",
       "      <th></th>\n",
       "      <th>순위</th>\n",
       "      <th>도서명</th>\n",
       "      <th>저자명</th>\n",
       "      <th>출판사명</th>\n",
       "      <th>출간일</th>\n",
       "      <th>분야</th>\n",
       "      <th>정가</th>\n",
       "      <th>쪽수</th>\n",
       "      <th>월</th>\n",
       "    </tr>\n",
       "  </thead>\n",
       "  <tbody>\n",
       "    <tr>\n",
       "      <th>0</th>\n",
       "      <td>1</td>\n",
       "      <td>트렌드 코리아 2020</td>\n",
       "      <td>김난도</td>\n",
       "      <td>미래의창</td>\n",
       "      <td>2019-10-24</td>\n",
       "      <td>경제/경영</td>\n",
       "      <td>18000</td>\n",
       "      <td>448</td>\n",
       "      <td>12</td>\n",
       "    </tr>\n",
       "    <tr>\n",
       "      <th>1</th>\n",
       "      <td>2</td>\n",
       "      <td>1일 1페이지, 세상에서 가장 짧은 교양 수업 365</td>\n",
       "      <td>데이비드 S. 키더</td>\n",
       "      <td>위즈덤하우스</td>\n",
       "      <td>2019-10-30</td>\n",
       "      <td>인문</td>\n",
       "      <td>16000</td>\n",
       "      <td>392</td>\n",
       "      <td>12</td>\n",
       "    </tr>\n",
       "    <tr>\n",
       "      <th>2</th>\n",
       "      <td>3</td>\n",
       "      <td>지쳤거나 좋아하는 게 없거나</td>\n",
       "      <td>글배우</td>\n",
       "      <td>강한별</td>\n",
       "      <td>2019-09-04</td>\n",
       "      <td>시/에세이</td>\n",
       "      <td>13500</td>\n",
       "      <td>248</td>\n",
       "      <td>12</td>\n",
       "    </tr>\n",
       "    <tr>\n",
       "      <th>3</th>\n",
       "      <td>4</td>\n",
       "      <td>팩트풀니스(양장본 HardCover)</td>\n",
       "      <td>한스 로슬링</td>\n",
       "      <td>김영사</td>\n",
       "      <td>2019-03-10</td>\n",
       "      <td>인문</td>\n",
       "      <td>19800</td>\n",
       "      <td>474</td>\n",
       "      <td>12</td>\n",
       "    </tr>\n",
       "    <tr>\n",
       "      <th>4</th>\n",
       "      <td>5</td>\n",
       "      <td>에이트(양장본 HardCover)</td>\n",
       "      <td>이지성</td>\n",
       "      <td>차이정원</td>\n",
       "      <td>2019-10-21</td>\n",
       "      <td>자기계발</td>\n",
       "      <td>17000</td>\n",
       "      <td>308</td>\n",
       "      <td>12</td>\n",
       "    </tr>\n",
       "    <tr>\n",
       "      <th>...</th>\n",
       "      <td>...</td>\n",
       "      <td>...</td>\n",
       "      <td>...</td>\n",
       "      <td>...</td>\n",
       "      <td>...</td>\n",
       "      <td>...</td>\n",
       "      <td>...</td>\n",
       "      <td>...</td>\n",
       "      <td>...</td>\n",
       "    </tr>\n",
       "    <tr>\n",
       "      <th>2395</th>\n",
       "      <td>196</td>\n",
       "      <td>해커스 토익 700+ LC+RC(한 권으로 끝내는)</td>\n",
       "      <td>해커스 어학연구소</td>\n",
       "      <td>해커스어학연구소</td>\n",
       "      <td>2020-04-17</td>\n",
       "      <td>외국어</td>\n",
       "      <td>19500</td>\n",
       "      <td>596</td>\n",
       "      <td>11</td>\n",
       "    </tr>\n",
       "    <tr>\n",
       "      <th>2396</th>\n",
       "      <td>197</td>\n",
       "      <td>인간 실격(세계문학전집 103)</td>\n",
       "      <td>다자이 오사무</td>\n",
       "      <td>민음사</td>\n",
       "      <td>2012-04-10</td>\n",
       "      <td>소설</td>\n",
       "      <td>8000</td>\n",
       "      <td>192</td>\n",
       "      <td>11</td>\n",
       "    </tr>\n",
       "    <tr>\n",
       "      <th>2397</th>\n",
       "      <td>198</td>\n",
       "      <td>주식 네 이놈. 2: 기법편</td>\n",
       "      <td>문제룡</td>\n",
       "      <td>지서연</td>\n",
       "      <td>2020-11-21</td>\n",
       "      <td>경제/경영</td>\n",
       "      <td>20000</td>\n",
       "      <td>292</td>\n",
       "      <td>11</td>\n",
       "    </tr>\n",
       "    <tr>\n",
       "      <th>2398</th>\n",
       "      <td>199</td>\n",
       "      <td>어린이 명심보감(읽으면서 바로 써먹는)(맛있는 공부 33)</td>\n",
       "      <td>한날</td>\n",
       "      <td>파란정원</td>\n",
       "      <td>2020-09-15</td>\n",
       "      <td>어린이(초등)</td>\n",
       "      <td>12000</td>\n",
       "      <td>224</td>\n",
       "      <td>11</td>\n",
       "    </tr>\n",
       "    <tr>\n",
       "      <th>2399</th>\n",
       "      <td>200</td>\n",
       "      <td>오은영의 화해</td>\n",
       "      <td>오은영</td>\n",
       "      <td>코리아닷컴</td>\n",
       "      <td>2019-01-10</td>\n",
       "      <td>자기계발</td>\n",
       "      <td>16000</td>\n",
       "      <td>320</td>\n",
       "      <td>11</td>\n",
       "    </tr>\n",
       "  </tbody>\n",
       "</table>\n",
       "<p>2400 rows × 9 columns</p>\n",
       "</div>"
      ],
      "text/plain": [
       "       순위                               도서명         저자명      출판사명        출간일  \\\n",
       "0       1                      트렌드 코리아 2020         김난도      미래의창 2019-10-24   \n",
       "1       2     1일 1페이지, 세상에서 가장 짧은 교양 수업 365  데이비드 S. 키더    위즈덤하우스 2019-10-30   \n",
       "2       3                   지쳤거나 좋아하는 게 없거나         글배우       강한별 2019-09-04   \n",
       "3       4              팩트풀니스(양장본 HardCover)      한스 로슬링       김영사 2019-03-10   \n",
       "4       5                에이트(양장본 HardCover)         이지성      차이정원 2019-10-21   \n",
       "...   ...                               ...         ...       ...        ...   \n",
       "2395  196      해커스 토익 700+ LC+RC(한 권으로 끝내는)   해커스 어학연구소  해커스어학연구소 2020-04-17   \n",
       "2396  197                 인간 실격(세계문학전집 103)     다자이 오사무       민음사 2012-04-10   \n",
       "2397  198                   주식 네 이놈. 2: 기법편         문제룡       지서연 2020-11-21   \n",
       "2398  199  어린이 명심보감(읽으면서 바로 써먹는)(맛있는 공부 33)          한날      파란정원 2020-09-15   \n",
       "2399  200                           오은영의 화해         오은영     코리아닷컴 2019-01-10   \n",
       "\n",
       "           분야     정가   쪽수   월  \n",
       "0       경제/경영  18000  448  12  \n",
       "1          인문  16000  392  12  \n",
       "2       시/에세이  13500  248  12  \n",
       "3          인문  19800  474  12  \n",
       "4        자기계발  17000  308  12  \n",
       "...       ...    ...  ...  ..  \n",
       "2395      외국어  19500  596  11  \n",
       "2396       소설   8000  192  11  \n",
       "2397    경제/경영  20000  292  11  \n",
       "2398  어린이(초등)  12000  224  11  \n",
       "2399     자기계발  16000  320  11  \n",
       "\n",
       "[2400 rows x 9 columns]"
      ]
     },
     "execution_count": 5,
     "metadata": {},
     "output_type": "execute_result"
    }
   ],
   "source": [
    "df"
   ]
  },
  {
   "cell_type": "code",
   "execution_count": 6,
   "metadata": {},
   "outputs": [],
   "source": [
    "df['월'] = df['월'].astype('category')"
   ]
  },
  {
   "cell_type": "code",
   "execution_count": 7,
   "metadata": {
    "scrolled": true
   },
   "outputs": [
    {
     "name": "stdout",
     "output_type": "stream",
     "text": [
      "<class 'pandas.core.frame.DataFrame'>\n",
      "RangeIndex: 2400 entries, 0 to 2399\n",
      "Data columns (total 9 columns):\n",
      " #   Column  Non-Null Count  Dtype         \n",
      "---  ------  --------------  -----         \n",
      " 0   순위      2400 non-null   int64         \n",
      " 1   도서명     2400 non-null   object        \n",
      " 2   저자명     2400 non-null   object        \n",
      " 3   출판사명    2400 non-null   object        \n",
      " 4   출간일     2400 non-null   datetime64[ns]\n",
      " 5   분야      2400 non-null   object        \n",
      " 6   정가      2400 non-null   int64         \n",
      " 7   쪽수      2400 non-null   int64         \n",
      " 8   월       2400 non-null   category      \n",
      "dtypes: category(1), datetime64[ns](1), int64(3), object(4)\n",
      "memory usage: 152.9+ KB\n"
     ]
    }
   ],
   "source": [
    "df.info()"
   ]
  },
  {
   "cell_type": "markdown",
   "metadata": {},
   "source": [
    "## 일년동안 항상 베스트셀러에 포함되어 있던 34권의 책 이름"
   ]
  },
  {
   "cell_type": "code",
   "execution_count": 8,
   "metadata": {
    "scrolled": true
   },
   "outputs": [
    {
     "data": {
      "text/plain": [
       "아몬드(양장본 HardCover)                                          12\n",
       "부의 인문학                                                      12\n",
       "아주 작은 습관의 힘                                                 12\n",
       "우리가 빛의 속도로 갈 수 없다면(양장본 HardCover)                           12\n",
       "선량한 차별주의자                                                   12\n",
       "총 균 쇠                                                       12\n",
       "정의란 무엇인가(마이클 샌델)                                            12\n",
       "언어의 온도(170만부 기념 에디션)                                        12\n",
       "하버드 상위 1퍼센트의 비밀                                             12\n",
       "이기적 유전자(40주년 기념판)                                           12\n",
       "당신이 옳다(40만 부 기념 '한 사람' 리커버)                                 12\n",
       "타이탄의 도구들(리커버 에디션)                                           12\n",
       "돌이킬 수 없는 약속                                                 12\n",
       "팩트풀니스(양장본 HardCover)                                        12\n",
       "지쳤거나 좋아하는 게 없거나                                             12\n",
       "설민석의 조선왕조실록                                                 12\n",
       "지적 대화를 위한 넓고 얕은 지식: 제로 편                                    12\n",
       "데미안(리커버 한정판)(초판본)(1919년 오리지널 초판본 패브릭 에디션)(양장본 HardCover)    12\n",
       "해커스 토익 LC 리스닝(Listening)(개정판 8판)                            12\n",
       "코스모스(보급판)                                                   12\n",
       "사피엔스                                                        12\n",
       "12가지 인생의 법칙(30만부 기념 리커버 에디션)                                12\n",
       "방구석 미술관                                                     12\n",
       "꽃을 보듯 너를 본다(J.H CLASSIC 2)(양장본 HardCover)                   12\n",
       "부자 아빠 가난한 아빠. 1(20주년 특별 기념판)(개정증보판)                         12\n",
       "멋진 신세계                                                      12\n",
       "부의 추월차선                                                     12\n",
       "나는 나로 살기로 했다                                                12\n",
       "해커스 토익 스타트 리딩(Reading) RC(개정판 4판)                           12\n",
       "봉제인형 살인사건                                                   12\n",
       "해커스 토익 기출 보카 TOEIC VOCA(개정판 5판)                             12\n",
       "해커스 토익 RC 리딩(Reading)(개정판 8판)                               12\n",
       "나미야 잡화점의 기적(땡큐 에디션)(양장본 HardCover)                          12\n",
       "Name: 도서명, dtype: int64"
      ]
     },
     "execution_count": 8,
     "metadata": {},
     "output_type": "execute_result"
    }
   ],
   "source": [
    "count_n = df['도서명'].value_counts()\n",
    "count_n[:33]"
   ]
  },
  {
   "cell_type": "markdown",
   "metadata": {},
   "source": [
    "## 중복제거"
   ]
  },
  {
   "cell_type": "code",
   "execution_count": 9,
   "metadata": {
    "scrolled": true
   },
   "outputs": [
    {
     "data": {
      "text/html": [
       "<div>\n",
       "<style scoped>\n",
       "    .dataframe tbody tr th:only-of-type {\n",
       "        vertical-align: middle;\n",
       "    }\n",
       "\n",
       "    .dataframe tbody tr th {\n",
       "        vertical-align: top;\n",
       "    }\n",
       "\n",
       "    .dataframe thead th {\n",
       "        text-align: right;\n",
       "    }\n",
       "</style>\n",
       "<table border=\"1\" class=\"dataframe\">\n",
       "  <thead>\n",
       "    <tr style=\"text-align: right;\">\n",
       "      <th></th>\n",
       "      <th>순위</th>\n",
       "      <th>도서명</th>\n",
       "      <th>저자명</th>\n",
       "      <th>출판사명</th>\n",
       "      <th>출간일</th>\n",
       "      <th>분야</th>\n",
       "      <th>정가</th>\n",
       "      <th>쪽수</th>\n",
       "      <th>월</th>\n",
       "    </tr>\n",
       "  </thead>\n",
       "  <tbody>\n",
       "    <tr>\n",
       "      <th>0</th>\n",
       "      <td>1</td>\n",
       "      <td>트렌드 코리아 2020</td>\n",
       "      <td>김난도</td>\n",
       "      <td>미래의창</td>\n",
       "      <td>2019-10-24</td>\n",
       "      <td>경제/경영</td>\n",
       "      <td>18000</td>\n",
       "      <td>448</td>\n",
       "      <td>12</td>\n",
       "    </tr>\n",
       "    <tr>\n",
       "      <th>1</th>\n",
       "      <td>2</td>\n",
       "      <td>1일 1페이지, 세상에서 가장 짧은 교양 수업 365</td>\n",
       "      <td>데이비드 S. 키더</td>\n",
       "      <td>위즈덤하우스</td>\n",
       "      <td>2019-10-30</td>\n",
       "      <td>인문</td>\n",
       "      <td>16000</td>\n",
       "      <td>392</td>\n",
       "      <td>12</td>\n",
       "    </tr>\n",
       "    <tr>\n",
       "      <th>2</th>\n",
       "      <td>3</td>\n",
       "      <td>지쳤거나 좋아하는 게 없거나</td>\n",
       "      <td>글배우</td>\n",
       "      <td>강한별</td>\n",
       "      <td>2019-09-04</td>\n",
       "      <td>시/에세이</td>\n",
       "      <td>13500</td>\n",
       "      <td>248</td>\n",
       "      <td>12</td>\n",
       "    </tr>\n",
       "    <tr>\n",
       "      <th>3</th>\n",
       "      <td>4</td>\n",
       "      <td>팩트풀니스(양장본 HardCover)</td>\n",
       "      <td>한스 로슬링</td>\n",
       "      <td>김영사</td>\n",
       "      <td>2019-03-10</td>\n",
       "      <td>인문</td>\n",
       "      <td>19800</td>\n",
       "      <td>474</td>\n",
       "      <td>12</td>\n",
       "    </tr>\n",
       "    <tr>\n",
       "      <th>4</th>\n",
       "      <td>5</td>\n",
       "      <td>에이트(양장본 HardCover)</td>\n",
       "      <td>이지성</td>\n",
       "      <td>차이정원</td>\n",
       "      <td>2019-10-21</td>\n",
       "      <td>자기계발</td>\n",
       "      <td>17000</td>\n",
       "      <td>308</td>\n",
       "      <td>12</td>\n",
       "    </tr>\n",
       "    <tr>\n",
       "      <th>...</th>\n",
       "      <td>...</td>\n",
       "      <td>...</td>\n",
       "      <td>...</td>\n",
       "      <td>...</td>\n",
       "      <td>...</td>\n",
       "      <td>...</td>\n",
       "      <td>...</td>\n",
       "      <td>...</td>\n",
       "      <td>...</td>\n",
       "    </tr>\n",
       "    <tr>\n",
       "      <th>884</th>\n",
       "      <td>184</td>\n",
       "      <td>권력은 사람의 뇌를 바꾼다</td>\n",
       "      <td>강준만</td>\n",
       "      <td>인물과사상사</td>\n",
       "      <td>2020-10-26</td>\n",
       "      <td>정치/사회</td>\n",
       "      <td>17000</td>\n",
       "      <td>360</td>\n",
       "      <td>11</td>\n",
       "    </tr>\n",
       "    <tr>\n",
       "      <th>885</th>\n",
       "      <td>189</td>\n",
       "      <td>시가 나에게 살라고 한다</td>\n",
       "      <td>나태주 (엮음)</td>\n",
       "      <td>&amp;(앤드)</td>\n",
       "      <td>2020-11-10</td>\n",
       "      <td>시/에세이</td>\n",
       "      <td>14500</td>\n",
       "      <td>260</td>\n",
       "      <td>11</td>\n",
       "    </tr>\n",
       "    <tr>\n",
       "      <th>886</th>\n",
       "      <td>191</td>\n",
       "      <td>수상한 이웃집(잠뜰TV 오리지널 스토리북)(양장본 HardCover)</td>\n",
       "      <td>잠뜰TV (원작)</td>\n",
       "      <td>서울문화사</td>\n",
       "      <td>2020-10-29</td>\n",
       "      <td>어린이(초등)</td>\n",
       "      <td>11000</td>\n",
       "      <td>1</td>\n",
       "      <td>11</td>\n",
       "    </tr>\n",
       "    <tr>\n",
       "      <th>887</th>\n",
       "      <td>198</td>\n",
       "      <td>주식 네 이놈. 2: 기법편</td>\n",
       "      <td>문제룡</td>\n",
       "      <td>지서연</td>\n",
       "      <td>2020-11-21</td>\n",
       "      <td>경제/경영</td>\n",
       "      <td>20000</td>\n",
       "      <td>292</td>\n",
       "      <td>11</td>\n",
       "    </tr>\n",
       "    <tr>\n",
       "      <th>888</th>\n",
       "      <td>200</td>\n",
       "      <td>오은영의 화해</td>\n",
       "      <td>오은영</td>\n",
       "      <td>코리아닷컴</td>\n",
       "      <td>2019-01-10</td>\n",
       "      <td>자기계발</td>\n",
       "      <td>16000</td>\n",
       "      <td>320</td>\n",
       "      <td>11</td>\n",
       "    </tr>\n",
       "  </tbody>\n",
       "</table>\n",
       "<p>889 rows × 9 columns</p>\n",
       "</div>"
      ],
      "text/plain": [
       "      순위                                     도서명         저자명    출판사명  \\\n",
       "0      1                            트렌드 코리아 2020         김난도    미래의창   \n",
       "1      2           1일 1페이지, 세상에서 가장 짧은 교양 수업 365  데이비드 S. 키더  위즈덤하우스   \n",
       "2      3                         지쳤거나 좋아하는 게 없거나         글배우     강한별   \n",
       "3      4                    팩트풀니스(양장본 HardCover)      한스 로슬링     김영사   \n",
       "4      5                      에이트(양장본 HardCover)         이지성    차이정원   \n",
       "..   ...                                     ...         ...     ...   \n",
       "884  184                          권력은 사람의 뇌를 바꾼다         강준만  인물과사상사   \n",
       "885  189                           시가 나에게 살라고 한다    나태주 (엮음)   &(앤드)   \n",
       "886  191  수상한 이웃집(잠뜰TV 오리지널 스토리북)(양장본 HardCover)   잠뜰TV (원작)   서울문화사   \n",
       "887  198                         주식 네 이놈. 2: 기법편         문제룡     지서연   \n",
       "888  200                                 오은영의 화해         오은영   코리아닷컴   \n",
       "\n",
       "           출간일       분야     정가   쪽수   월  \n",
       "0   2019-10-24    경제/경영  18000  448  12  \n",
       "1   2019-10-30       인문  16000  392  12  \n",
       "2   2019-09-04    시/에세이  13500  248  12  \n",
       "3   2019-03-10       인문  19800  474  12  \n",
       "4   2019-10-21     자기계발  17000  308  12  \n",
       "..         ...      ...    ...  ...  ..  \n",
       "884 2020-10-26    정치/사회  17000  360  11  \n",
       "885 2020-11-10    시/에세이  14500  260  11  \n",
       "886 2020-10-29  어린이(초등)  11000    1  11  \n",
       "887 2020-11-21    경제/경영  20000  292  11  \n",
       "888 2019-01-10     자기계발  16000  320  11  \n",
       "\n",
       "[889 rows x 9 columns]"
      ]
     },
     "execution_count": 9,
     "metadata": {},
     "output_type": "execute_result"
    }
   ],
   "source": [
    "df1 = df.drop_duplicates(['도서명'], ignore_index = True)\n",
    "df1"
   ]
  },
  {
   "cell_type": "markdown",
   "metadata": {},
   "source": [
    "## 베스트셀러를 가장 많이 낸 저자 상위 n명(40)"
   ]
  },
  {
   "cell_type": "code",
   "execution_count": 10,
   "metadata": {
    "scrolled": true
   },
   "outputs": [
    {
     "data": {
      "text/plain": [
       "설민석                  14\n",
       "David Cho            10\n",
       "고토게 코요하루              9\n",
       "흔한남매 (원작)             8\n",
       "히가시노 게이고              8\n",
       "유대영                   7\n",
       "김미영                   7\n",
       "박시연                   6\n",
       "히로시마 레이코              6\n",
       "백희나                   6\n",
       "정세랑                   6\n",
       "알베르 카뮈                5\n",
       "조용                    5\n",
       "한날                    5\n",
       "채사장                   5\n",
       "이도우                   4\n",
       "Eiichiro Oda          4\n",
       "글배우                   4\n",
       "김현수                   4\n",
       "김리리                   3\n",
       "헤르만 헤세                3\n",
       "마이클 샌델                3\n",
       "홍춘욱                   3\n",
       "김난도                   3\n",
       "트롤                    3\n",
       "신태훈                   3\n",
       "전극진                   3\n",
       "박영숙                   3\n",
       "법정                    3\n",
       "조지 오웰                 3\n",
       "데일 카네기                3\n",
       "정재승 (기획)              3\n",
       "존 리                   3\n",
       "스토리 a.                3\n",
       "오은영                   3\n",
       "Haruichi Furudate     3\n",
       "해커스 어학연구소             3\n",
       "김혜련                   3\n",
       "최재붕                   2\n",
       "안녕달                   2\n",
       "Name: 저자명, dtype: int64"
      ]
     },
     "execution_count": 10,
     "metadata": {},
     "output_type": "execute_result"
    }
   ],
   "source": [
    "count_a = df1['저자명'].value_counts()\n",
    "count_a[:40]"
   ]
  },
  {
   "cell_type": "markdown",
   "metadata": {},
   "source": [
    "## 설민석의 베스트셀러 목록"
   ]
  },
  {
   "cell_type": "code",
   "execution_count": 11,
   "metadata": {
    "scrolled": true
   },
   "outputs": [
    {
     "data": {
      "text/html": [
       "<div>\n",
       "<style scoped>\n",
       "    .dataframe tbody tr th:only-of-type {\n",
       "        vertical-align: middle;\n",
       "    }\n",
       "\n",
       "    .dataframe tbody tr th {\n",
       "        vertical-align: top;\n",
       "    }\n",
       "\n",
       "    .dataframe thead th {\n",
       "        text-align: right;\n",
       "    }\n",
       "</style>\n",
       "<table border=\"1\" class=\"dataframe\">\n",
       "  <thead>\n",
       "    <tr style=\"text-align: right;\">\n",
       "      <th></th>\n",
       "      <th>순위</th>\n",
       "      <th>도서명</th>\n",
       "      <th>저자명</th>\n",
       "      <th>출판사명</th>\n",
       "      <th>출간일</th>\n",
       "      <th>분야</th>\n",
       "      <th>정가</th>\n",
       "      <th>쪽수</th>\n",
       "      <th>월</th>\n",
       "    </tr>\n",
       "  </thead>\n",
       "  <tbody>\n",
       "    <tr>\n",
       "      <th>6</th>\n",
       "      <td>7</td>\n",
       "      <td>설민석의 한국사 대모험. 12</td>\n",
       "      <td>설민석</td>\n",
       "      <td>아이휴먼</td>\n",
       "      <td>2019-12-05</td>\n",
       "      <td>어린이(초등)</td>\n",
       "      <td>12000</td>\n",
       "      <td>212</td>\n",
       "      <td>12</td>\n",
       "    </tr>\n",
       "    <tr>\n",
       "      <th>33</th>\n",
       "      <td>34</td>\n",
       "      <td>설민석의 삼국지. 1</td>\n",
       "      <td>설민석</td>\n",
       "      <td>세계사</td>\n",
       "      <td>2019-07-17</td>\n",
       "      <td>인문</td>\n",
       "      <td>22000</td>\n",
       "      <td>440</td>\n",
       "      <td>12</td>\n",
       "    </tr>\n",
       "    <tr>\n",
       "      <th>35</th>\n",
       "      <td>36</td>\n",
       "      <td>설민석의 조선왕조실록</td>\n",
       "      <td>설민석</td>\n",
       "      <td>세계사</td>\n",
       "      <td>2016-07-20</td>\n",
       "      <td>역사/문화</td>\n",
       "      <td>22000</td>\n",
       "      <td>504</td>\n",
       "      <td>12</td>\n",
       "    </tr>\n",
       "    <tr>\n",
       "      <th>131</th>\n",
       "      <td>132</td>\n",
       "      <td>한국을 빛낸 100명의 위인들(설민석 쌤과 함께 부르는)(사운드북)</td>\n",
       "      <td>설민석</td>\n",
       "      <td>아이휴먼</td>\n",
       "      <td>2017-12-01</td>\n",
       "      <td>유아(0~7세)</td>\n",
       "      <td>16000</td>\n",
       "      <td>22</td>\n",
       "      <td>12</td>\n",
       "    </tr>\n",
       "    <tr>\n",
       "      <th>165</th>\n",
       "      <td>166</td>\n",
       "      <td>설민석의 세계사 대모험. 3</td>\n",
       "      <td>설민석</td>\n",
       "      <td>단꿈아이</td>\n",
       "      <td>2019-09-24</td>\n",
       "      <td>어린이(초등)</td>\n",
       "      <td>12000</td>\n",
       "      <td>200</td>\n",
       "      <td>12</td>\n",
       "    </tr>\n",
       "    <tr>\n",
       "      <th>167</th>\n",
       "      <td>168</td>\n",
       "      <td>설민석의 무도 한국사 특강(개정판)</td>\n",
       "      <td>설민석</td>\n",
       "      <td>휴먼큐브</td>\n",
       "      <td>2019-01-29</td>\n",
       "      <td>역사/문화</td>\n",
       "      <td>22000</td>\n",
       "      <td>433</td>\n",
       "      <td>12</td>\n",
       "    </tr>\n",
       "    <tr>\n",
       "      <th>207</th>\n",
       "      <td>60</td>\n",
       "      <td>설민석의 세계사 대모험. 4</td>\n",
       "      <td>설민석</td>\n",
       "      <td>단꿈아이</td>\n",
       "      <td>2020-01-13</td>\n",
       "      <td>어린이(초등)</td>\n",
       "      <td>12000</td>\n",
       "      <td>208</td>\n",
       "      <td>1</td>\n",
       "    </tr>\n",
       "    <tr>\n",
       "      <th>336</th>\n",
       "      <td>9</td>\n",
       "      <td>설민석의 한국사 대모험. 13(반양장)</td>\n",
       "      <td>설민석</td>\n",
       "      <td>아이휴먼</td>\n",
       "      <td>2020-03-23</td>\n",
       "      <td>어린이(초등)</td>\n",
       "      <td>12000</td>\n",
       "      <td>200</td>\n",
       "      <td>3</td>\n",
       "    </tr>\n",
       "    <tr>\n",
       "      <th>412</th>\n",
       "      <td>48</td>\n",
       "      <td>설민석의 세계사 대모험. 5</td>\n",
       "      <td>설민석</td>\n",
       "      <td>단꿈아이</td>\n",
       "      <td>2020-04-15</td>\n",
       "      <td>어린이(초등)</td>\n",
       "      <td>12000</td>\n",
       "      <td>208</td>\n",
       "      <td>4</td>\n",
       "    </tr>\n",
       "    <tr>\n",
       "      <th>497</th>\n",
       "      <td>86</td>\n",
       "      <td>설민석의 책 읽어드립니다</td>\n",
       "      <td>설민석</td>\n",
       "      <td>단꿈아이</td>\n",
       "      <td>2020-05-18</td>\n",
       "      <td>인문</td>\n",
       "      <td>15000</td>\n",
       "      <td>212</td>\n",
       "      <td>5</td>\n",
       "    </tr>\n",
       "    <tr>\n",
       "      <th>601</th>\n",
       "      <td>5</td>\n",
       "      <td>설민석의 한국사 대모험. 14</td>\n",
       "      <td>설민석</td>\n",
       "      <td>아이휴먼</td>\n",
       "      <td>2020-07-08</td>\n",
       "      <td>어린이(초등)</td>\n",
       "      <td>12000</td>\n",
       "      <td>200</td>\n",
       "      <td>7</td>\n",
       "    </tr>\n",
       "    <tr>\n",
       "      <th>670</th>\n",
       "      <td>44</td>\n",
       "      <td>설민석의 세계사 대모험. 6</td>\n",
       "      <td>설민석</td>\n",
       "      <td>단꿈아이</td>\n",
       "      <td>2020-08-15</td>\n",
       "      <td>어린이(초등)</td>\n",
       "      <td>12000</td>\n",
       "      <td>232</td>\n",
       "      <td>8</td>\n",
       "    </tr>\n",
       "    <tr>\n",
       "      <th>749</th>\n",
       "      <td>140</td>\n",
       "      <td>설민석의 만만 한국사. 1: 선사 시대부터 삼국 시대까지</td>\n",
       "      <td>설민석</td>\n",
       "      <td>아이세움</td>\n",
       "      <td>2020-08-26</td>\n",
       "      <td>어린이(초등)</td>\n",
       "      <td>12000</td>\n",
       "      <td>196</td>\n",
       "      <td>9</td>\n",
       "    </tr>\n",
       "    <tr>\n",
       "      <th>776</th>\n",
       "      <td>11</td>\n",
       "      <td>설민석의 한국사 대모험. 15</td>\n",
       "      <td>설민석</td>\n",
       "      <td>아이휴먼</td>\n",
       "      <td>2020-10-26</td>\n",
       "      <td>어린이(초등)</td>\n",
       "      <td>12000</td>\n",
       "      <td>204</td>\n",
       "      <td>10</td>\n",
       "    </tr>\n",
       "  </tbody>\n",
       "</table>\n",
       "</div>"
      ],
      "text/plain": [
       "      순위                                    도서명  저자명  출판사명        출간일  \\\n",
       "6      7                       설민석의 한국사 대모험. 12  설민석  아이휴먼 2019-12-05   \n",
       "33    34                            설민석의 삼국지. 1  설민석   세계사 2019-07-17   \n",
       "35    36                            설민석의 조선왕조실록  설민석   세계사 2016-07-20   \n",
       "131  132  한국을 빛낸 100명의 위인들(설민석 쌤과 함께 부르는)(사운드북)  설민석  아이휴먼 2017-12-01   \n",
       "165  166                        설민석의 세계사 대모험. 3  설민석  단꿈아이 2019-09-24   \n",
       "167  168                    설민석의 무도 한국사 특강(개정판)  설민석  휴먼큐브 2019-01-29   \n",
       "207   60                        설민석의 세계사 대모험. 4  설민석  단꿈아이 2020-01-13   \n",
       "336    9                  설민석의 한국사 대모험. 13(반양장)  설민석  아이휴먼 2020-03-23   \n",
       "412   48                        설민석의 세계사 대모험. 5  설민석  단꿈아이 2020-04-15   \n",
       "497   86                          설민석의 책 읽어드립니다  설민석  단꿈아이 2020-05-18   \n",
       "601    5                       설민석의 한국사 대모험. 14  설민석  아이휴먼 2020-07-08   \n",
       "670   44                        설민석의 세계사 대모험. 6  설민석  단꿈아이 2020-08-15   \n",
       "749  140        설민석의 만만 한국사. 1: 선사 시대부터 삼국 시대까지  설민석  아이세움 2020-08-26   \n",
       "776   11                       설민석의 한국사 대모험. 15  설민석  아이휴먼 2020-10-26   \n",
       "\n",
       "           분야     정가   쪽수   월  \n",
       "6     어린이(초등)  12000  212  12  \n",
       "33         인문  22000  440  12  \n",
       "35      역사/문화  22000  504  12  \n",
       "131  유아(0~7세)  16000   22  12  \n",
       "165   어린이(초등)  12000  200  12  \n",
       "167     역사/문화  22000  433  12  \n",
       "207   어린이(초등)  12000  208   1  \n",
       "336   어린이(초등)  12000  200   3  \n",
       "412   어린이(초등)  12000  208   4  \n",
       "497        인문  15000  212   5  \n",
       "601   어린이(초등)  12000  200   7  \n",
       "670   어린이(초등)  12000  232   8  \n",
       "749   어린이(초등)  12000  196   9  \n",
       "776   어린이(초등)  12000  204  10  "
      ]
     },
     "execution_count": 11,
     "metadata": {},
     "output_type": "execute_result"
    }
   ],
   "source": [
    "s = df1['저자명'] == '설민석'\n",
    "s = df1[s]\n",
    "s"
   ]
  },
  {
   "cell_type": "markdown",
   "metadata": {},
   "source": [
    "## David Cho의 베스트셀러 목록"
   ]
  },
  {
   "cell_type": "code",
   "execution_count": 12,
   "metadata": {},
   "outputs": [
    {
     "data": {
      "text/html": [
       "<div>\n",
       "<style scoped>\n",
       "    .dataframe tbody tr th:only-of-type {\n",
       "        vertical-align: middle;\n",
       "    }\n",
       "\n",
       "    .dataframe tbody tr th {\n",
       "        vertical-align: top;\n",
       "    }\n",
       "\n",
       "    .dataframe thead th {\n",
       "        text-align: right;\n",
       "    }\n",
       "</style>\n",
       "<table border=\"1\" class=\"dataframe\">\n",
       "  <thead>\n",
       "    <tr style=\"text-align: right;\">\n",
       "      <th></th>\n",
       "      <th>순위</th>\n",
       "      <th>도서명</th>\n",
       "      <th>저자명</th>\n",
       "      <th>출판사명</th>\n",
       "      <th>출간일</th>\n",
       "      <th>분야</th>\n",
       "      <th>정가</th>\n",
       "      <th>쪽수</th>\n",
       "      <th>월</th>\n",
       "    </tr>\n",
       "  </thead>\n",
       "  <tbody>\n",
       "    <tr>\n",
       "      <th>19</th>\n",
       "      <td>20</td>\n",
       "      <td>해커스 토익 기출 보카 TOEIC VOCA(개정판 5판)</td>\n",
       "      <td>David Cho</td>\n",
       "      <td>해커스어학연구소</td>\n",
       "      <td>2020-03-05</td>\n",
       "      <td>외국어</td>\n",
       "      <td>12900</td>\n",
       "      <td>566</td>\n",
       "      <td>12</td>\n",
       "    </tr>\n",
       "    <tr>\n",
       "      <th>69</th>\n",
       "      <td>70</td>\n",
       "      <td>해커스 토익 RC 리딩(Reading)(개정판 8판)</td>\n",
       "      <td>David Cho</td>\n",
       "      <td>해커스어학연구소</td>\n",
       "      <td>2020-03-02</td>\n",
       "      <td>외국어</td>\n",
       "      <td>18800</td>\n",
       "      <td>800</td>\n",
       "      <td>12</td>\n",
       "    </tr>\n",
       "    <tr>\n",
       "      <th>89</th>\n",
       "      <td>90</td>\n",
       "      <td>해커스 토익 LC 리스닝(Listening)(개정판 8판)</td>\n",
       "      <td>David Cho</td>\n",
       "      <td>해커스어학연구소</td>\n",
       "      <td>2020-03-18</td>\n",
       "      <td>외국어</td>\n",
       "      <td>18800</td>\n",
       "      <td>626</td>\n",
       "      <td>12</td>\n",
       "    </tr>\n",
       "    <tr>\n",
       "      <th>141</th>\n",
       "      <td>142</td>\n",
       "      <td>해커스 보카(Hackers Vocabulary)(개정판 2판)</td>\n",
       "      <td>David Cho</td>\n",
       "      <td>해커스어학연구소</td>\n",
       "      <td>2015-07-01</td>\n",
       "      <td>외국어</td>\n",
       "      <td>16900</td>\n",
       "      <td>366</td>\n",
       "      <td>12</td>\n",
       "    </tr>\n",
       "    <tr>\n",
       "      <th>192</th>\n",
       "      <td>193</td>\n",
       "      <td>해커스 토익 스타트 리딩(Reading) RC(개정판 4판)</td>\n",
       "      <td>David Cho</td>\n",
       "      <td>해커스어학연구소</td>\n",
       "      <td>2020-02-20</td>\n",
       "      <td>외국어</td>\n",
       "      <td>14900</td>\n",
       "      <td>580</td>\n",
       "      <td>12</td>\n",
       "    </tr>\n",
       "    <tr>\n",
       "      <th>210</th>\n",
       "      <td>70</td>\n",
       "      <td>해커스 토익 스타트 리스닝(Listening) LC(개정판 4판)</td>\n",
       "      <td>David Cho</td>\n",
       "      <td>해커스어학연구소</td>\n",
       "      <td>2020-03-09</td>\n",
       "      <td>외국어</td>\n",
       "      <td>14900</td>\n",
       "      <td>572</td>\n",
       "      <td>1</td>\n",
       "    </tr>\n",
       "    <tr>\n",
       "      <th>232</th>\n",
       "      <td>140</td>\n",
       "      <td>해커스 토익스피킹(토스) Start(2주 만에 끝내는)(개정판 4판)</td>\n",
       "      <td>David Cho</td>\n",
       "      <td>해커스어학연구소</td>\n",
       "      <td>2020-01-06</td>\n",
       "      <td>외국어</td>\n",
       "      <td>19800</td>\n",
       "      <td>552</td>\n",
       "      <td>1</td>\n",
       "    </tr>\n",
       "    <tr>\n",
       "      <th>240</th>\n",
       "      <td>161</td>\n",
       "      <td>해커스 토플 리딩(Hackers TOEFL Reading)</td>\n",
       "      <td>David Cho</td>\n",
       "      <td>해커스어학연구소</td>\n",
       "      <td>2019-08-01</td>\n",
       "      <td>외국어</td>\n",
       "      <td>23900</td>\n",
       "      <td>544</td>\n",
       "      <td>1</td>\n",
       "    </tr>\n",
       "    <tr>\n",
       "      <th>245</th>\n",
       "      <td>177</td>\n",
       "      <td>해커스 토익 중급 리딩(Hackers TOEIC Reading)(신토익 Editio...</td>\n",
       "      <td>David Cho</td>\n",
       "      <td>해커스어학연구소</td>\n",
       "      <td>2020-05-22</td>\n",
       "      <td>외국어</td>\n",
       "      <td>14900</td>\n",
       "      <td>504</td>\n",
       "      <td>1</td>\n",
       "    </tr>\n",
       "    <tr>\n",
       "      <th>251</th>\n",
       "      <td>186</td>\n",
       "      <td>해커스 뉴텝스(New TEPS) 기출 보카</td>\n",
       "      <td>David Cho</td>\n",
       "      <td>해커스어학연구소</td>\n",
       "      <td>2018-10-17</td>\n",
       "      <td>외국어</td>\n",
       "      <td>14900</td>\n",
       "      <td>568</td>\n",
       "      <td>1</td>\n",
       "    </tr>\n",
       "  </tbody>\n",
       "</table>\n",
       "</div>"
      ],
      "text/plain": [
       "      순위                                                도서명        저자명  \\\n",
       "19    20                    해커스 토익 기출 보카 TOEIC VOCA(개정판 5판)  David Cho   \n",
       "69    70                      해커스 토익 RC 리딩(Reading)(개정판 8판)  David Cho   \n",
       "89    90                   해커스 토익 LC 리스닝(Listening)(개정판 8판)  David Cho   \n",
       "141  142                 해커스 보카(Hackers Vocabulary)(개정판 2판)  David Cho   \n",
       "192  193                  해커스 토익 스타트 리딩(Reading) RC(개정판 4판)  David Cho   \n",
       "210   70               해커스 토익 스타트 리스닝(Listening) LC(개정판 4판)  David Cho   \n",
       "232  140             해커스 토익스피킹(토스) Start(2주 만에 끝내는)(개정판 4판)  David Cho   \n",
       "240  161                   해커스 토플 리딩(Hackers TOEFL Reading)  David Cho   \n",
       "245  177  해커스 토익 중급 리딩(Hackers TOEIC Reading)(신토익 Editio...  David Cho   \n",
       "251  186                            해커스 뉴텝스(New TEPS) 기출 보카  David Cho   \n",
       "\n",
       "         출판사명        출간일   분야     정가   쪽수   월  \n",
       "19   해커스어학연구소 2020-03-05  외국어  12900  566  12  \n",
       "69   해커스어학연구소 2020-03-02  외국어  18800  800  12  \n",
       "89   해커스어학연구소 2020-03-18  외국어  18800  626  12  \n",
       "141  해커스어학연구소 2015-07-01  외국어  16900  366  12  \n",
       "192  해커스어학연구소 2020-02-20  외국어  14900  580  12  \n",
       "210  해커스어학연구소 2020-03-09  외국어  14900  572   1  \n",
       "232  해커스어학연구소 2020-01-06  외국어  19800  552   1  \n",
       "240  해커스어학연구소 2019-08-01  외국어  23900  544   1  \n",
       "245  해커스어학연구소 2020-05-22  외국어  14900  504   1  \n",
       "251  해커스어학연구소 2018-10-17  외국어  14900  568   1  "
      ]
     },
     "execution_count": 12,
     "metadata": {},
     "output_type": "execute_result"
    }
   ],
   "source": [
    "d = df1['저자명'] == 'David Cho'\n",
    "d = df1[d]\n",
    "d"
   ]
  },
  {
   "cell_type": "markdown",
   "metadata": {},
   "source": [
    "## 베스트셀러 가격 분포 확인"
   ]
  },
  {
   "cell_type": "code",
   "execution_count": 13,
   "metadata": {
    "scrolled": true
   },
   "outputs": [
    {
     "data": {
      "text/plain": [
       "Text(0, 0.5, 'Relative Frequncy')"
      ]
     },
     "execution_count": 13,
     "metadata": {},
     "output_type": "execute_result"
    },
    {
     "data": {
      "image/png": "[encoded data removed]",
      "text/plain": [
       "<Figure size 432x288 with 1 Axes>"
      ]
     },
     "metadata": {
      "needs_background": "light"
     },
     "output_type": "display_data"
    }
   ],
   "source": [
    "ax = plt.subplot()\n",
    "ax.hist(df1['정가'], bins=50, density=True, color=\"blue\")    # Y축이 상대빈도로, 색깔이 red로 변경함 \n",
    "ax.set_title(\"Histogram of Price\")\n",
    "ax.set_xlabel(\"Price\")\n",
    "ax.set_ylabel(\"Relative Frequncy\")"
   ]
  },
  {
   "cell_type": "markdown",
   "metadata": {},
   "source": [
    "## 베스트셀러 쪽수 분포 확인"
   ]
  },
  {
   "cell_type": "code",
   "execution_count": 14,
   "metadata": {
    "scrolled": false
   },
   "outputs": [
    {
     "data": {
      "text/plain": [
       "Text(0, 0.5, 'Relative Frequncy')"
      ]
     },
     "execution_count": 14,
     "metadata": {},
     "output_type": "execute_result"
    },
    {
     "data": {
      "image/png": "[encoded data removed]",
      "text/plain": [
       "<Figure size 432x288 with 1 Axes>"
      ]
     },
     "metadata": {
      "needs_background": "light"
     },
     "output_type": "display_data"
    }
   ],
   "source": [
    "ax = plt.subplot()\n",
    "ax.hist(df1['쪽수'], bins=50, density=True, color=\"blue\")    # Y축이 상대빈도로, 색깔이 red로 변경함 \n",
    "ax.set_title(\"Histogram of Page\")\n",
    "ax.set_xlabel(\"Page\")\n",
    "ax.set_ylabel(\"Relative Frequncy\")"
   ]
  },
  {
   "cell_type": "markdown",
   "metadata": {},
   "source": [
    "## 정가와 쪽수 산점도"
   ]
  },
  {
   "cell_type": "code",
   "execution_count": 15,
   "metadata": {
    "scrolled": true
   },
   "outputs": [
    {
     "data": {
      "text/plain": [
       "Text(0, 0.5, 'Page')"
      ]
     },
     "execution_count": 15,
     "metadata": {},
     "output_type": "execute_result"
    },
    {
     "data": {
      "image/png": "[encoded data removed]",
      "text/plain": [
       "<Figure size 432x288 with 1 Axes>"
      ]
     },
     "metadata": {
      "needs_background": "light"
     },
     "output_type": "display_data"
    }
   ],
   "source": [
    "fig = plt.figure()\n",
    "ax = fig.add_subplot()\n",
    "ax.scatter(df1['정가'], df1['쪽수'])\n",
    "ax.set_title(\"Scatter plot between Price and Page\")\n",
    "ax.set_xlabel(\"Price\")\n",
    "ax.set_ylabel(\"Page\")"
   ]
  },
  {
   "cell_type": "markdown",
   "metadata": {},
   "source": [
    "## 분야별 베스트셀러 분포 확인"
   ]
  },
  {
   "cell_type": "code",
   "execution_count": 21,
   "metadata": {
    "scrolled": true
   },
   "outputs": [
    {
     "name": "stderr",
     "output_type": "stream",
     "text": [
      "C:\\anaconda3\\lib\\site-packages\\seaborn\\_decorators.py:36: FutureWarning: Pass the following variable as a keyword arg: x. From version 0.12, the only valid positional argument will be `data`, and passing other arguments without an explicit keyword will result in an error or misinterpretation.\n",
      "  warnings.warn(\n"
     ]
    },
    {
     "data": {
      "image/png": "[encoded data removed]",
      "text/plain": [
       "<Figure size 1152x720 with 1 Axes>"
      ]
     },
     "metadata": {
      "needs_background": "light"
     },
     "output_type": "display_data"
    }
   ],
   "source": [
    "plt.figure(figsize = (16,10))\n",
    "sns.countplot(df1['분야'])\n",
    "plt.xticks(rotation = - 45 )\n",
    "plt.show()"
   ]
  },
  {
   "cell_type": "markdown",
   "metadata": {},
   "source": [
    "## 정가와 쪽수가 선형 관계인지 확인해보기"
   ]
  },
  {
   "cell_type": "code",
   "execution_count": 22,
   "metadata": {},
   "outputs": [],
   "source": [
    "from statsmodels.formula.api import ols\n",
    "from sklearn.linear_model import LinearRegression"
   ]
  },
  {
   "cell_type": "code",
   "execution_count": 26,
   "metadata": {},
   "outputs": [],
   "source": [
    "fit = ols('정가 ~ 쪽수',data=df1).fit()"
   ]
  },
  {
   "cell_type": "markdown",
   "metadata": {},
   "source": [
    "### 모델 확인"
   ]
  },
  {
   "cell_type": "code",
   "execution_count": 27,
   "metadata": {
    "scrolled": true
   },
   "outputs": [
    {
     "data": {
      "text/html": [
       "<table class=\"simpletable\">\n",
       "<caption>OLS Regression Results</caption>\n",
       "<tr>\n",
       "  <th>Dep. Variable:</th>           <td>정가</td>        <th>  R-squared:         </th> <td>   0.437</td> \n",
       "</tr>\n",
       "<tr>\n",
       "  <th>Model:</th>                   <td>OLS</td>       <th>  Adj. R-squared:    </th> <td>   0.436</td> \n",
       "</tr>\n",
       "<tr>\n",
       "  <th>Method:</th>             <td>Least Squares</td>  <th>  F-statistic:       </th> <td>   687.3</td> \n",
       "</tr>\n",
       "<tr>\n",
       "  <th>Date:</th>             <td>Mon, 08 Feb 2021</td> <th>  Prob (F-statistic):</th> <td>1.26e-112</td>\n",
       "</tr>\n",
       "<tr>\n",
       "  <th>Time:</th>                 <td>10:48:15</td>     <th>  Log-Likelihood:    </th> <td> -8485.1</td> \n",
       "</tr>\n",
       "<tr>\n",
       "  <th>No. Observations:</th>      <td>   889</td>      <th>  AIC:               </th> <td>1.697e+04</td>\n",
       "</tr>\n",
       "<tr>\n",
       "  <th>Df Residuals:</th>          <td>   887</td>      <th>  BIC:               </th> <td>1.698e+04</td>\n",
       "</tr>\n",
       "<tr>\n",
       "  <th>Df Model:</th>              <td>     1</td>      <th>                     </th>     <td> </td>    \n",
       "</tr>\n",
       "<tr>\n",
       "  <th>Covariance Type:</th>      <td>nonrobust</td>    <th>                     </th>     <td> </td>    \n",
       "</tr>\n",
       "</table>\n",
       "<table class=\"simpletable\">\n",
       "<tr>\n",
       "      <td></td>         <th>coef</th>     <th>std err</th>      <th>t</th>      <th>P>|t|</th>  <th>[0.025</th>    <th>0.975]</th>  \n",
       "</tr>\n",
       "<tr>\n",
       "  <th>Intercept</th> <td> 9013.5419</td> <td>  271.510</td> <td>   33.198</td> <td> 0.000</td> <td> 8480.664</td> <td> 9546.420</td>\n",
       "</tr>\n",
       "<tr>\n",
       "  <th>쪽수</th>        <td>   20.4583</td> <td>    0.780</td> <td>   26.217</td> <td> 0.000</td> <td>   18.927</td> <td>   21.990</td>\n",
       "</tr>\n",
       "</table>\n",
       "<table class=\"simpletable\">\n",
       "<tr>\n",
       "  <th>Omnibus:</th>       <td>146.200</td> <th>  Durbin-Watson:     </th> <td>   1.870</td>\n",
       "</tr>\n",
       "<tr>\n",
       "  <th>Prob(Omnibus):</th> <td> 0.000</td>  <th>  Jarque-Bera (JB):  </th> <td>1641.696</td>\n",
       "</tr>\n",
       "<tr>\n",
       "  <th>Skew:</th>          <td> 0.346</td>  <th>  Prob(JB):          </th> <td>    0.00</td>\n",
       "</tr>\n",
       "<tr>\n",
       "  <th>Kurtosis:</th>      <td> 9.621</td>  <th>  Cond. No.          </th> <td>    832.</td>\n",
       "</tr>\n",
       "</table><br/><br/>Notes:<br/>[1] Standard Errors assume that the covariance matrix of the errors is correctly specified."
      ],
      "text/plain": [
       "<class 'statsmodels.iolib.summary.Summary'>\n",
       "\"\"\"\n",
       "                            OLS Regression Results                            \n",
       "==============================================================================\n",
       "Dep. Variable:                     정가   R-squared:                       0.437\n",
       "Model:                            OLS   Adj. R-squared:                  0.436\n",
       "Method:                 Least Squares   F-statistic:                     687.3\n",
       "Date:                Mon, 08 Feb 2021   Prob (F-statistic):          1.26e-112\n",
       "Time:                        10:48:15   Log-Likelihood:                -8485.1\n",
       "No. Observations:                 889   AIC:                         1.697e+04\n",
       "Df Residuals:                     887   BIC:                         1.698e+04\n",
       "Df Model:                           1                                         \n",
       "Covariance Type:            nonrobust                                         \n",
       "==============================================================================\n",
       "                 coef    std err          t      P>|t|      [0.025      0.975]\n",
       "------------------------------------------------------------------------------\n",
       "Intercept   9013.5419    271.510     33.198      0.000    8480.664    9546.420\n",
       "쪽수            20.4583      0.780     26.217      0.000      18.927      21.990\n",
       "==============================================================================\n",
       "Omnibus:                      146.200   Durbin-Watson:                   1.870\n",
       "Prob(Omnibus):                  0.000   Jarque-Bera (JB):             1641.696\n",
       "Skew:                           0.346   Prob(JB):                         0.00\n",
       "Kurtosis:                       9.621   Cond. No.                         832.\n",
       "==============================================================================\n",
       "\n",
       "Notes:\n",
       "[1] Standard Errors assume that the covariance matrix of the errors is correctly specified.\n",
       "\"\"\""
      ]
     },
     "execution_count": 27,
     "metadata": {},
     "output_type": "execute_result"
    }
   ],
   "source": [
    "fit.summary()"
   ]
  },
  {
   "cell_type": "code",
   "execution_count": 28,
   "metadata": {},
   "outputs": [],
   "source": [
    "resid = fit.resid"
   ]
  },
  {
   "cell_type": "code",
   "execution_count": 36,
   "metadata": {},
   "outputs": [],
   "source": [
    "fitted = fit.predict(df1)"
   ]
  },
  {
   "cell_type": "markdown",
   "metadata": {},
   "source": [
    "### 잔차"
   ]
  },
  {
   "cell_type": "code",
   "execution_count": 29,
   "metadata": {
    "scrolled": true
   },
   "outputs": [
    {
     "data": {
      "text/plain": [
       "0      -178.859377\n",
       "1     -1033.194686\n",
       "2      -587.199769\n",
       "3      1089.224874\n",
       "4      1685.302349\n",
       "          ...     \n",
       "884     621.470851\n",
       "885     167.300655\n",
       "886    1965.999846\n",
       "887    5012.635117\n",
       "888     439.802772\n",
       "Length: 889, dtype: float64"
      ]
     },
     "execution_count": 29,
     "metadata": {},
     "output_type": "execute_result"
    }
   ],
   "source": [
    "resid"
   ]
  },
  {
   "cell_type": "markdown",
   "metadata": {},
   "source": [
    "### qq-plot"
   ]
  },
  {
   "cell_type": "code",
   "execution_count": 30,
   "metadata": {},
   "outputs": [
    {
     "data": {
      "image/png": "[encoded data removed]",
      "text/plain": [
       "<Figure size 720x288 with 1 Axes>"
      ]
     },
     "metadata": {
      "needs_background": "light"
     },
     "output_type": "display_data"
    }
   ],
   "source": [
    "from scipy.stats import probplot\n",
    "plt.figure()\n",
    "probplot(resid, plot=plt)\n",
    "plt.show()"
   ]
  },
  {
   "cell_type": "markdown",
   "metadata": {},
   "source": [
    "### shapiro 테스트(p-value가 0.05보다 커야 정규성 만족)"
   ]
  },
  {
   "cell_type": "code",
   "execution_count": 42,
   "metadata": {},
   "outputs": [
    {
     "data": {
      "text/plain": [
       "ShapiroResult(statistic=0.8819159865379333, pvalue=1.906000482952475e-25)"
      ]
     },
     "execution_count": 42,
     "metadata": {},
     "output_type": "execute_result"
    }
   ],
   "source": [
    "from scipy import stats\n",
    "import scipy.stats\n",
    "stats.shapiro(resid)"
   ]
  },
  {
   "cell_type": "code",
   "execution_count": 37,
   "metadata": {
    "scrolled": true
   },
   "outputs": [
    {
     "data": {
      "text/plain": [
       "[<matplotlib.lines.Line2D at 0x240c8b09610>]"
      ]
     },
     "execution_count": 37,
     "metadata": {},
     "output_type": "execute_result"
    },
    {
     "data": {
      "image/png": "[encoded data removed]",
      "text/plain": [
       "<Figure size 720x288 with 1 Axes>"
      ]
     },
     "metadata": {
      "needs_background": "light"
     },
     "output_type": "display_data"
    }
   ],
   "source": [
    "sns.regplot(fitted, resid, lowess=True, line_kws={'color': 'red'})\n",
    "plt.plot([fitted.min(), fitted.max()], [0, 0], '--', color='grey')"
   ]
  },
  {
   "cell_type": "code",
   "execution_count": 44,
   "metadata": {},
   "outputs": [],
   "source": [
    "sr = scipy.stats.zscore(resid)"
   ]
  },
  {
   "cell_type": "code",
   "execution_count": 45,
   "metadata": {},
   "outputs": [
    {
     "name": "stderr",
     "output_type": "stream",
     "text": [
      "C:\\anaconda3\\lib\\site-packages\\seaborn\\_decorators.py:36: FutureWarning: Pass the following variables as keyword args: x, y. From version 0.12, the only valid positional argument will be `data`, and passing other arguments without an explicit keyword will result in an error or misinterpretation.\n",
      "  warnings.warn(\n"
     ]
    },
    {
     "data": {
      "text/plain": [
       "<AxesSubplot:>"
      ]
     },
     "execution_count": 45,
     "metadata": {},
     "output_type": "execute_result"
    },
    {
     "data": {
      "image/png": "[encoded data removed]",
      "text/plain": [
       "<Figure size 720x288 with 1 Axes>"
      ]
     },
     "metadata": {
      "needs_background": "light"
     },
     "output_type": "display_data"
    }
   ],
   "source": [
    "sns.regplot(fitted, np.sqrt(np.abs(sr)), lowess=True, line_kws={'color': 'red'})"
   ]
  },
  {
   "cell_type": "code",
   "execution_count": null,
   "metadata": {},
   "outputs": [],
   "source": []
  }
 ],
 "metadata": {
  "kernelspec": {
   "display_name": "Python 3",
   "language": "python",
   "name": "python3"
  },
  "language_info": {
   "codemirror_mode": {
    "name": "ipython",
    "version": 3
   },
   "file_extension": ".py",
   "mimetype": "text/x-python",
   "name": "python",
   "nbconvert_exporter": "python",
   "pygments_lexer": "ipython3",
   "version": "3.8.5"
  }
 },
 "nbformat": 4,
 "nbformat_minor": 4
}
