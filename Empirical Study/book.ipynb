{
 "cells": [
  {
   "cell_type": "markdown",
   "metadata": {},
   "source": [
    "# 0. 파일 정리, 사전 준비"
   ]
  },
  {
   "cell_type": "markdown",
   "metadata": {},
   "source": [
    "### 필요한 패키지 임포트"
   ]
  },
  {
   "cell_type": "code",
   "execution_count": 1,
   "metadata": {
    "scrolled": true
   },
   "outputs": [],
   "source": [
    "import numpy as np                      # 수식, 수학 등 숫자 관련 연산에 필요한 numpy 패키지\n",
    "import pandas as pd                     # 데이터를 다루기 위한 pandas 패키지\n",
    "import matplotlib.pyplot as plt         # 그래프 등 그림을 그리기 위한 matplotlib 패키지\n",
    "%matplotlib inline                       \n",
    "import seaborn as sns                   # 그래프를 좀 더 이쁘게 그려줌. matplotlib랑 항상 같이 써야함\n",
    "import datetime                         # 시간, 날짜, 달력 계산 패키지 datetime\n",
    "import warnings\n",
    "warnings.filterwarnings(action='ignore') # 코드 실행시 문제가 없지만 주의 문구가 나오는 것을 무시하도록 함"
   ]
  },
  {
   "cell_type": "markdown",
   "metadata": {},
   "source": [
    "### 그래프를 그릴 때 한글 폰트가 깨지지 않게끔 출력하도록 함"
   ]
  },
  {
   "cell_type": "code",
   "execution_count": 2,
   "metadata": {
    "scrolled": true
   },
   "outputs": [],
   "source": [
    "plt.rcParams['font.family'] = 'Malgun Gothic'     # 한글 폰트를 '맑은 고딕' 으로 지정\n",
    "plt.rc('axes', unicode_minus = False)            # ' - ' 음수 표기에서 에러가 없도록 함"
   ]
  },
  {
   "cell_type": "markdown",
   "metadata": {},
   "source": [
    "### 각각의 엑셀 파일을 읽어들여 변수로 저장"
   ]
  },
  {
   "cell_type": "code",
   "execution_count": 3,
   "metadata": {
    "scrolled": true
   },
   "outputs": [
    {
     "data": {
      "text/plain": [
       "\"\\ndec = pd.read_excel('C:/Users/ST-USER/Desktop/1월 발제/data/12월.xlsx')    # 파일이 저장된 경로는 당연하게 컴퓨터 마다 다름\\njan = pd.read_excel('C:/Users/ST-USER/Desktop/1월 발제/data/1월.xlsx')\\nfeb = pd.read_excel('C:/Users/ST-USER/Desktop/1월 발제/data/2월.xlsx')\\nmar = pd.read_excel('C:/Users/ST-USER/Desktop/1월 발제/data/3월.xlsx')\\napr = pd.read_excel('C:/Users/ST-USER/Desktop/1월 발제/data/4월.xlsx')\\nmay = pd.read_excel('C:/Users/ST-USER/Desktop/1월 발제/data/5월.xlsx')\\njun = pd.read_excel('C:/Users/ST-USER/Desktop/1월 발제/data/6월.xlsx')\\njul = pd.read_excel('C:/Users/ST-USER/Desktop/1월 발제/data/7월.xlsx')\\naug = pd.read_excel('C:/Users/ST-USER/Desktop/1월 발제/data/8월.xlsx')\\nsep = pd.read_excel('C:/Users/ST-USER/Desktop/1월 발제/data/9월.xlsx')\\noctb = pd.read_excel('C:/Users/ST-USER/Desktop/1월 발제/data/10월.xlsx')\\nnov = pd.read_excel('C:/Users/ST-USER/Desktop/1월 발제/data/11월.xlsx')\\n\""
      ]
     },
     "execution_count": 3,
     "metadata": {},
     "output_type": "execute_result"
    }
   ],
   "source": [
    "\"\"\"\n",
    "dec = pd.read_excel('C:/Users/ST-USER/Desktop/1월 발제/data/12월.xlsx')    # 파일이 저장된 경로는 당연하게 컴퓨터 마다 다름\n",
    "jan = pd.read_excel('C:/Users/ST-USER/Desktop/1월 발제/data/1월.xlsx')\n",
    "feb = pd.read_excel('C:/Users/ST-USER/Desktop/1월 발제/data/2월.xlsx')\n",
    "mar = pd.read_excel('C:/Users/ST-USER/Desktop/1월 발제/data/3월.xlsx')\n",
    "apr = pd.read_excel('C:/Users/ST-USER/Desktop/1월 발제/data/4월.xlsx')\n",
    "may = pd.read_excel('C:/Users/ST-USER/Desktop/1월 발제/data/5월.xlsx')\n",
    "jun = pd.read_excel('C:/Users/ST-USER/Desktop/1월 발제/data/6월.xlsx')\n",
    "jul = pd.read_excel('C:/Users/ST-USER/Desktop/1월 발제/data/7월.xlsx')\n",
    "aug = pd.read_excel('C:/Users/ST-USER/Desktop/1월 발제/data/8월.xlsx')\n",
    "sep = pd.read_excel('C:/Users/ST-USER/Desktop/1월 발제/data/9월.xlsx')\n",
    "octb = pd.read_excel('C:/Users/ST-USER/Desktop/1월 발제/data/10월.xlsx')\n",
    "nov = pd.read_excel('C:/Users/ST-USER/Desktop/1월 발제/data/11월.xlsx')\n",
    "\"\"\""
   ]
  },
  {
   "cell_type": "markdown",
   "metadata": {},
   "source": [
    "### 여러개의 엑셀 파일을 하나로 병합하고 병합한 엑셀 파일을 저장"
   ]
  },
  {
   "cell_type": "code",
   "execution_count": 4,
   "metadata": {
    "scrolled": true
   },
   "outputs": [
    {
     "data": {
      "text/plain": [
       "'\\nexcel_names = [\\'12월.xlsx\\', \\'1월.xlsx\\', \\'2월.xlsx\\',\\'3월.xlsx\\', \\'4월.xlsx\\', \\'5월.xlsx\\',\\'6월.xlsx\\', \\'7월.xlsx\\', \\'8월.xlsx\\',\\'9월.xlsx\\', \\'10월.xlsx\\', \\'11월.xlsx\\']  \\nexcels = [pd.ExcelFile(name) for name in excel_names]  \\nframes = [x.parse(x.sheet_names[0], header=None,index_col=None) for x in excels]  \\nframes[1:] = [df[1:] for df in frames[1:]]  \\ndata = pd.concat(frames)\\n\\ndata.to_excel(\"C:/Users/ST-USER/Desktop/1월 발제/data/data.xlsx\", header=False, index=False)\\n'"
      ]
     },
     "execution_count": 4,
     "metadata": {},
     "output_type": "execute_result"
    }
   ],
   "source": [
    "\"\"\"\n",
    "excel_names = ['12월.xlsx', '1월.xlsx', '2월.xlsx','3월.xlsx', '4월.xlsx', '5월.xlsx','6월.xlsx', '7월.xlsx', '8월.xlsx','9월.xlsx', '10월.xlsx', '11월.xlsx']  \n",
    "excels = [pd.ExcelFile(name) for name in excel_names]  \n",
    "frames = [x.parse(x.sheet_names[0], header=None,index_col=None) for x in excels]  \n",
    "frames[1:] = [df[1:] for df in frames[1:]]  \n",
    "data = pd.concat(frames)\n",
    "\n",
    "data.to_excel(\"C:/Users/ST-USER/Desktop/1월 발제/data/data.xlsx\", header=False, index=False)\n",
    "\"\"\""
   ]
  },
  {
   "cell_type": "markdown",
   "metadata": {},
   "source": [
    "### 엑셀 파일의 맨 윗줄을 변수명으로 지정함 "
   ]
  },
  {
   "cell_type": "code",
   "execution_count": 5,
   "metadata": {
    "scrolled": true
   },
   "outputs": [
    {
     "data": {
      "text/plain": [
       "'\\ndata = data.rename(columns=data.iloc[0])\\ndata = data.drop(data.index[[0]])\\ndata\\n'"
      ]
     },
     "execution_count": 5,
     "metadata": {},
     "output_type": "execute_result"
    }
   ],
   "source": [
    "\"\"\"\n",
    "data = data.rename(columns=data.iloc[0])\n",
    "data = data.drop(data.index[[0]])\n",
    "data\n",
    "\"\"\""
   ]
  },
  {
   "cell_type": "markdown",
   "metadata": {},
   "source": [
    "# 1. 데이터의 기초 정보 확인"
   ]
  },
  {
   "cell_type": "markdown",
   "metadata": {},
   "source": [
    "### 엑셀 파일을 경로에서 읽어들여 변수로 저장\n",
    "**경로 지정시 폴더에서 복붙하면 \\ (원 표시)로 구분되어 있을텐데 / 로 바꿔줘야 함**"
   ]
  },
  {
   "cell_type": "code",
   "execution_count": 6,
   "metadata": {
    "scrolled": true
   },
   "outputs": [],
   "source": [
    "df = pd.read_excel('C:/Users/ST-USER/Desktop/book/data/data.xlsx')  # 경로 지정시 폴더에서 복붙하면 \\ 로 구분되어 있을텐데 / 로 바꿔줘야 함"
   ]
  },
  {
   "cell_type": "code",
   "execution_count": 7,
   "metadata": {
    "scrolled": true
   },
   "outputs": [
    {
     "name": "stdout",
     "output_type": "stream",
     "text": [
      "<class 'pandas.core.frame.DataFrame'>\n",
      "RangeIndex: 2400 entries, 0 to 2399\n",
      "Data columns (total 9 columns):\n",
      " #   Column  Non-Null Count  Dtype         \n",
      "---  ------  --------------  -----         \n",
      " 0   순위      2400 non-null   int64         \n",
      " 1   도서명     2400 non-null   object        \n",
      " 2   저자명     2400 non-null   object        \n",
      " 3   출판사명    2400 non-null   object        \n",
      " 4   출간일     2400 non-null   datetime64[ns]\n",
      " 5   분야      2400 non-null   object        \n",
      " 6   정가      2400 non-null   int64         \n",
      " 7   쪽수      2400 non-null   int64         \n",
      " 8   월       2400 non-null   int64         \n",
      "dtypes: datetime64[ns](1), int64(4), object(4)\n",
      "memory usage: 168.9+ KB\n"
     ]
    }
   ],
   "source": [
    "df.info()  # 해당 엑셀 파일의 기본 정보"
   ]
  },
  {
   "cell_type": "markdown",
   "metadata": {},
   "source": [
    "**총 9개의 변수가 존재함을 확인할 수 있다.**\n",
    "\n",
    "\n",
    "**매 월 200권씩 12개월이니 총 2400개의 정보가 존재한다.**"
   ]
  },
  {
   "cell_type": "markdown",
   "metadata": {},
   "source": [
    "**df: 데이터프레임 dataframe 의 약자. 보통 관습적으로 첫 변수명은 이렇게 사용함**"
   ]
  },
  {
   "cell_type": "code",
   "execution_count": 8,
   "metadata": {
    "scrolled": false
   },
   "outputs": [
    {
     "data": {
      "text/html": [
       "<div>\n",
       "<style scoped>\n",
       "    .dataframe tbody tr th:only-of-type {\n",
       "        vertical-align: middle;\n",
       "    }\n",
       "\n",
       "    .dataframe tbody tr th {\n",
       "        vertical-align: top;\n",
       "    }\n",
       "\n",
       "    .dataframe thead th {\n",
       "        text-align: right;\n",
       "    }\n",
       "</style>\n",
       "<table border=\"1\" class=\"dataframe\">\n",
       "  <thead>\n",
       "    <tr style=\"text-align: right;\">\n",
       "      <th></th>\n",
       "      <th>순위</th>\n",
       "      <th>도서명</th>\n",
       "      <th>저자명</th>\n",
       "      <th>출판사명</th>\n",
       "      <th>출간일</th>\n",
       "      <th>분야</th>\n",
       "      <th>정가</th>\n",
       "      <th>쪽수</th>\n",
       "      <th>월</th>\n",
       "    </tr>\n",
       "  </thead>\n",
       "  <tbody>\n",
       "    <tr>\n",
       "      <th>0</th>\n",
       "      <td>1</td>\n",
       "      <td>트렌드 코리아 2020</td>\n",
       "      <td>김난도</td>\n",
       "      <td>미래의창</td>\n",
       "      <td>2019-10-24</td>\n",
       "      <td>경제/경영</td>\n",
       "      <td>18000</td>\n",
       "      <td>448</td>\n",
       "      <td>12</td>\n",
       "    </tr>\n",
       "    <tr>\n",
       "      <th>1</th>\n",
       "      <td>2</td>\n",
       "      <td>1일 1페이지, 세상에서 가장 짧은 교양 수업 365</td>\n",
       "      <td>데이비드 S. 키더</td>\n",
       "      <td>위즈덤하우스</td>\n",
       "      <td>2019-10-30</td>\n",
       "      <td>인문</td>\n",
       "      <td>16000</td>\n",
       "      <td>392</td>\n",
       "      <td>12</td>\n",
       "    </tr>\n",
       "    <tr>\n",
       "      <th>2</th>\n",
       "      <td>3</td>\n",
       "      <td>지쳤거나 좋아하는 게 없거나</td>\n",
       "      <td>글배우</td>\n",
       "      <td>강한별</td>\n",
       "      <td>2019-09-04</td>\n",
       "      <td>시/에세이</td>\n",
       "      <td>13500</td>\n",
       "      <td>248</td>\n",
       "      <td>12</td>\n",
       "    </tr>\n",
       "    <tr>\n",
       "      <th>3</th>\n",
       "      <td>4</td>\n",
       "      <td>팩트풀니스(양장본 HardCover)</td>\n",
       "      <td>한스 로슬링</td>\n",
       "      <td>김영사</td>\n",
       "      <td>2019-03-10</td>\n",
       "      <td>인문</td>\n",
       "      <td>19800</td>\n",
       "      <td>474</td>\n",
       "      <td>12</td>\n",
       "    </tr>\n",
       "    <tr>\n",
       "      <th>4</th>\n",
       "      <td>5</td>\n",
       "      <td>에이트(양장본 HardCover)</td>\n",
       "      <td>이지성</td>\n",
       "      <td>차이정원</td>\n",
       "      <td>2019-10-21</td>\n",
       "      <td>자기계발</td>\n",
       "      <td>17000</td>\n",
       "      <td>308</td>\n",
       "      <td>12</td>\n",
       "    </tr>\n",
       "    <tr>\n",
       "      <th>...</th>\n",
       "      <td>...</td>\n",
       "      <td>...</td>\n",
       "      <td>...</td>\n",
       "      <td>...</td>\n",
       "      <td>...</td>\n",
       "      <td>...</td>\n",
       "      <td>...</td>\n",
       "      <td>...</td>\n",
       "      <td>...</td>\n",
       "    </tr>\n",
       "    <tr>\n",
       "      <th>2395</th>\n",
       "      <td>196</td>\n",
       "      <td>해커스 토익 700+ LC+RC(한 권으로 끝내는)</td>\n",
       "      <td>해커스 어학연구소</td>\n",
       "      <td>해커스어학연구소</td>\n",
       "      <td>2020-04-17</td>\n",
       "      <td>외국어</td>\n",
       "      <td>19500</td>\n",
       "      <td>596</td>\n",
       "      <td>11</td>\n",
       "    </tr>\n",
       "    <tr>\n",
       "      <th>2396</th>\n",
       "      <td>197</td>\n",
       "      <td>인간 실격(세계문학전집 103)</td>\n",
       "      <td>다자이 오사무</td>\n",
       "      <td>민음사</td>\n",
       "      <td>2012-04-10</td>\n",
       "      <td>소설</td>\n",
       "      <td>8000</td>\n",
       "      <td>192</td>\n",
       "      <td>11</td>\n",
       "    </tr>\n",
       "    <tr>\n",
       "      <th>2397</th>\n",
       "      <td>198</td>\n",
       "      <td>주식 네 이놈. 2: 기법편</td>\n",
       "      <td>문제룡</td>\n",
       "      <td>지서연</td>\n",
       "      <td>2020-11-21</td>\n",
       "      <td>경제/경영</td>\n",
       "      <td>20000</td>\n",
       "      <td>292</td>\n",
       "      <td>11</td>\n",
       "    </tr>\n",
       "    <tr>\n",
       "      <th>2398</th>\n",
       "      <td>199</td>\n",
       "      <td>어린이 명심보감(읽으면서 바로 써먹는)(맛있는 공부 33)</td>\n",
       "      <td>한날</td>\n",
       "      <td>파란정원</td>\n",
       "      <td>2020-09-15</td>\n",
       "      <td>어린이(초등)</td>\n",
       "      <td>12000</td>\n",
       "      <td>224</td>\n",
       "      <td>11</td>\n",
       "    </tr>\n",
       "    <tr>\n",
       "      <th>2399</th>\n",
       "      <td>200</td>\n",
       "      <td>오은영의 화해</td>\n",
       "      <td>오은영</td>\n",
       "      <td>코리아닷컴</td>\n",
       "      <td>2019-01-10</td>\n",
       "      <td>자기계발</td>\n",
       "      <td>16000</td>\n",
       "      <td>320</td>\n",
       "      <td>11</td>\n",
       "    </tr>\n",
       "  </tbody>\n",
       "</table>\n",
       "<p>2400 rows × 9 columns</p>\n",
       "</div>"
      ],
      "text/plain": [
       "       순위                               도서명         저자명      출판사명        출간일  \\\n",
       "0       1                      트렌드 코리아 2020         김난도      미래의창 2019-10-24   \n",
       "1       2     1일 1페이지, 세상에서 가장 짧은 교양 수업 365  데이비드 S. 키더    위즈덤하우스 2019-10-30   \n",
       "2       3                   지쳤거나 좋아하는 게 없거나         글배우       강한별 2019-09-04   \n",
       "3       4              팩트풀니스(양장본 HardCover)      한스 로슬링       김영사 2019-03-10   \n",
       "4       5                에이트(양장본 HardCover)         이지성      차이정원 2019-10-21   \n",
       "...   ...                               ...         ...       ...        ...   \n",
       "2395  196      해커스 토익 700+ LC+RC(한 권으로 끝내는)   해커스 어학연구소  해커스어학연구소 2020-04-17   \n",
       "2396  197                 인간 실격(세계문학전집 103)     다자이 오사무       민음사 2012-04-10   \n",
       "2397  198                   주식 네 이놈. 2: 기법편         문제룡       지서연 2020-11-21   \n",
       "2398  199  어린이 명심보감(읽으면서 바로 써먹는)(맛있는 공부 33)          한날      파란정원 2020-09-15   \n",
       "2399  200                           오은영의 화해         오은영     코리아닷컴 2019-01-10   \n",
       "\n",
       "           분야     정가   쪽수   월  \n",
       "0       경제/경영  18000  448  12  \n",
       "1          인문  16000  392  12  \n",
       "2       시/에세이  13500  248  12  \n",
       "3          인문  19800  474  12  \n",
       "4        자기계발  17000  308  12  \n",
       "...       ...    ...  ...  ..  \n",
       "2395      외국어  19500  596  11  \n",
       "2396       소설   8000  192  11  \n",
       "2397    경제/경영  20000  292  11  \n",
       "2398  어린이(초등)  12000  224  11  \n",
       "2399     자기계발  16000  320  11  \n",
       "\n",
       "[2400 rows x 9 columns]"
      ]
     },
     "execution_count": 8,
     "metadata": {},
     "output_type": "execute_result"
    }
   ],
   "source": [
    "df  # df: 데이터프레임 dataframe 의 약자. 보통 관습적으로 첫 변수명은 이렇게 사용함"
   ]
  },
  {
   "cell_type": "markdown",
   "metadata": {},
   "source": [
    "**'월' 데이터가 숫자이므로 이것을 카테고리 자료형으로 변환**"
   ]
  },
  {
   "cell_type": "code",
   "execution_count": 9,
   "metadata": {
    "scrolled": true
   },
   "outputs": [],
   "source": [
    "df['월'] = df['월'].astype('category')  # '월' 데이터가 숫자이므로 이것을 카테고리 자료형으로 변환"
   ]
  },
  {
   "cell_type": "markdown",
   "metadata": {},
   "source": [
    "**칼럼 넘버 8의 '월' 의 데이터타입이 int64 에서 category로 바뀐것을 확인 가능**"
   ]
  },
  {
   "cell_type": "code",
   "execution_count": 10,
   "metadata": {
    "scrolled": true
   },
   "outputs": [
    {
     "name": "stdout",
     "output_type": "stream",
     "text": [
      "<class 'pandas.core.frame.DataFrame'>\n",
      "RangeIndex: 2400 entries, 0 to 2399\n",
      "Data columns (total 9 columns):\n",
      " #   Column  Non-Null Count  Dtype         \n",
      "---  ------  --------------  -----         \n",
      " 0   순위      2400 non-null   int64         \n",
      " 1   도서명     2400 non-null   object        \n",
      " 2   저자명     2400 non-null   object        \n",
      " 3   출판사명    2400 non-null   object        \n",
      " 4   출간일     2400 non-null   datetime64[ns]\n",
      " 5   분야      2400 non-null   object        \n",
      " 6   정가      2400 non-null   int64         \n",
      " 7   쪽수      2400 non-null   int64         \n",
      " 8   월       2400 non-null   category      \n",
      "dtypes: category(1), datetime64[ns](1), int64(3), object(4)\n",
      "memory usage: 152.9+ KB\n"
     ]
    }
   ],
   "source": [
    "df.info()  # 칼럼 넘버 8의 '월' 의 데이터타입이 int64 에서 category로 바뀐것을 확인 가능"
   ]
  },
  {
   "cell_type": "markdown",
   "metadata": {},
   "source": [
    "# 2. 탐색적 데이터 분석"
   ]
  },
  {
   "cell_type": "markdown",
   "metadata": {},
   "source": [
    "## 1. 제일 비싼 도서와 제일 저렴한 도서를 확인"
   ]
  },
  {
   "cell_type": "code",
   "execution_count": 11,
   "metadata": {
    "scrolled": true
   },
   "outputs": [
    {
     "data": {
      "text/plain": [
       "도서명\n",
       "금융 위기 템플릿(레이 달리오의)(전3권)                 43000\n",
       "이윤기의 그리스 로마 신화(특별합본판)(양장본 HardCover)    39800\n",
       "유러피언                                    38000\n",
       "자본과 이데올로기(양장본 HardCover)                38000\n",
       "서양미술사                                   38000\n",
       "                                        ...  \n",
       "열혈강호. 81                                 4500\n",
       "소설 보다: 가을 2020                           3500\n",
       "소설 보다: 봄 2020                            3500\n",
       "소설 보다: 여름 2020                           3500\n",
       "부동산과 세금(2020)                            2000\n",
       "Name: 정가, Length: 889, dtype: int64"
      ]
     },
     "execution_count": 11,
     "metadata": {},
     "output_type": "execute_result"
    }
   ],
   "source": [
    "# 제일 비싼 도서와 제일 저렴한 도서\n",
    "bk_cost=df.groupby('도서명')['정가'].mean() \n",
    "bk_cost.sort_values(ascending=False)"
   ]
  },
  {
   "cell_type": "markdown",
   "metadata": {},
   "source": [
    "**가장 비싼 베스트셀러는 43,000원 이고 가장 저렴한 베스트셀러는 2,000원 이다.**"
   ]
  },
  {
   "cell_type": "markdown",
   "metadata": {},
   "source": [
    "## 2. 일년동안 항상 베스트셀러에 포함되어 있던 34권의 책 이름"
   ]
  },
  {
   "cell_type": "code",
   "execution_count": 12,
   "metadata": {
    "scrolled": false
   },
   "outputs": [
    {
     "data": {
      "text/plain": [
       "멋진 신세계                                                      12\n",
       "아몬드(양장본 HardCover)                                          12\n",
       "지쳤거나 좋아하는 게 없거나                                             12\n",
       "해커스 토익 스타트 리딩(Reading) RC(개정판 4판)                           12\n",
       "꽃을 보듯 너를 본다(J.H CLASSIC 2)(양장본 HardCover)                   12\n",
       "선량한 차별주의자                                                   12\n",
       "방구석 미술관                                                     12\n",
       "돌이킬 수 없는 약속                                                 12\n",
       "총 균 쇠                                                       12\n",
       "설민석의 조선왕조실록                                                 12\n",
       "지적 대화를 위한 넓고 얕은 지식: 제로 편                                    12\n",
       "당신이 옳다(40만 부 기념 '한 사람' 리커버)                                 12\n",
       "부자 아빠 가난한 아빠. 1(20주년 특별 기념판)(개정증보판)                         12\n",
       "해커스 토익 RC 리딩(Reading)(개정판 8판)                               12\n",
       "팩트풀니스(양장본 HardCover)                                        12\n",
       "하버드 상위 1퍼센트의 비밀                                             12\n",
       "봉제인형 살인사건                                                   12\n",
       "우리가 빛의 속도로 갈 수 없다면(양장본 HardCover)                           12\n",
       "부의 인문학                                                      12\n",
       "나는 나로 살기로 했다                                                12\n",
       "타이탄의 도구들(리커버 에디션)                                           12\n",
       "부의 추월차선                                                     12\n",
       "해커스 토익 LC 리스닝(Listening)(개정판 8판)                            12\n",
       "사피엔스                                                        12\n",
       "나미야 잡화점의 기적(땡큐 에디션)(양장본 HardCover)                          12\n",
       "아주 작은 습관의 힘                                                 12\n",
       "정의란 무엇인가(마이클 샌델)                                            12\n",
       "12가지 인생의 법칙(30만부 기념 리커버 에디션)                                12\n",
       "언어의 온도(170만부 기념 에디션)                                        12\n",
       "해커스 토익 기출 보카 TOEIC VOCA(개정판 5판)                             12\n",
       "이기적 유전자(40주년 기념판)                                           12\n",
       "데미안(리커버 한정판)(초판본)(1919년 오리지널 초판본 패브릭 에디션)(양장본 HardCover)    12\n",
       "코스모스(보급판)                                                   12\n",
       "Name: 도서명, dtype: int64"
      ]
     },
     "execution_count": 12,
     "metadata": {},
     "output_type": "execute_result"
    }
   ],
   "source": [
    "count_n = df['도서명'].value_counts()  # 해당 칼럼의 서로 다른 값에 대한 개수를 세줌\n",
    "count_n[:33]"
   ]
  },
  {
   "cell_type": "markdown",
   "metadata": {},
   "source": [
    "**1개월도 빠지지 않고 베스트셀러 목록에 이름을 올렸던 책이 34권이나 존재한다.**\n",
    "\n",
    "**상당히 유명한 책들이 이에 해당한다.**\n",
    "\n",
    "**아래 셀에 나오지만 중복을 제거한 베스트셀러는 총 890권 이다.**"
   ]
  },
  {
   "cell_type": "markdown",
   "metadata": {},
   "source": [
    "## 중복을 제거한 데이터프레임을 df1 라는 변수로 저장"
   ]
  },
  {
   "cell_type": "code",
   "execution_count": 13,
   "metadata": {
    "scrolled": false
   },
   "outputs": [
    {
     "data": {
      "text/html": [
       "<div>\n",
       "<style scoped>\n",
       "    .dataframe tbody tr th:only-of-type {\n",
       "        vertical-align: middle;\n",
       "    }\n",
       "\n",
       "    .dataframe tbody tr th {\n",
       "        vertical-align: top;\n",
       "    }\n",
       "\n",
       "    .dataframe thead th {\n",
       "        text-align: right;\n",
       "    }\n",
       "</style>\n",
       "<table border=\"1\" class=\"dataframe\">\n",
       "  <thead>\n",
       "    <tr style=\"text-align: right;\">\n",
       "      <th></th>\n",
       "      <th>순위</th>\n",
       "      <th>도서명</th>\n",
       "      <th>저자명</th>\n",
       "      <th>출판사명</th>\n",
       "      <th>출간일</th>\n",
       "      <th>분야</th>\n",
       "      <th>정가</th>\n",
       "      <th>쪽수</th>\n",
       "      <th>월</th>\n",
       "    </tr>\n",
       "  </thead>\n",
       "  <tbody>\n",
       "    <tr>\n",
       "      <th>0</th>\n",
       "      <td>1</td>\n",
       "      <td>트렌드 코리아 2020</td>\n",
       "      <td>김난도</td>\n",
       "      <td>미래의창</td>\n",
       "      <td>2019-10-24</td>\n",
       "      <td>경제/경영</td>\n",
       "      <td>18000</td>\n",
       "      <td>448</td>\n",
       "      <td>12</td>\n",
       "    </tr>\n",
       "    <tr>\n",
       "      <th>1</th>\n",
       "      <td>2</td>\n",
       "      <td>1일 1페이지, 세상에서 가장 짧은 교양 수업 365</td>\n",
       "      <td>데이비드 S. 키더</td>\n",
       "      <td>위즈덤하우스</td>\n",
       "      <td>2019-10-30</td>\n",
       "      <td>인문</td>\n",
       "      <td>16000</td>\n",
       "      <td>392</td>\n",
       "      <td>12</td>\n",
       "    </tr>\n",
       "    <tr>\n",
       "      <th>2</th>\n",
       "      <td>3</td>\n",
       "      <td>지쳤거나 좋아하는 게 없거나</td>\n",
       "      <td>글배우</td>\n",
       "      <td>강한별</td>\n",
       "      <td>2019-09-04</td>\n",
       "      <td>시/에세이</td>\n",
       "      <td>13500</td>\n",
       "      <td>248</td>\n",
       "      <td>12</td>\n",
       "    </tr>\n",
       "    <tr>\n",
       "      <th>3</th>\n",
       "      <td>4</td>\n",
       "      <td>팩트풀니스(양장본 HardCover)</td>\n",
       "      <td>한스 로슬링</td>\n",
       "      <td>김영사</td>\n",
       "      <td>2019-03-10</td>\n",
       "      <td>인문</td>\n",
       "      <td>19800</td>\n",
       "      <td>474</td>\n",
       "      <td>12</td>\n",
       "    </tr>\n",
       "    <tr>\n",
       "      <th>4</th>\n",
       "      <td>5</td>\n",
       "      <td>에이트(양장본 HardCover)</td>\n",
       "      <td>이지성</td>\n",
       "      <td>차이정원</td>\n",
       "      <td>2019-10-21</td>\n",
       "      <td>자기계발</td>\n",
       "      <td>17000</td>\n",
       "      <td>308</td>\n",
       "      <td>12</td>\n",
       "    </tr>\n",
       "    <tr>\n",
       "      <th>...</th>\n",
       "      <td>...</td>\n",
       "      <td>...</td>\n",
       "      <td>...</td>\n",
       "      <td>...</td>\n",
       "      <td>...</td>\n",
       "      <td>...</td>\n",
       "      <td>...</td>\n",
       "      <td>...</td>\n",
       "      <td>...</td>\n",
       "    </tr>\n",
       "    <tr>\n",
       "      <th>884</th>\n",
       "      <td>184</td>\n",
       "      <td>권력은 사람의 뇌를 바꾼다</td>\n",
       "      <td>강준만</td>\n",
       "      <td>인물과사상사</td>\n",
       "      <td>2020-10-26</td>\n",
       "      <td>정치/사회</td>\n",
       "      <td>17000</td>\n",
       "      <td>360</td>\n",
       "      <td>11</td>\n",
       "    </tr>\n",
       "    <tr>\n",
       "      <th>885</th>\n",
       "      <td>189</td>\n",
       "      <td>시가 나에게 살라고 한다</td>\n",
       "      <td>나태주 (엮음)</td>\n",
       "      <td>&amp;(앤드)</td>\n",
       "      <td>2020-11-10</td>\n",
       "      <td>시/에세이</td>\n",
       "      <td>14500</td>\n",
       "      <td>260</td>\n",
       "      <td>11</td>\n",
       "    </tr>\n",
       "    <tr>\n",
       "      <th>886</th>\n",
       "      <td>191</td>\n",
       "      <td>수상한 이웃집(잠뜰TV 오리지널 스토리북)(양장본 HardCover)</td>\n",
       "      <td>잠뜰TV (원작)</td>\n",
       "      <td>서울문화사</td>\n",
       "      <td>2020-10-29</td>\n",
       "      <td>어린이(초등)</td>\n",
       "      <td>11000</td>\n",
       "      <td>1</td>\n",
       "      <td>11</td>\n",
       "    </tr>\n",
       "    <tr>\n",
       "      <th>887</th>\n",
       "      <td>198</td>\n",
       "      <td>주식 네 이놈. 2: 기법편</td>\n",
       "      <td>문제룡</td>\n",
       "      <td>지서연</td>\n",
       "      <td>2020-11-21</td>\n",
       "      <td>경제/경영</td>\n",
       "      <td>20000</td>\n",
       "      <td>292</td>\n",
       "      <td>11</td>\n",
       "    </tr>\n",
       "    <tr>\n",
       "      <th>888</th>\n",
       "      <td>200</td>\n",
       "      <td>오은영의 화해</td>\n",
       "      <td>오은영</td>\n",
       "      <td>코리아닷컴</td>\n",
       "      <td>2019-01-10</td>\n",
       "      <td>자기계발</td>\n",
       "      <td>16000</td>\n",
       "      <td>320</td>\n",
       "      <td>11</td>\n",
       "    </tr>\n",
       "  </tbody>\n",
       "</table>\n",
       "<p>889 rows × 9 columns</p>\n",
       "</div>"
      ],
      "text/plain": [
       "      순위                                     도서명         저자명    출판사명  \\\n",
       "0      1                            트렌드 코리아 2020         김난도    미래의창   \n",
       "1      2           1일 1페이지, 세상에서 가장 짧은 교양 수업 365  데이비드 S. 키더  위즈덤하우스   \n",
       "2      3                         지쳤거나 좋아하는 게 없거나         글배우     강한별   \n",
       "3      4                    팩트풀니스(양장본 HardCover)      한스 로슬링     김영사   \n",
       "4      5                      에이트(양장본 HardCover)         이지성    차이정원   \n",
       "..   ...                                     ...         ...     ...   \n",
       "884  184                          권력은 사람의 뇌를 바꾼다         강준만  인물과사상사   \n",
       "885  189                           시가 나에게 살라고 한다    나태주 (엮음)   &(앤드)   \n",
       "886  191  수상한 이웃집(잠뜰TV 오리지널 스토리북)(양장본 HardCover)   잠뜰TV (원작)   서울문화사   \n",
       "887  198                         주식 네 이놈. 2: 기법편         문제룡     지서연   \n",
       "888  200                                 오은영의 화해         오은영   코리아닷컴   \n",
       "\n",
       "           출간일       분야     정가   쪽수   월  \n",
       "0   2019-10-24    경제/경영  18000  448  12  \n",
       "1   2019-10-30       인문  16000  392  12  \n",
       "2   2019-09-04    시/에세이  13500  248  12  \n",
       "3   2019-03-10       인문  19800  474  12  \n",
       "4   2019-10-21     자기계발  17000  308  12  \n",
       "..         ...      ...    ...  ...  ..  \n",
       "884 2020-10-26    정치/사회  17000  360  11  \n",
       "885 2020-11-10    시/에세이  14500  260  11  \n",
       "886 2020-10-29  어린이(초등)  11000    1  11  \n",
       "887 2020-11-21    경제/경영  20000  292  11  \n",
       "888 2019-01-10     자기계발  16000  320  11  \n",
       "\n",
       "[889 rows x 9 columns]"
      ]
     },
     "execution_count": 13,
     "metadata": {},
     "output_type": "execute_result"
    }
   ],
   "source": [
    "df1 = df.drop_duplicates(['도서명'], ignore_index = True, keep = \"first\")\n",
    "df1"
   ]
  },
  {
   "cell_type": "markdown",
   "metadata": {},
   "source": [
    "**중복 제거가 필요한 이유:\n",
    " 분석에 따라 중복을 허용해야 하는 경우가 있고, 중복을 제거해야 하는 경우가 있다.\n",
    " 특정 책이 몇 번이나 베스트셀러에 올랐는지 정보가 필요하다 하면 중복을 허용해야 하고, \n",
    " 베스트셀러에 올라본 적이 있는 책의 개수 정보가 필요하다 하면 중복을 제거해야 한다.\n",
    " 필요에 따라 사용하는 데이터프레임을 다르게 할 필요가 있다.\"**\n",
    " \n",
    " \n",
    " **중복을 제거한 후 데이터의 크기가 2400개 에서 889개로 감소하였다. 절반이 훨씬 넘는 책이 2개월 이상 베스트셀러 목록에 이름을 올렸다.**"
   ]
  },
  {
   "cell_type": "markdown",
   "metadata": {},
   "source": [
    "## 3. 베스트셀러의 가격 분포를 확인"
   ]
  },
  {
   "cell_type": "code",
   "execution_count": 14,
   "metadata": {
    "scrolled": true
   },
   "outputs": [
    {
     "data": {
      "text/plain": [
       "Text(0, 0.5, 'Relative Frequncy')"
      ]
     },
     "execution_count": 14,
     "metadata": {},
     "output_type": "execute_result"
    },
    {
     "data": {
      "image/png": "[encoded data removed]",
      "text/plain": [
       "<Figure size 432x288 with 1 Axes>"
      ]
     },
     "metadata": {
      "needs_background": "light"
     },
     "output_type": "display_data"
    }
   ],
   "source": [
    "ax = plt.subplot()\n",
    "ax.hist(df1['정가'], bins=50, density=True, color=\"blue\")    # Y축이 상대빈도로, 색깔이 red로 변경함 \n",
    "ax.set_title(\"Histogram of Price\")\n",
    "ax.set_xlabel(\"Price\")\n",
    "ax.set_ylabel(\"Relative Frequncy\")"
   ]
  },
  {
   "cell_type": "markdown",
   "metadata": {},
   "source": [
    "**베스트셀러의 가격대는 1만원부터 2만원 사이에 가장 많이 분포해있음을 확인할 수 있다.**\n",
    "\n",
    "**5천원 정도와 3만원 이상의 베스트셀러도 어느정도 분포함을 확인할 수 있다.**"
   ]
  },
  {
   "cell_type": "markdown",
   "metadata": {},
   "source": [
    "## 4. 베스트셀러를 가장 많이 낸 저자 상위 n명(40)"
   ]
  },
  {
   "cell_type": "code",
   "execution_count": 15,
   "metadata": {
    "scrolled": false
   },
   "outputs": [
    {
     "data": {
      "text/plain": [
       "설민석                  14\n",
       "David Cho            10\n",
       "고토게 코요하루              9\n",
       "흔한남매 (원작)             8\n",
       "히가시노 게이고              8\n",
       "김미영                   7\n",
       "유대영                   7\n",
       "정세랑                   6\n",
       "백희나                   6\n",
       "박시연                   6\n",
       "히로시마 레이코              6\n",
       "조용                    5\n",
       "한날                    5\n",
       "알베르 카뮈                5\n",
       "채사장                   5\n",
       "김현수                   4\n",
       "Eiichiro Oda          4\n",
       "글배우                   4\n",
       "이도우                   4\n",
       "박영숙                   3\n",
       "김난도                   3\n",
       "마이클 샌델                3\n",
       "김리리                   3\n",
       "해커스 어학연구소             3\n",
       "오은영                   3\n",
       "정재승 (기획)              3\n",
       "전극진                   3\n",
       "존 리                   3\n",
       "신태훈                   3\n",
       "트롤                    3\n",
       "조지 오웰                 3\n",
       "스토리 a.                3\n",
       "홍춘욱                   3\n",
       "Haruichi Furudate     3\n",
       "데일 카네기                3\n",
       "헤르만 헤세                3\n",
       "김혜련                   3\n",
       "법정                    3\n",
       "네모아저씨 이원표             2\n",
       "아현 (만화)               2\n",
       "Name: 저자명, dtype: int64"
      ]
     },
     "execution_count": 15,
     "metadata": {},
     "output_type": "execute_result"
    }
   ],
   "source": [
    "count_a = df1['저자명'].value_counts()\n",
    "count_a[:40]"
   ]
  },
  {
   "cell_type": "markdown",
   "metadata": {},
   "source": [
    "**베스트셀러를 가장 많이 낸 저자는 설민석으로, 역사 관련 컨텐츠로 유명한 인강강사이다. 일년동안 무려 14권이나 베스트셀러에 올랐다.**\n",
    "\n",
    "**그 다음으로는 David Cho가 유일하게 설민석과 같이 10권 이상의 베스트셀러를 내었는데, 해커스 영어로 유명한 저자이다**"
   ]
  },
  {
   "cell_type": "markdown",
   "metadata": {},
   "source": [
    "### 설민석의 베스트셀러 목록"
   ]
  },
  {
   "cell_type": "code",
   "execution_count": 16,
   "metadata": {
    "scrolled": false
   },
   "outputs": [
    {
     "data": {
      "text/html": [
       "<div>\n",
       "<style scoped>\n",
       "    .dataframe tbody tr th:only-of-type {\n",
       "        vertical-align: middle;\n",
       "    }\n",
       "\n",
       "    .dataframe tbody tr th {\n",
       "        vertical-align: top;\n",
       "    }\n",
       "\n",
       "    .dataframe thead th {\n",
       "        text-align: right;\n",
       "    }\n",
       "</style>\n",
       "<table border=\"1\" class=\"dataframe\">\n",
       "  <thead>\n",
       "    <tr style=\"text-align: right;\">\n",
       "      <th></th>\n",
       "      <th>순위</th>\n",
       "      <th>도서명</th>\n",
       "      <th>저자명</th>\n",
       "      <th>출판사명</th>\n",
       "      <th>출간일</th>\n",
       "      <th>분야</th>\n",
       "      <th>정가</th>\n",
       "      <th>쪽수</th>\n",
       "      <th>월</th>\n",
       "    </tr>\n",
       "  </thead>\n",
       "  <tbody>\n",
       "    <tr>\n",
       "      <th>6</th>\n",
       "      <td>7</td>\n",
       "      <td>설민석의 한국사 대모험. 12</td>\n",
       "      <td>설민석</td>\n",
       "      <td>아이휴먼</td>\n",
       "      <td>2019-12-05</td>\n",
       "      <td>어린이(초등)</td>\n",
       "      <td>12000</td>\n",
       "      <td>212</td>\n",
       "      <td>12</td>\n",
       "    </tr>\n",
       "    <tr>\n",
       "      <th>33</th>\n",
       "      <td>34</td>\n",
       "      <td>설민석의 삼국지. 1</td>\n",
       "      <td>설민석</td>\n",
       "      <td>세계사</td>\n",
       "      <td>2019-07-17</td>\n",
       "      <td>인문</td>\n",
       "      <td>22000</td>\n",
       "      <td>440</td>\n",
       "      <td>12</td>\n",
       "    </tr>\n",
       "    <tr>\n",
       "      <th>35</th>\n",
       "      <td>36</td>\n",
       "      <td>설민석의 조선왕조실록</td>\n",
       "      <td>설민석</td>\n",
       "      <td>세계사</td>\n",
       "      <td>2016-07-20</td>\n",
       "      <td>역사/문화</td>\n",
       "      <td>22000</td>\n",
       "      <td>504</td>\n",
       "      <td>12</td>\n",
       "    </tr>\n",
       "    <tr>\n",
       "      <th>131</th>\n",
       "      <td>132</td>\n",
       "      <td>한국을 빛낸 100명의 위인들(설민석 쌤과 함께 부르는)(사운드북)</td>\n",
       "      <td>설민석</td>\n",
       "      <td>아이휴먼</td>\n",
       "      <td>2017-12-01</td>\n",
       "      <td>유아(0~7세)</td>\n",
       "      <td>16000</td>\n",
       "      <td>22</td>\n",
       "      <td>12</td>\n",
       "    </tr>\n",
       "    <tr>\n",
       "      <th>165</th>\n",
       "      <td>166</td>\n",
       "      <td>설민석의 세계사 대모험. 3</td>\n",
       "      <td>설민석</td>\n",
       "      <td>단꿈아이</td>\n",
       "      <td>2019-09-24</td>\n",
       "      <td>어린이(초등)</td>\n",
       "      <td>12000</td>\n",
       "      <td>200</td>\n",
       "      <td>12</td>\n",
       "    </tr>\n",
       "    <tr>\n",
       "      <th>167</th>\n",
       "      <td>168</td>\n",
       "      <td>설민석의 무도 한국사 특강(개정판)</td>\n",
       "      <td>설민석</td>\n",
       "      <td>휴먼큐브</td>\n",
       "      <td>2019-01-29</td>\n",
       "      <td>역사/문화</td>\n",
       "      <td>22000</td>\n",
       "      <td>433</td>\n",
       "      <td>12</td>\n",
       "    </tr>\n",
       "    <tr>\n",
       "      <th>207</th>\n",
       "      <td>60</td>\n",
       "      <td>설민석의 세계사 대모험. 4</td>\n",
       "      <td>설민석</td>\n",
       "      <td>단꿈아이</td>\n",
       "      <td>2020-01-13</td>\n",
       "      <td>어린이(초등)</td>\n",
       "      <td>12000</td>\n",
       "      <td>208</td>\n",
       "      <td>1</td>\n",
       "    </tr>\n",
       "    <tr>\n",
       "      <th>336</th>\n",
       "      <td>9</td>\n",
       "      <td>설민석의 한국사 대모험. 13(반양장)</td>\n",
       "      <td>설민석</td>\n",
       "      <td>아이휴먼</td>\n",
       "      <td>2020-03-23</td>\n",
       "      <td>어린이(초등)</td>\n",
       "      <td>12000</td>\n",
       "      <td>200</td>\n",
       "      <td>3</td>\n",
       "    </tr>\n",
       "    <tr>\n",
       "      <th>412</th>\n",
       "      <td>48</td>\n",
       "      <td>설민석의 세계사 대모험. 5</td>\n",
       "      <td>설민석</td>\n",
       "      <td>단꿈아이</td>\n",
       "      <td>2020-04-15</td>\n",
       "      <td>어린이(초등)</td>\n",
       "      <td>12000</td>\n",
       "      <td>208</td>\n",
       "      <td>4</td>\n",
       "    </tr>\n",
       "    <tr>\n",
       "      <th>497</th>\n",
       "      <td>86</td>\n",
       "      <td>설민석의 책 읽어드립니다</td>\n",
       "      <td>설민석</td>\n",
       "      <td>단꿈아이</td>\n",
       "      <td>2020-05-18</td>\n",
       "      <td>인문</td>\n",
       "      <td>15000</td>\n",
       "      <td>212</td>\n",
       "      <td>5</td>\n",
       "    </tr>\n",
       "    <tr>\n",
       "      <th>601</th>\n",
       "      <td>5</td>\n",
       "      <td>설민석의 한국사 대모험. 14</td>\n",
       "      <td>설민석</td>\n",
       "      <td>아이휴먼</td>\n",
       "      <td>2020-07-08</td>\n",
       "      <td>어린이(초등)</td>\n",
       "      <td>12000</td>\n",
       "      <td>200</td>\n",
       "      <td>7</td>\n",
       "    </tr>\n",
       "    <tr>\n",
       "      <th>670</th>\n",
       "      <td>44</td>\n",
       "      <td>설민석의 세계사 대모험. 6</td>\n",
       "      <td>설민석</td>\n",
       "      <td>단꿈아이</td>\n",
       "      <td>2020-08-15</td>\n",
       "      <td>어린이(초등)</td>\n",
       "      <td>12000</td>\n",
       "      <td>232</td>\n",
       "      <td>8</td>\n",
       "    </tr>\n",
       "    <tr>\n",
       "      <th>749</th>\n",
       "      <td>140</td>\n",
       "      <td>설민석의 만만 한국사. 1: 선사 시대부터 삼국 시대까지</td>\n",
       "      <td>설민석</td>\n",
       "      <td>아이세움</td>\n",
       "      <td>2020-08-26</td>\n",
       "      <td>어린이(초등)</td>\n",
       "      <td>12000</td>\n",
       "      <td>196</td>\n",
       "      <td>9</td>\n",
       "    </tr>\n",
       "    <tr>\n",
       "      <th>776</th>\n",
       "      <td>11</td>\n",
       "      <td>설민석의 한국사 대모험. 15</td>\n",
       "      <td>설민석</td>\n",
       "      <td>아이휴먼</td>\n",
       "      <td>2020-10-26</td>\n",
       "      <td>어린이(초등)</td>\n",
       "      <td>12000</td>\n",
       "      <td>204</td>\n",
       "      <td>10</td>\n",
       "    </tr>\n",
       "  </tbody>\n",
       "</table>\n",
       "</div>"
      ],
      "text/plain": [
       "      순위                                    도서명  저자명  출판사명        출간일  \\\n",
       "6      7                       설민석의 한국사 대모험. 12  설민석  아이휴먼 2019-12-05   \n",
       "33    34                            설민석의 삼국지. 1  설민석   세계사 2019-07-17   \n",
       "35    36                            설민석의 조선왕조실록  설민석   세계사 2016-07-20   \n",
       "131  132  한국을 빛낸 100명의 위인들(설민석 쌤과 함께 부르는)(사운드북)  설민석  아이휴먼 2017-12-01   \n",
       "165  166                        설민석의 세계사 대모험. 3  설민석  단꿈아이 2019-09-24   \n",
       "167  168                    설민석의 무도 한국사 특강(개정판)  설민석  휴먼큐브 2019-01-29   \n",
       "207   60                        설민석의 세계사 대모험. 4  설민석  단꿈아이 2020-01-13   \n",
       "336    9                  설민석의 한국사 대모험. 13(반양장)  설민석  아이휴먼 2020-03-23   \n",
       "412   48                        설민석의 세계사 대모험. 5  설민석  단꿈아이 2020-04-15   \n",
       "497   86                          설민석의 책 읽어드립니다  설민석  단꿈아이 2020-05-18   \n",
       "601    5                       설민석의 한국사 대모험. 14  설민석  아이휴먼 2020-07-08   \n",
       "670   44                        설민석의 세계사 대모험. 6  설민석  단꿈아이 2020-08-15   \n",
       "749  140        설민석의 만만 한국사. 1: 선사 시대부터 삼국 시대까지  설민석  아이세움 2020-08-26   \n",
       "776   11                       설민석의 한국사 대모험. 15  설민석  아이휴먼 2020-10-26   \n",
       "\n",
       "           분야     정가   쪽수   월  \n",
       "6     어린이(초등)  12000  212  12  \n",
       "33         인문  22000  440  12  \n",
       "35      역사/문화  22000  504  12  \n",
       "131  유아(0~7세)  16000   22  12  \n",
       "165   어린이(초등)  12000  200  12  \n",
       "167     역사/문화  22000  433  12  \n",
       "207   어린이(초등)  12000  208   1  \n",
       "336   어린이(초등)  12000  200   3  \n",
       "412   어린이(초등)  12000  208   4  \n",
       "497        인문  15000  212   5  \n",
       "601   어린이(초등)  12000  200   7  \n",
       "670   어린이(초등)  12000  232   8  \n",
       "749   어린이(초등)  12000  196   9  \n",
       "776   어린이(초등)  12000  204  10  "
      ]
     },
     "execution_count": 16,
     "metadata": {},
     "output_type": "execute_result"
    }
   ],
   "source": [
    "s = df1['저자명'] == '설민석'\n",
    "s = df1[s]\n",
    "s"
   ]
  },
  {
   "cell_type": "markdown",
   "metadata": {},
   "source": [
    "### David Cho의 베스트셀러 목록"
   ]
  },
  {
   "cell_type": "code",
   "execution_count": 17,
   "metadata": {
    "scrolled": true
   },
   "outputs": [
    {
     "data": {
      "text/html": [
       "<div>\n",
       "<style scoped>\n",
       "    .dataframe tbody tr th:only-of-type {\n",
       "        vertical-align: middle;\n",
       "    }\n",
       "\n",
       "    .dataframe tbody tr th {\n",
       "        vertical-align: top;\n",
       "    }\n",
       "\n",
       "    .dataframe thead th {\n",
       "        text-align: right;\n",
       "    }\n",
       "</style>\n",
       "<table border=\"1\" class=\"dataframe\">\n",
       "  <thead>\n",
       "    <tr style=\"text-align: right;\">\n",
       "      <th></th>\n",
       "      <th>순위</th>\n",
       "      <th>도서명</th>\n",
       "      <th>저자명</th>\n",
       "      <th>출판사명</th>\n",
       "      <th>출간일</th>\n",
       "      <th>분야</th>\n",
       "      <th>정가</th>\n",
       "      <th>쪽수</th>\n",
       "      <th>월</th>\n",
       "    </tr>\n",
       "  </thead>\n",
       "  <tbody>\n",
       "    <tr>\n",
       "      <th>19</th>\n",
       "      <td>20</td>\n",
       "      <td>해커스 토익 기출 보카 TOEIC VOCA(개정판 5판)</td>\n",
       "      <td>David Cho</td>\n",
       "      <td>해커스어학연구소</td>\n",
       "      <td>2020-03-05</td>\n",
       "      <td>외국어</td>\n",
       "      <td>12900</td>\n",
       "      <td>566</td>\n",
       "      <td>12</td>\n",
       "    </tr>\n",
       "    <tr>\n",
       "      <th>69</th>\n",
       "      <td>70</td>\n",
       "      <td>해커스 토익 RC 리딩(Reading)(개정판 8판)</td>\n",
       "      <td>David Cho</td>\n",
       "      <td>해커스어학연구소</td>\n",
       "      <td>2020-03-02</td>\n",
       "      <td>외국어</td>\n",
       "      <td>18800</td>\n",
       "      <td>800</td>\n",
       "      <td>12</td>\n",
       "    </tr>\n",
       "    <tr>\n",
       "      <th>89</th>\n",
       "      <td>90</td>\n",
       "      <td>해커스 토익 LC 리스닝(Listening)(개정판 8판)</td>\n",
       "      <td>David Cho</td>\n",
       "      <td>해커스어학연구소</td>\n",
       "      <td>2020-03-18</td>\n",
       "      <td>외국어</td>\n",
       "      <td>18800</td>\n",
       "      <td>626</td>\n",
       "      <td>12</td>\n",
       "    </tr>\n",
       "    <tr>\n",
       "      <th>141</th>\n",
       "      <td>142</td>\n",
       "      <td>해커스 보카(Hackers Vocabulary)(개정판 2판)</td>\n",
       "      <td>David Cho</td>\n",
       "      <td>해커스어학연구소</td>\n",
       "      <td>2015-07-01</td>\n",
       "      <td>외국어</td>\n",
       "      <td>16900</td>\n",
       "      <td>366</td>\n",
       "      <td>12</td>\n",
       "    </tr>\n",
       "    <tr>\n",
       "      <th>192</th>\n",
       "      <td>193</td>\n",
       "      <td>해커스 토익 스타트 리딩(Reading) RC(개정판 4판)</td>\n",
       "      <td>David Cho</td>\n",
       "      <td>해커스어학연구소</td>\n",
       "      <td>2020-02-20</td>\n",
       "      <td>외국어</td>\n",
       "      <td>14900</td>\n",
       "      <td>580</td>\n",
       "      <td>12</td>\n",
       "    </tr>\n",
       "    <tr>\n",
       "      <th>210</th>\n",
       "      <td>70</td>\n",
       "      <td>해커스 토익 스타트 리스닝(Listening) LC(개정판 4판)</td>\n",
       "      <td>David Cho</td>\n",
       "      <td>해커스어학연구소</td>\n",
       "      <td>2020-03-09</td>\n",
       "      <td>외국어</td>\n",
       "      <td>14900</td>\n",
       "      <td>572</td>\n",
       "      <td>1</td>\n",
       "    </tr>\n",
       "    <tr>\n",
       "      <th>232</th>\n",
       "      <td>140</td>\n",
       "      <td>해커스 토익스피킹(토스) Start(2주 만에 끝내는)(개정판 4판)</td>\n",
       "      <td>David Cho</td>\n",
       "      <td>해커스어학연구소</td>\n",
       "      <td>2020-01-06</td>\n",
       "      <td>외국어</td>\n",
       "      <td>19800</td>\n",
       "      <td>552</td>\n",
       "      <td>1</td>\n",
       "    </tr>\n",
       "    <tr>\n",
       "      <th>240</th>\n",
       "      <td>161</td>\n",
       "      <td>해커스 토플 리딩(Hackers TOEFL Reading)</td>\n",
       "      <td>David Cho</td>\n",
       "      <td>해커스어학연구소</td>\n",
       "      <td>2019-08-01</td>\n",
       "      <td>외국어</td>\n",
       "      <td>23900</td>\n",
       "      <td>544</td>\n",
       "      <td>1</td>\n",
       "    </tr>\n",
       "    <tr>\n",
       "      <th>245</th>\n",
       "      <td>177</td>\n",
       "      <td>해커스 토익 중급 리딩(Hackers TOEIC Reading)(신토익 Editio...</td>\n",
       "      <td>David Cho</td>\n",
       "      <td>해커스어학연구소</td>\n",
       "      <td>2020-05-22</td>\n",
       "      <td>외국어</td>\n",
       "      <td>14900</td>\n",
       "      <td>504</td>\n",
       "      <td>1</td>\n",
       "    </tr>\n",
       "    <tr>\n",
       "      <th>251</th>\n",
       "      <td>186</td>\n",
       "      <td>해커스 뉴텝스(New TEPS) 기출 보카</td>\n",
       "      <td>David Cho</td>\n",
       "      <td>해커스어학연구소</td>\n",
       "      <td>2018-10-17</td>\n",
       "      <td>외국어</td>\n",
       "      <td>14900</td>\n",
       "      <td>568</td>\n",
       "      <td>1</td>\n",
       "    </tr>\n",
       "  </tbody>\n",
       "</table>\n",
       "</div>"
      ],
      "text/plain": [
       "      순위                                                도서명        저자명  \\\n",
       "19    20                    해커스 토익 기출 보카 TOEIC VOCA(개정판 5판)  David Cho   \n",
       "69    70                      해커스 토익 RC 리딩(Reading)(개정판 8판)  David Cho   \n",
       "89    90                   해커스 토익 LC 리스닝(Listening)(개정판 8판)  David Cho   \n",
       "141  142                 해커스 보카(Hackers Vocabulary)(개정판 2판)  David Cho   \n",
       "192  193                  해커스 토익 스타트 리딩(Reading) RC(개정판 4판)  David Cho   \n",
       "210   70               해커스 토익 스타트 리스닝(Listening) LC(개정판 4판)  David Cho   \n",
       "232  140             해커스 토익스피킹(토스) Start(2주 만에 끝내는)(개정판 4판)  David Cho   \n",
       "240  161                   해커스 토플 리딩(Hackers TOEFL Reading)  David Cho   \n",
       "245  177  해커스 토익 중급 리딩(Hackers TOEIC Reading)(신토익 Editio...  David Cho   \n",
       "251  186                            해커스 뉴텝스(New TEPS) 기출 보카  David Cho   \n",
       "\n",
       "         출판사명        출간일   분야     정가   쪽수   월  \n",
       "19   해커스어학연구소 2020-03-05  외국어  12900  566  12  \n",
       "69   해커스어학연구소 2020-03-02  외국어  18800  800  12  \n",
       "89   해커스어학연구소 2020-03-18  외국어  18800  626  12  \n",
       "141  해커스어학연구소 2015-07-01  외국어  16900  366  12  \n",
       "192  해커스어학연구소 2020-02-20  외국어  14900  580  12  \n",
       "210  해커스어학연구소 2020-03-09  외국어  14900  572   1  \n",
       "232  해커스어학연구소 2020-01-06  외국어  19800  552   1  \n",
       "240  해커스어학연구소 2019-08-01  외국어  23900  544   1  \n",
       "245  해커스어학연구소 2020-05-22  외국어  14900  504   1  \n",
       "251  해커스어학연구소 2018-10-17  외국어  14900  568   1  "
      ]
     },
     "execution_count": 17,
     "metadata": {},
     "output_type": "execute_result"
    }
   ],
   "source": [
    "d = df1['저자명'] == 'David Cho'\n",
    "d = df1[d]\n",
    "d"
   ]
  },
  {
   "cell_type": "markdown",
   "metadata": {},
   "source": [
    "## 5. 베스트셀러를 가장 많이 낸 출판사"
   ]
  },
  {
   "cell_type": "code",
   "execution_count": 18,
   "metadata": {
    "scrolled": false
   },
   "outputs": [
    {
     "data": {
      "text/plain": [
       "문학동네               28\n",
       "아울북                21\n",
       "아이세움               20\n",
       "창비                 19\n",
       "민음사                17\n",
       "위즈덤하우스             17\n",
       "비즈니스북스             15\n",
       "해커스어학연구소           15\n",
       "다산북스               14\n",
       "대원씨아이              13\n",
       "김영사                13\n",
       "21세기북스             11\n",
       "인플루엔셜              11\n",
       "웅진지식하우스            11\n",
       "한빛비즈               11\n",
       "길벗                 11\n",
       "알에이치코리아            11\n",
       "쌤앤파커스              11\n",
       "겜툰                 10\n",
       "학산문화사               9\n",
       "윌북                  9\n",
       "리더스북                9\n",
       "시공사                 8\n",
       "흐름출판                8\n",
       "한국경제신문              8\n",
       "안드로메디안              8\n",
       "토네이도                7\n",
       "소미미디어               7\n",
       "센시오                 7\n",
       "어크로스                7\n",
       "길벗스쿨                7\n",
       "미디어숲                7\n",
       "비룡소                 7\n",
       "웨일북(whalebooks)     6\n",
       "브론스테인               6\n",
       "다산초당                6\n",
       "더퀘스트                6\n",
       "디앤씨웹툰비즈             6\n",
       "페이지2북스              6\n",
       "다연                  5\n",
       "Name: 출판사명, dtype: int64"
      ]
     },
     "execution_count": 18,
     "metadata": {},
     "output_type": "execute_result"
    }
   ],
   "source": [
    "count_a = df1['출판사명'].value_counts()\n",
    "count_a[:40]"
   ]
  },
  {
   "cell_type": "markdown",
   "metadata": {},
   "source": [
    "**베스트셀러를 가장 많이 낸 출판사는 문학동네와 아울북, 아이세움으로 20권 이상의 베스트셀러를 냈고, 그 밑으로는 창비, 민음사 등 문학 관련 출판사가 뒤를 이었다.**\n",
    "\n",
    "**출판사의 베스트셀러 목록을 확인하여 해당 출판사가 주로 어느 분야의 책을 출판하고 있는지 확인이 가능하다.**"
   ]
  },
  {
   "cell_type": "code",
   "execution_count": 19,
   "metadata": {
    "scrolled": false
   },
   "outputs": [
    {
     "data": {
      "text/html": [
       "<div>\n",
       "<style scoped>\n",
       "    .dataframe tbody tr th:only-of-type {\n",
       "        vertical-align: middle;\n",
       "    }\n",
       "\n",
       "    .dataframe tbody tr th {\n",
       "        vertical-align: top;\n",
       "    }\n",
       "\n",
       "    .dataframe thead th {\n",
       "        text-align: right;\n",
       "    }\n",
       "</style>\n",
       "<table border=\"1\" class=\"dataframe\">\n",
       "  <thead>\n",
       "    <tr style=\"text-align: right;\">\n",
       "      <th></th>\n",
       "      <th>순위</th>\n",
       "      <th>도서명</th>\n",
       "      <th>저자명</th>\n",
       "      <th>출판사명</th>\n",
       "      <th>출간일</th>\n",
       "      <th>분야</th>\n",
       "      <th>정가</th>\n",
       "      <th>쪽수</th>\n",
       "      <th>월</th>\n",
       "    </tr>\n",
       "  </thead>\n",
       "  <tbody>\n",
       "    <tr>\n",
       "      <th>9</th>\n",
       "      <td>10</td>\n",
       "      <td>여행의 이유</td>\n",
       "      <td>김영하</td>\n",
       "      <td>문학동네</td>\n",
       "      <td>2019-04-17</td>\n",
       "      <td>시/에세이</td>\n",
       "      <td>13500</td>\n",
       "      <td>216</td>\n",
       "      <td>12</td>\n",
       "    </tr>\n",
       "    <tr>\n",
       "      <th>49</th>\n",
       "      <td>50</td>\n",
       "      <td>긴 이별을 위한 짧은 편지(세계문학전집 68)</td>\n",
       "      <td>페터 한트케</td>\n",
       "      <td>문학동네</td>\n",
       "      <td>2011-02-25</td>\n",
       "      <td>소설</td>\n",
       "      <td>10000</td>\n",
       "      <td>219</td>\n",
       "      <td>12</td>\n",
       "    </tr>\n",
       "    <tr>\n",
       "      <th>104</th>\n",
       "      <td>105</td>\n",
       "      <td>로마법 수업</td>\n",
       "      <td>한동일</td>\n",
       "      <td>문학동네</td>\n",
       "      <td>2019-09-25</td>\n",
       "      <td>인문</td>\n",
       "      <td>15500</td>\n",
       "      <td>268</td>\n",
       "      <td>12</td>\n",
       "    </tr>\n",
       "    <tr>\n",
       "      <th>128</th>\n",
       "      <td>129</td>\n",
       "      <td>개인주의자 선언</td>\n",
       "      <td>문유석</td>\n",
       "      <td>문학동네</td>\n",
       "      <td>2015-09-23</td>\n",
       "      <td>인문</td>\n",
       "      <td>13500</td>\n",
       "      <td>280</td>\n",
       "      <td>12</td>\n",
       "    </tr>\n",
       "    <tr>\n",
       "      <th>198</th>\n",
       "      <td>199</td>\n",
       "      <td>걷는 사람, 하정우</td>\n",
       "      <td>하정우</td>\n",
       "      <td>문학동네</td>\n",
       "      <td>2018-11-23</td>\n",
       "      <td>시/에세이</td>\n",
       "      <td>15500</td>\n",
       "      <td>296</td>\n",
       "      <td>12</td>\n",
       "    </tr>\n",
       "    <tr>\n",
       "      <th>219</th>\n",
       "      <td>103</td>\n",
       "      <td>여자로 살아가는 우리들에게(양장본 HardCover)</td>\n",
       "      <td>요조</td>\n",
       "      <td>문학동네</td>\n",
       "      <td>2019-10-30</td>\n",
       "      <td>시/에세이</td>\n",
       "      <td>15500</td>\n",
       "      <td>288</td>\n",
       "      <td>1</td>\n",
       "    </tr>\n",
       "    <tr>\n",
       "      <th>305</th>\n",
       "      <td>151</td>\n",
       "      <td>데미안(문학동네 세계문학전집 10주년 기념 리커버 특별판)(세계문학전집 101)(양...</td>\n",
       "      <td>헤르만 헤세</td>\n",
       "      <td>문학동네</td>\n",
       "      <td>2020-01-08</td>\n",
       "      <td>소설</td>\n",
       "      <td>9000</td>\n",
       "      <td>234</td>\n",
       "      <td>2</td>\n",
       "    </tr>\n",
       "    <tr>\n",
       "      <th>324</th>\n",
       "      <td>184</td>\n",
       "      <td>아직 멀었다는 말</td>\n",
       "      <td>권여선</td>\n",
       "      <td>문학동네</td>\n",
       "      <td>2020-02-14</td>\n",
       "      <td>소설</td>\n",
       "      <td>13500</td>\n",
       "      <td>284</td>\n",
       "      <td>2</td>\n",
       "    </tr>\n",
       "    <tr>\n",
       "      <th>350</th>\n",
       "      <td>72</td>\n",
       "      <td>페스트(세계문학전집 133)</td>\n",
       "      <td>알베르 카뮈</td>\n",
       "      <td>문학동네</td>\n",
       "      <td>2015-12-26</td>\n",
       "      <td>소설</td>\n",
       "      <td>14000</td>\n",
       "      <td>384</td>\n",
       "      <td>3</td>\n",
       "    </tr>\n",
       "    <tr>\n",
       "      <th>353</th>\n",
       "      <td>81</td>\n",
       "      <td>제법 안온한 날들</td>\n",
       "      <td>남궁인</td>\n",
       "      <td>문학동네</td>\n",
       "      <td>2020-03-05</td>\n",
       "      <td>시/에세이</td>\n",
       "      <td>15000</td>\n",
       "      <td>328</td>\n",
       "      <td>3</td>\n",
       "    </tr>\n",
       "    <tr>\n",
       "      <th>374</th>\n",
       "      <td>144</td>\n",
       "      <td>한중록(한국고전문학전집 3)</td>\n",
       "      <td>혜경궁 홍씨</td>\n",
       "      <td>문학동네</td>\n",
       "      <td>2010-08-28</td>\n",
       "      <td>소설</td>\n",
       "      <td>15000</td>\n",
       "      <td>485</td>\n",
       "      <td>3</td>\n",
       "    </tr>\n",
       "    <tr>\n",
       "      <th>383</th>\n",
       "      <td>167</td>\n",
       "      <td>체리새우: 비밀글입니다(문학동네청소년 42)</td>\n",
       "      <td>황영미</td>\n",
       "      <td>문학동네</td>\n",
       "      <td>2019-01-28</td>\n",
       "      <td>소설</td>\n",
       "      <td>11500</td>\n",
       "      <td>200</td>\n",
       "      <td>3</td>\n",
       "    </tr>\n",
       "    <tr>\n",
       "      <th>404</th>\n",
       "      <td>3</td>\n",
       "      <td>제11회 젊은작가상 수상작품집(2020)</td>\n",
       "      <td>강화길</td>\n",
       "      <td>문학동네</td>\n",
       "      <td>2020-04-08</td>\n",
       "      <td>소설</td>\n",
       "      <td>5500</td>\n",
       "      <td>376</td>\n",
       "      <td>4</td>\n",
       "    </tr>\n",
       "    <tr>\n",
       "      <th>450</th>\n",
       "      <td>159</td>\n",
       "      <td>삼국지톡. 1</td>\n",
       "      <td>무적핑크</td>\n",
       "      <td>문학동네</td>\n",
       "      <td>2020-04-08</td>\n",
       "      <td>역사/문화</td>\n",
       "      <td>14500</td>\n",
       "      <td>216</td>\n",
       "      <td>4</td>\n",
       "    </tr>\n",
       "    <tr>\n",
       "      <th>521</th>\n",
       "      <td>158</td>\n",
       "      <td>사랑 밖의 모든 말들</td>\n",
       "      <td>김금희</td>\n",
       "      <td>문학동네</td>\n",
       "      <td>2020-04-23</td>\n",
       "      <td>시/에세이</td>\n",
       "      <td>13500</td>\n",
       "      <td>236</td>\n",
       "      <td>5</td>\n",
       "    </tr>\n",
       "    <tr>\n",
       "      <th>532</th>\n",
       "      <td>185</td>\n",
       "      <td>제주에서 혼자 살고 술은 약해요(문학동네시인선 135)</td>\n",
       "      <td>이원하</td>\n",
       "      <td>문학동네</td>\n",
       "      <td>2020-04-10</td>\n",
       "      <td>시/에세이</td>\n",
       "      <td>10000</td>\n",
       "      <td>160</td>\n",
       "      <td>5</td>\n",
       "    </tr>\n",
       "    <tr>\n",
       "      <th>540</th>\n",
       "      <td>13</td>\n",
       "      <td>시선으로부터,</td>\n",
       "      <td>정세랑</td>\n",
       "      <td>문학동네</td>\n",
       "      <td>2020-06-05</td>\n",
       "      <td>소설</td>\n",
       "      <td>14000</td>\n",
       "      <td>340</td>\n",
       "      <td>6</td>\n",
       "    </tr>\n",
       "    <tr>\n",
       "      <th>565</th>\n",
       "      <td>83</td>\n",
       "      <td>자본과 이데올로기(양장본 HardCover)</td>\n",
       "      <td>토마 피케티</td>\n",
       "      <td>문학동네</td>\n",
       "      <td>2020-05-27</td>\n",
       "      <td>정치/사회</td>\n",
       "      <td>38000</td>\n",
       "      <td>1297</td>\n",
       "      <td>6</td>\n",
       "    </tr>\n",
       "    <tr>\n",
       "      <th>609</th>\n",
       "      <td>37</td>\n",
       "      <td>일곱 해의 마지막</td>\n",
       "      <td>김연수</td>\n",
       "      <td>문학동네</td>\n",
       "      <td>2020-07-01</td>\n",
       "      <td>소설</td>\n",
       "      <td>13500</td>\n",
       "      <td>248</td>\n",
       "      <td>7</td>\n",
       "    </tr>\n",
       "    <tr>\n",
       "      <th>688</th>\n",
       "      <td>113</td>\n",
       "      <td>여름의 빌라</td>\n",
       "      <td>백수린</td>\n",
       "      <td>문학동네</td>\n",
       "      <td>2020-07-07</td>\n",
       "      <td>소설</td>\n",
       "      <td>13500</td>\n",
       "      <td>292</td>\n",
       "      <td>8</td>\n",
       "    </tr>\n",
       "    <tr>\n",
       "      <th>722</th>\n",
       "      <td>26</td>\n",
       "      <td>상관없는 거 아닌가?</td>\n",
       "      <td>장기하</td>\n",
       "      <td>문학동네</td>\n",
       "      <td>2020-09-11</td>\n",
       "      <td>시/에세이</td>\n",
       "      <td>14500</td>\n",
       "      <td>264</td>\n",
       "      <td>9</td>\n",
       "    </tr>\n",
       "    <tr>\n",
       "      <th>727</th>\n",
       "      <td>45</td>\n",
       "      <td>이별이 오늘 만나자고 한다(문학동네시인선 145)</td>\n",
       "      <td>이병률</td>\n",
       "      <td>문학동네</td>\n",
       "      <td>2020-09-01</td>\n",
       "      <td>시/에세이</td>\n",
       "      <td>10000</td>\n",
       "      <td>144</td>\n",
       "      <td>9</td>\n",
       "    </tr>\n",
       "    <tr>\n",
       "      <th>730</th>\n",
       "      <td>59</td>\n",
       "      <td>복자에게</td>\n",
       "      <td>김금희</td>\n",
       "      <td>문학동네</td>\n",
       "      <td>2020-09-09</td>\n",
       "      <td>소설</td>\n",
       "      <td>14000</td>\n",
       "      <td>244</td>\n",
       "      <td>9</td>\n",
       "    </tr>\n",
       "    <tr>\n",
       "      <th>791</th>\n",
       "      <td>83</td>\n",
       "      <td>하루만 네가 되고 싶어. 1</td>\n",
       "      <td>삼</td>\n",
       "      <td>문학동네</td>\n",
       "      <td>2020-11-04</td>\n",
       "      <td>만화</td>\n",
       "      <td>15000</td>\n",
       "      <td>288</td>\n",
       "      <td>10</td>\n",
       "    </tr>\n",
       "    <tr>\n",
       "      <th>796</th>\n",
       "      <td>104</td>\n",
       "      <td>부지런한 사랑(양장본 HardCover)</td>\n",
       "      <td>이슬아</td>\n",
       "      <td>문학동네</td>\n",
       "      <td>2020-10-21</td>\n",
       "      <td>시/에세이</td>\n",
       "      <td>16000</td>\n",
       "      <td>284</td>\n",
       "      <td>10</td>\n",
       "    </tr>\n",
       "    <tr>\n",
       "      <th>802</th>\n",
       "      <td>128</td>\n",
       "      <td>김승옥문학상 수상작품집(2020)</td>\n",
       "      <td>김금희 외</td>\n",
       "      <td>문학동네</td>\n",
       "      <td>2020-09-28</td>\n",
       "      <td>소설</td>\n",
       "      <td>10000</td>\n",
       "      <td>312</td>\n",
       "      <td>10</td>\n",
       "    </tr>\n",
       "    <tr>\n",
       "      <th>822</th>\n",
       "      <td>189</td>\n",
       "      <td>극락왕생. 1</td>\n",
       "      <td>고사리박사</td>\n",
       "      <td>문학동네</td>\n",
       "      <td>2020-10-14</td>\n",
       "      <td>만화</td>\n",
       "      <td>12000</td>\n",
       "      <td>292</td>\n",
       "      <td>10</td>\n",
       "    </tr>\n",
       "    <tr>\n",
       "      <th>828</th>\n",
       "      <td>11</td>\n",
       "      <td>일인칭 단수(양장본 HardCover)</td>\n",
       "      <td>무라카미 하루키</td>\n",
       "      <td>문학동네</td>\n",
       "      <td>2020-11-26</td>\n",
       "      <td>소설</td>\n",
       "      <td>14500</td>\n",
       "      <td>236</td>\n",
       "      <td>11</td>\n",
       "    </tr>\n",
       "  </tbody>\n",
       "</table>\n",
       "</div>"
      ],
      "text/plain": [
       "      순위                                                도서명       저자명  출판사명  \\\n",
       "9     10                                             여행의 이유       김영하  문학동네   \n",
       "49    50                          긴 이별을 위한 짧은 편지(세계문학전집 68)    페터 한트케  문학동네   \n",
       "104  105                                             로마법 수업       한동일  문학동네   \n",
       "128  129                                           개인주의자 선언       문유석  문학동네   \n",
       "198  199                                         걷는 사람, 하정우       하정우  문학동네   \n",
       "219  103                      여자로 살아가는 우리들에게(양장본 HardCover)        요조  문학동네   \n",
       "305  151  데미안(문학동네 세계문학전집 10주년 기념 리커버 특별판)(세계문학전집 101)(양...    헤르만 헤세  문학동네   \n",
       "324  184                                          아직 멀었다는 말       권여선  문학동네   \n",
       "350   72                                    페스트(세계문학전집 133)    알베르 카뮈  문학동네   \n",
       "353   81                                          제법 안온한 날들       남궁인  문학동네   \n",
       "374  144                                    한중록(한국고전문학전집 3)    혜경궁 홍씨  문학동네   \n",
       "383  167                           체리새우: 비밀글입니다(문학동네청소년 42)       황영미  문학동네   \n",
       "404    3                             제11회 젊은작가상 수상작품집(2020)       강화길  문학동네   \n",
       "450  159                                            삼국지톡. 1      무적핑크  문학동네   \n",
       "521  158                                        사랑 밖의 모든 말들       김금희  문학동네   \n",
       "532  185                     제주에서 혼자 살고 술은 약해요(문학동네시인선 135)       이원하  문학동네   \n",
       "540   13                                            시선으로부터,       정세랑  문학동네   \n",
       "565   83                           자본과 이데올로기(양장본 HardCover)    토마 피케티  문학동네   \n",
       "609   37                                          일곱 해의 마지막       김연수  문학동네   \n",
       "688  113                                             여름의 빌라       백수린  문학동네   \n",
       "722   26                                        상관없는 거 아닌가?       장기하  문학동네   \n",
       "727   45                        이별이 오늘 만나자고 한다(문학동네시인선 145)       이병률  문학동네   \n",
       "730   59                                               복자에게       김금희  문학동네   \n",
       "791   83                                    하루만 네가 되고 싶어. 1         삼  문학동네   \n",
       "796  104                             부지런한 사랑(양장본 HardCover)       이슬아  문학동네   \n",
       "802  128                                 김승옥문학상 수상작품집(2020)     김금희 외  문학동네   \n",
       "822  189                                            극락왕생. 1     고사리박사  문학동네   \n",
       "828   11                              일인칭 단수(양장본 HardCover)  무라카미 하루키  문학동네   \n",
       "\n",
       "           출간일     분야     정가    쪽수   월  \n",
       "9   2019-04-17  시/에세이  13500   216  12  \n",
       "49  2011-02-25     소설  10000   219  12  \n",
       "104 2019-09-25     인문  15500   268  12  \n",
       "128 2015-09-23     인문  13500   280  12  \n",
       "198 2018-11-23  시/에세이  15500   296  12  \n",
       "219 2019-10-30  시/에세이  15500   288   1  \n",
       "305 2020-01-08     소설   9000   234   2  \n",
       "324 2020-02-14     소설  13500   284   2  \n",
       "350 2015-12-26     소설  14000   384   3  \n",
       "353 2020-03-05  시/에세이  15000   328   3  \n",
       "374 2010-08-28     소설  15000   485   3  \n",
       "383 2019-01-28     소설  11500   200   3  \n",
       "404 2020-04-08     소설   5500   376   4  \n",
       "450 2020-04-08  역사/문화  14500   216   4  \n",
       "521 2020-04-23  시/에세이  13500   236   5  \n",
       "532 2020-04-10  시/에세이  10000   160   5  \n",
       "540 2020-06-05     소설  14000   340   6  \n",
       "565 2020-05-27  정치/사회  38000  1297   6  \n",
       "609 2020-07-01     소설  13500   248   7  \n",
       "688 2020-07-07     소설  13500   292   8  \n",
       "722 2020-09-11  시/에세이  14500   264   9  \n",
       "727 2020-09-01  시/에세이  10000   144   9  \n",
       "730 2020-09-09     소설  14000   244   9  \n",
       "791 2020-11-04     만화  15000   288  10  \n",
       "796 2020-10-21  시/에세이  16000   284  10  \n",
       "802 2020-09-28     소설  10000   312  10  \n",
       "822 2020-10-14     만화  12000   292  10  \n",
       "828 2020-11-26     소설  14500   236  11  "
      ]
     },
     "execution_count": 19,
     "metadata": {},
     "output_type": "execute_result"
    }
   ],
   "source": [
    "m = df1['출판사명'] == '문학동네'\n",
    "m = df1[m]\n",
    "m"
   ]
  },
  {
   "cell_type": "code",
   "execution_count": 20,
   "metadata": {
    "scrolled": false
   },
   "outputs": [
    {
     "data": {
      "text/html": [
       "<div>\n",
       "<style scoped>\n",
       "    .dataframe tbody tr th:only-of-type {\n",
       "        vertical-align: middle;\n",
       "    }\n",
       "\n",
       "    .dataframe tbody tr th {\n",
       "        vertical-align: top;\n",
       "    }\n",
       "\n",
       "    .dataframe thead th {\n",
       "        text-align: right;\n",
       "    }\n",
       "</style>\n",
       "<table border=\"1\" class=\"dataframe\">\n",
       "  <thead>\n",
       "    <tr style=\"text-align: right;\">\n",
       "      <th></th>\n",
       "      <th>순위</th>\n",
       "      <th>도서명</th>\n",
       "      <th>저자명</th>\n",
       "      <th>출판사명</th>\n",
       "      <th>출간일</th>\n",
       "      <th>분야</th>\n",
       "      <th>정가</th>\n",
       "      <th>쪽수</th>\n",
       "      <th>월</th>\n",
       "    </tr>\n",
       "  </thead>\n",
       "  <tbody>\n",
       "    <tr>\n",
       "      <th>26</th>\n",
       "      <td>27</td>\n",
       "      <td>Go Go 카카오프렌즈. 11: 한국(부록: 스티커 1장 + 스페셜 여권)</td>\n",
       "      <td>김미영</td>\n",
       "      <td>아울북</td>\n",
       "      <td>2019-11-20</td>\n",
       "      <td>어린이(초등)</td>\n",
       "      <td>12000</td>\n",
       "      <td>176</td>\n",
       "      <td>12</td>\n",
       "    </tr>\n",
       "    <tr>\n",
       "      <th>122</th>\n",
       "      <td>123</td>\n",
       "      <td>마법천자문. 46: 헷갈려라! 미혹할 미</td>\n",
       "      <td>김현수</td>\n",
       "      <td>아울북</td>\n",
       "      <td>2019-09-25</td>\n",
       "      <td>어린이(초등)</td>\n",
       "      <td>12000</td>\n",
       "      <td>1</td>\n",
       "      <td>12</td>\n",
       "    </tr>\n",
       "    <tr>\n",
       "      <th>224</th>\n",
       "      <td>117</td>\n",
       "      <td>정재승의 인간탐구보고서. 2: 인간의 기억력은 형편없다(어린이를 위한 뇌과학 프로젝...</td>\n",
       "      <td>정재승 (기획)</td>\n",
       "      <td>아울북</td>\n",
       "      <td>2019-12-30</td>\n",
       "      <td>어린이(초등)</td>\n",
       "      <td>14000</td>\n",
       "      <td>164</td>\n",
       "      <td>1</td>\n",
       "    </tr>\n",
       "    <tr>\n",
       "      <th>238</th>\n",
       "      <td>158</td>\n",
       "      <td>그리스 로마 신화. 14: 인간들의 무모한 소원(만화로 읽는 초등 인문학)(양장본 ...</td>\n",
       "      <td>박시연</td>\n",
       "      <td>아울북</td>\n",
       "      <td>2019-12-18</td>\n",
       "      <td>어린이(초등)</td>\n",
       "      <td>12000</td>\n",
       "      <td>196</td>\n",
       "      <td>1</td>\n",
       "    </tr>\n",
       "    <tr>\n",
       "      <th>266</th>\n",
       "      <td>27</td>\n",
       "      <td>마법천자문. 47: 잠드는 시간! 밤 야</td>\n",
       "      <td>김현수</td>\n",
       "      <td>아울북</td>\n",
       "      <td>2020-01-29</td>\n",
       "      <td>어린이(초등)</td>\n",
       "      <td>12000</td>\n",
       "      <td>163</td>\n",
       "      <td>2</td>\n",
       "    </tr>\n",
       "    <tr>\n",
       "      <th>274</th>\n",
       "      <td>57</td>\n",
       "      <td>Go Go 카카오프렌즈. 12: 터키</td>\n",
       "      <td>김미영</td>\n",
       "      <td>아울북</td>\n",
       "      <td>2020-01-20</td>\n",
       "      <td>어린이(초등)</td>\n",
       "      <td>12000</td>\n",
       "      <td>176</td>\n",
       "      <td>2</td>\n",
       "    </tr>\n",
       "    <tr>\n",
       "      <th>351</th>\n",
       "      <td>77</td>\n",
       "      <td>Go Go 카카오프렌즈. 13: 호주</td>\n",
       "      <td>김미영</td>\n",
       "      <td>아울북</td>\n",
       "      <td>2020-03-25</td>\n",
       "      <td>어린이(초등)</td>\n",
       "      <td>12000</td>\n",
       "      <td>176</td>\n",
       "      <td>3</td>\n",
       "    </tr>\n",
       "    <tr>\n",
       "      <th>391</th>\n",
       "      <td>181</td>\n",
       "      <td>그리스 로마 신화. 15: 신에 도전한 인간들(만화로 읽는 초등 인문학)(양장본 H...</td>\n",
       "      <td>박시연</td>\n",
       "      <td>아울북</td>\n",
       "      <td>2020-02-19</td>\n",
       "      <td>어린이(초등)</td>\n",
       "      <td>12000</td>\n",
       "      <td>220</td>\n",
       "      <td>3</td>\n",
       "    </tr>\n",
       "    <tr>\n",
       "      <th>447</th>\n",
       "      <td>154</td>\n",
       "      <td>그리스 로마 신화. 16: 페르세우스, 영웅 신화의 시작(만화로 읽는 초등 인문학)...</td>\n",
       "      <td>박시연</td>\n",
       "      <td>아울북</td>\n",
       "      <td>2020-04-14</td>\n",
       "      <td>어린이(초등)</td>\n",
       "      <td>12000</td>\n",
       "      <td>220</td>\n",
       "      <td>4</td>\n",
       "    </tr>\n",
       "    <tr>\n",
       "      <th>487</th>\n",
       "      <td>54</td>\n",
       "      <td>마법천자문. 48: 늘 생각하다! 생각 념</td>\n",
       "      <td>김현수</td>\n",
       "      <td>아울북</td>\n",
       "      <td>2020-05-20</td>\n",
       "      <td>어린이(초등)</td>\n",
       "      <td>12000</td>\n",
       "      <td>164</td>\n",
       "      <td>5</td>\n",
       "    </tr>\n",
       "    <tr>\n",
       "      <th>491</th>\n",
       "      <td>67</td>\n",
       "      <td>Go Go 카카오프렌즈. 14: 그리스</td>\n",
       "      <td>김미영</td>\n",
       "      <td>아울북</td>\n",
       "      <td>2020-05-20</td>\n",
       "      <td>어린이(초등)</td>\n",
       "      <td>12000</td>\n",
       "      <td>176</td>\n",
       "      <td>5</td>\n",
       "    </tr>\n",
       "    <tr>\n",
       "      <th>510</th>\n",
       "      <td>114</td>\n",
       "      <td>정재승의 인간탐구보고서. 3: 인간의 감정은 롤러코스터다(어린이를 위한 뇌과학 프로...</td>\n",
       "      <td>정재승 (기획)</td>\n",
       "      <td>아울북</td>\n",
       "      <td>2020-04-22</td>\n",
       "      <td>어린이(초등)</td>\n",
       "      <td>14000</td>\n",
       "      <td>164</td>\n",
       "      <td>5</td>\n",
       "    </tr>\n",
       "    <tr>\n",
       "      <th>582</th>\n",
       "      <td>143</td>\n",
       "      <td>그리스 로마 신화. 17: 페가수스를 길들인 영웅, 벨레로폰테스(만화로 읽는 초등 ...</td>\n",
       "      <td>박시연</td>\n",
       "      <td>아울북</td>\n",
       "      <td>2020-06-17</td>\n",
       "      <td>어린이(초등)</td>\n",
       "      <td>12000</td>\n",
       "      <td>196</td>\n",
       "      <td>6</td>\n",
       "    </tr>\n",
       "    <tr>\n",
       "      <th>626</th>\n",
       "      <td>101</td>\n",
       "      <td>Go Go 카카오프렌즈. 15: 브라질</td>\n",
       "      <td>김미영</td>\n",
       "      <td>아울북</td>\n",
       "      <td>2020-07-22</td>\n",
       "      <td>어린이(초등)</td>\n",
       "      <td>12000</td>\n",
       "      <td>176</td>\n",
       "      <td>7</td>\n",
       "    </tr>\n",
       "    <tr>\n",
       "      <th>715</th>\n",
       "      <td>195</td>\n",
       "      <td>정재승의 인간탐구보고서. 4: 사춘기 땐 우리 모두 외계인(어린이를 위한 뇌과학 프...</td>\n",
       "      <td>정재승 (기획)</td>\n",
       "      <td>아울북</td>\n",
       "      <td>2020-08-18</td>\n",
       "      <td>어린이(초등)</td>\n",
       "      <td>14000</td>\n",
       "      <td>164</td>\n",
       "      <td>8</td>\n",
       "    </tr>\n",
       "    <tr>\n",
       "      <th>725</th>\n",
       "      <td>42</td>\n",
       "      <td>마법천자문. 49: 마주 보는 그림자! 그림자 영</td>\n",
       "      <td>유대영</td>\n",
       "      <td>아울북</td>\n",
       "      <td>2020-09-16</td>\n",
       "      <td>어린이(초등)</td>\n",
       "      <td>12000</td>\n",
       "      <td>164</td>\n",
       "      <td>9</td>\n",
       "    </tr>\n",
       "    <tr>\n",
       "      <th>737</th>\n",
       "      <td>87</td>\n",
       "      <td>Go Go 카카오프렌즈. 16: 베트남</td>\n",
       "      <td>김미영</td>\n",
       "      <td>아울북</td>\n",
       "      <td>2020-09-23</td>\n",
       "      <td>어린이(초등)</td>\n",
       "      <td>12000</td>\n",
       "      <td>176</td>\n",
       "      <td>9</td>\n",
       "    </tr>\n",
       "    <tr>\n",
       "      <th>771</th>\n",
       "      <td>200</td>\n",
       "      <td>그리스 로마 신화. 18: 아르고호 원정대의 용감한 모험(양장본 HardCover)</td>\n",
       "      <td>박시연</td>\n",
       "      <td>아울북</td>\n",
       "      <td>2020-08-19</td>\n",
       "      <td>어린이(초등)</td>\n",
       "      <td>12000</td>\n",
       "      <td>196</td>\n",
       "      <td>9</td>\n",
       "    </tr>\n",
       "    <tr>\n",
       "      <th>811</th>\n",
       "      <td>153</td>\n",
       "      <td>그리스 로마 신화. 19: 스핑크스를 물리친 오이디푸스의 지혜(만화로 읽는 초등 인...</td>\n",
       "      <td>박시연</td>\n",
       "      <td>아울북</td>\n",
       "      <td>2020-10-21</td>\n",
       "      <td>어린이(초등)</td>\n",
       "      <td>12000</td>\n",
       "      <td>196</td>\n",
       "      <td>10</td>\n",
       "    </tr>\n",
       "    <tr>\n",
       "      <th>853</th>\n",
       "      <td>85</td>\n",
       "      <td>Go Go 카카오프렌즈. 17: 러시아</td>\n",
       "      <td>김미영</td>\n",
       "      <td>아울북</td>\n",
       "      <td>2020-11-25</td>\n",
       "      <td>어린이(초등)</td>\n",
       "      <td>12000</td>\n",
       "      <td>176</td>\n",
       "      <td>11</td>\n",
       "    </tr>\n",
       "    <tr>\n",
       "      <th>860</th>\n",
       "      <td>107</td>\n",
       "      <td>급식왕 GO. 1(양장본 HardCover)</td>\n",
       "      <td>급식왕 (원작)</td>\n",
       "      <td>아울북</td>\n",
       "      <td>2020-11-11</td>\n",
       "      <td>어린이(초등)</td>\n",
       "      <td>12000</td>\n",
       "      <td>160</td>\n",
       "      <td>11</td>\n",
       "    </tr>\n",
       "  </tbody>\n",
       "</table>\n",
       "</div>"
      ],
      "text/plain": [
       "      순위                                                도서명       저자명 출판사명  \\\n",
       "26    27          Go Go 카카오프렌즈. 11: 한국(부록: 스티커 1장 + 스페셜 여권)       김미영  아울북   \n",
       "122  123                             마법천자문. 46: 헷갈려라! 미혹할 미       김현수  아울북   \n",
       "224  117  정재승의 인간탐구보고서. 2: 인간의 기억력은 형편없다(어린이를 위한 뇌과학 프로젝...  정재승 (기획)  아울북   \n",
       "238  158  그리스 로마 신화. 14: 인간들의 무모한 소원(만화로 읽는 초등 인문학)(양장본 ...       박시연  아울북   \n",
       "266   27                             마법천자문. 47: 잠드는 시간! 밤 야       김현수  아울북   \n",
       "274   57                               Go Go 카카오프렌즈. 12: 터키       김미영  아울북   \n",
       "351   77                               Go Go 카카오프렌즈. 13: 호주       김미영  아울북   \n",
       "391  181  그리스 로마 신화. 15: 신에 도전한 인간들(만화로 읽는 초등 인문학)(양장본 H...       박시연  아울북   \n",
       "447  154  그리스 로마 신화. 16: 페르세우스, 영웅 신화의 시작(만화로 읽는 초등 인문학)...       박시연  아울북   \n",
       "487   54                            마법천자문. 48: 늘 생각하다! 생각 념       김현수  아울북   \n",
       "491   67                              Go Go 카카오프렌즈. 14: 그리스       김미영  아울북   \n",
       "510  114  정재승의 인간탐구보고서. 3: 인간의 감정은 롤러코스터다(어린이를 위한 뇌과학 프로...  정재승 (기획)  아울북   \n",
       "582  143  그리스 로마 신화. 17: 페가수스를 길들인 영웅, 벨레로폰테스(만화로 읽는 초등 ...       박시연  아울북   \n",
       "626  101                              Go Go 카카오프렌즈. 15: 브라질       김미영  아울북   \n",
       "715  195  정재승의 인간탐구보고서. 4: 사춘기 땐 우리 모두 외계인(어린이를 위한 뇌과학 프...  정재승 (기획)  아울북   \n",
       "725   42                        마법천자문. 49: 마주 보는 그림자! 그림자 영       유대영  아울북   \n",
       "737   87                              Go Go 카카오프렌즈. 16: 베트남       김미영  아울북   \n",
       "771  200     그리스 로마 신화. 18: 아르고호 원정대의 용감한 모험(양장본 HardCover)       박시연  아울북   \n",
       "811  153  그리스 로마 신화. 19: 스핑크스를 물리친 오이디푸스의 지혜(만화로 읽는 초등 인...       박시연  아울북   \n",
       "853   85                              Go Go 카카오프렌즈. 17: 러시아       김미영  아울북   \n",
       "860  107                           급식왕 GO. 1(양장본 HardCover)  급식왕 (원작)  아울북   \n",
       "\n",
       "           출간일       분야     정가   쪽수   월  \n",
       "26  2019-11-20  어린이(초등)  12000  176  12  \n",
       "122 2019-09-25  어린이(초등)  12000    1  12  \n",
       "224 2019-12-30  어린이(초등)  14000  164   1  \n",
       "238 2019-12-18  어린이(초등)  12000  196   1  \n",
       "266 2020-01-29  어린이(초등)  12000  163   2  \n",
       "274 2020-01-20  어린이(초등)  12000  176   2  \n",
       "351 2020-03-25  어린이(초등)  12000  176   3  \n",
       "391 2020-02-19  어린이(초등)  12000  220   3  \n",
       "447 2020-04-14  어린이(초등)  12000  220   4  \n",
       "487 2020-05-20  어린이(초등)  12000  164   5  \n",
       "491 2020-05-20  어린이(초등)  12000  176   5  \n",
       "510 2020-04-22  어린이(초등)  14000  164   5  \n",
       "582 2020-06-17  어린이(초등)  12000  196   6  \n",
       "626 2020-07-22  어린이(초등)  12000  176   7  \n",
       "715 2020-08-18  어린이(초등)  14000  164   8  \n",
       "725 2020-09-16  어린이(초등)  12000  164   9  \n",
       "737 2020-09-23  어린이(초등)  12000  176   9  \n",
       "771 2020-08-19  어린이(초등)  12000  196   9  \n",
       "811 2020-10-21  어린이(초등)  12000  196  10  \n",
       "853 2020-11-25  어린이(초등)  12000  176  11  \n",
       "860 2020-11-11  어린이(초등)  12000  160  11  "
      ]
     },
     "execution_count": 20,
     "metadata": {},
     "output_type": "execute_result"
    }
   ],
   "source": [
    "a = df1['출판사명'] == '아울북'\n",
    "a = df1[a]\n",
    "a"
   ]
  },
  {
   "cell_type": "code",
   "execution_count": 21,
   "metadata": {
    "scrolled": false
   },
   "outputs": [
    {
     "data": {
      "text/html": [
       "<div>\n",
       "<style scoped>\n",
       "    .dataframe tbody tr th:only-of-type {\n",
       "        vertical-align: middle;\n",
       "    }\n",
       "\n",
       "    .dataframe tbody tr th {\n",
       "        vertical-align: top;\n",
       "    }\n",
       "\n",
       "    .dataframe thead th {\n",
       "        text-align: right;\n",
       "    }\n",
       "</style>\n",
       "<table border=\"1\" class=\"dataframe\">\n",
       "  <thead>\n",
       "    <tr style=\"text-align: right;\">\n",
       "      <th></th>\n",
       "      <th>순위</th>\n",
       "      <th>도서명</th>\n",
       "      <th>저자명</th>\n",
       "      <th>출판사명</th>\n",
       "      <th>출간일</th>\n",
       "      <th>분야</th>\n",
       "      <th>정가</th>\n",
       "      <th>쪽수</th>\n",
       "      <th>월</th>\n",
       "    </tr>\n",
       "  </thead>\n",
       "  <tbody>\n",
       "    <tr>\n",
       "      <th>7</th>\n",
       "      <td>8</td>\n",
       "      <td>흔한남매. 1</td>\n",
       "      <td>흔한남매</td>\n",
       "      <td>아이세움</td>\n",
       "      <td>2019-06-20</td>\n",
       "      <td>어린이(초등)</td>\n",
       "      <td>11000</td>\n",
       "      <td>164</td>\n",
       "      <td>12</td>\n",
       "    </tr>\n",
       "    <tr>\n",
       "      <th>53</th>\n",
       "      <td>54</td>\n",
       "      <td>추리 천재 엉덩이 탐정. 8: 괴도와 납치된 신부 사건(양장본 HardCover)</td>\n",
       "      <td>트롤</td>\n",
       "      <td>아이세움</td>\n",
       "      <td>2019-07-25</td>\n",
       "      <td>어린이(초등)</td>\n",
       "      <td>12000</td>\n",
       "      <td>88</td>\n",
       "      <td>12</td>\n",
       "    </tr>\n",
       "    <tr>\n",
       "      <th>92</th>\n",
       "      <td>93</td>\n",
       "      <td>내일은 실험왕. 48: 방사능 물질(본격 대결 과학실험 만화)</td>\n",
       "      <td>스토리 a.</td>\n",
       "      <td>아이세움</td>\n",
       "      <td>2019-12-05</td>\n",
       "      <td>어린이(초등)</td>\n",
       "      <td>12800</td>\n",
       "      <td>176</td>\n",
       "      <td>12</td>\n",
       "    </tr>\n",
       "    <tr>\n",
       "      <th>93</th>\n",
       "      <td>94</td>\n",
       "      <td>추리 천재 엉덩이 탐정과 카레사건(추리 천재 엉덩이 탐정 S 1)</td>\n",
       "      <td>트롤</td>\n",
       "      <td>아이세움</td>\n",
       "      <td>2019-05-01</td>\n",
       "      <td>어린이(초등)</td>\n",
       "      <td>12000</td>\n",
       "      <td>60</td>\n",
       "      <td>12</td>\n",
       "    </tr>\n",
       "    <tr>\n",
       "      <th>200</th>\n",
       "      <td>1</td>\n",
       "      <td>흔한남매. 3(양장본 HardCover)</td>\n",
       "      <td>흔한남매 (원작)</td>\n",
       "      <td>아이세움</td>\n",
       "      <td>2020-01-09</td>\n",
       "      <td>어린이(초등)</td>\n",
       "      <td>12000</td>\n",
       "      <td>168</td>\n",
       "      <td>1</td>\n",
       "    </tr>\n",
       "    <tr>\n",
       "      <th>216</th>\n",
       "      <td>99</td>\n",
       "      <td>윔피 키드. 14: 수상한 리모델링 일기(양장본 HardCover)</td>\n",
       "      <td>제프 키니</td>\n",
       "      <td>아이세움</td>\n",
       "      <td>2019-12-17</td>\n",
       "      <td>어린이(초등)</td>\n",
       "      <td>12000</td>\n",
       "      <td>224</td>\n",
       "      <td>1</td>\n",
       "    </tr>\n",
       "    <tr>\n",
       "      <th>260</th>\n",
       "      <td>6</td>\n",
       "      <td>추리 천재 엉덩이 탐정. 9: 세 마리 행운 고양이 사건</td>\n",
       "      <td>트롤</td>\n",
       "      <td>아이세움</td>\n",
       "      <td>2020-01-15</td>\n",
       "      <td>어린이(초등)</td>\n",
       "      <td>12000</td>\n",
       "      <td>88</td>\n",
       "      <td>2</td>\n",
       "    </tr>\n",
       "    <tr>\n",
       "      <th>320</th>\n",
       "      <td>179</td>\n",
       "      <td>흔한남매 안 흔한 일기. 1(양장본 HardCover)</td>\n",
       "      <td>흔한남매 (원작)</td>\n",
       "      <td>아이세움</td>\n",
       "      <td>2020-02-27</td>\n",
       "      <td>어린이(초등)</td>\n",
       "      <td>12000</td>\n",
       "      <td>144</td>\n",
       "      <td>2</td>\n",
       "    </tr>\n",
       "    <tr>\n",
       "      <th>339</th>\n",
       "      <td>18</td>\n",
       "      <td>흔한남매. 4(양장본 HardCover)</td>\n",
       "      <td>흔한남매 (원작)</td>\n",
       "      <td>아이세움</td>\n",
       "      <td>2020-03-26</td>\n",
       "      <td>어린이(초등)</td>\n",
       "      <td>12000</td>\n",
       "      <td>172</td>\n",
       "      <td>3</td>\n",
       "    </tr>\n",
       "    <tr>\n",
       "      <th>403</th>\n",
       "      <td>200</td>\n",
       "      <td>JUSTICE 정의란 무엇인가(10대를 위한)</td>\n",
       "      <td>마이클 샌델</td>\n",
       "      <td>아이세움</td>\n",
       "      <td>2014-11-30</td>\n",
       "      <td>어린이(초등)</td>\n",
       "      <td>12000</td>\n",
       "      <td>216</td>\n",
       "      <td>3</td>\n",
       "    </tr>\n",
       "    <tr>\n",
       "      <th>495</th>\n",
       "      <td>81</td>\n",
       "      <td>내일은 실험왕. 49: 진화의 대결</td>\n",
       "      <td>스토리 a.</td>\n",
       "      <td>아이세움</td>\n",
       "      <td>2020-04-28</td>\n",
       "      <td>어린이(초등)</td>\n",
       "      <td>12800</td>\n",
       "      <td>164</td>\n",
       "      <td>5</td>\n",
       "    </tr>\n",
       "    <tr>\n",
       "      <th>547</th>\n",
       "      <td>31</td>\n",
       "      <td>흔한남매 안 흔한 일기. 2(양장본 HardCover)</td>\n",
       "      <td>흔한남매 (원작)</td>\n",
       "      <td>아이세움</td>\n",
       "      <td>2020-05-26</td>\n",
       "      <td>어린이(초등)</td>\n",
       "      <td>12000</td>\n",
       "      <td>136</td>\n",
       "      <td>6</td>\n",
       "    </tr>\n",
       "    <tr>\n",
       "      <th>600</th>\n",
       "      <td>2</td>\n",
       "      <td>흔한남매. 5(양장본 HardCover)</td>\n",
       "      <td>흔한남매 (원작)</td>\n",
       "      <td>아이세움</td>\n",
       "      <td>2020-06-29</td>\n",
       "      <td>어린이(초등)</td>\n",
       "      <td>12000</td>\n",
       "      <td>172</td>\n",
       "      <td>7</td>\n",
       "    </tr>\n",
       "    <tr>\n",
       "      <th>678</th>\n",
       "      <td>85</td>\n",
       "      <td>에그박사. 1(양장본 HardCover)</td>\n",
       "      <td>에그박사 (원작)</td>\n",
       "      <td>아이세움</td>\n",
       "      <td>2020-07-23</td>\n",
       "      <td>어린이(초등)</td>\n",
       "      <td>12000</td>\n",
       "      <td>152</td>\n",
       "      <td>8</td>\n",
       "    </tr>\n",
       "    <tr>\n",
       "      <th>721</th>\n",
       "      <td>23</td>\n",
       "      <td>흔한남매의 흔한 호기심. 1</td>\n",
       "      <td>흔한남매 (원작)</td>\n",
       "      <td>아이세움</td>\n",
       "      <td>2020-09-03</td>\n",
       "      <td>어린이(초등)</td>\n",
       "      <td>12000</td>\n",
       "      <td>164</td>\n",
       "      <td>9</td>\n",
       "    </tr>\n",
       "    <tr>\n",
       "      <th>746</th>\n",
       "      <td>130</td>\n",
       "      <td>내일은 실험왕. 50: 빅뱅 우주론</td>\n",
       "      <td>스토리 a.</td>\n",
       "      <td>아이세움</td>\n",
       "      <td>2020-08-25</td>\n",
       "      <td>어린이(초등)</td>\n",
       "      <td>12800</td>\n",
       "      <td>180</td>\n",
       "      <td>9</td>\n",
       "    </tr>\n",
       "    <tr>\n",
       "      <th>749</th>\n",
       "      <td>140</td>\n",
       "      <td>설민석의 만만 한국사. 1: 선사 시대부터 삼국 시대까지</td>\n",
       "      <td>설민석</td>\n",
       "      <td>아이세움</td>\n",
       "      <td>2020-08-26</td>\n",
       "      <td>어린이(초등)</td>\n",
       "      <td>12000</td>\n",
       "      <td>196</td>\n",
       "      <td>9</td>\n",
       "    </tr>\n",
       "    <tr>\n",
       "      <th>773</th>\n",
       "      <td>4</td>\n",
       "      <td>흔한남매. 6</td>\n",
       "      <td>흔한남매 (원작)</td>\n",
       "      <td>아이세움</td>\n",
       "      <td>2020-10-15</td>\n",
       "      <td>어린이(초등)</td>\n",
       "      <td>12000</td>\n",
       "      <td>180</td>\n",
       "      <td>10</td>\n",
       "    </tr>\n",
       "    <tr>\n",
       "      <th>783</th>\n",
       "      <td>47</td>\n",
       "      <td>흔한남매 안 흔한 일기. 3(양장본 HardCover)</td>\n",
       "      <td>흔한남매 (원작)</td>\n",
       "      <td>아이세움</td>\n",
       "      <td>2020-09-25</td>\n",
       "      <td>어린이(초등)</td>\n",
       "      <td>12000</td>\n",
       "      <td>136</td>\n",
       "      <td>10</td>\n",
       "    </tr>\n",
       "    <tr>\n",
       "      <th>852</th>\n",
       "      <td>83</td>\n",
       "      <td>에그박사. 2(양장본 HardCover)</td>\n",
       "      <td>에그박사 (원작)</td>\n",
       "      <td>아이세움</td>\n",
       "      <td>2020-11-12</td>\n",
       "      <td>어린이(초등)</td>\n",
       "      <td>12000</td>\n",
       "      <td>152</td>\n",
       "      <td>11</td>\n",
       "    </tr>\n",
       "  </tbody>\n",
       "</table>\n",
       "</div>"
      ],
      "text/plain": [
       "      순위                                            도서명        저자명  출판사명  \\\n",
       "7      8                                        흔한남매. 1       흔한남매  아이세움   \n",
       "53    54  추리 천재 엉덩이 탐정. 8: 괴도와 납치된 신부 사건(양장본 HardCover)         트롤  아이세움   \n",
       "92    93             내일은 실험왕. 48: 방사능 물질(본격 대결 과학실험 만화)     스토리 a.  아이세움   \n",
       "93    94           추리 천재 엉덩이 탐정과 카레사건(추리 천재 엉덩이 탐정 S 1)         트롤  아이세움   \n",
       "200    1                         흔한남매. 3(양장본 HardCover)  흔한남매 (원작)  아이세움   \n",
       "216   99          윔피 키드. 14: 수상한 리모델링 일기(양장본 HardCover)      제프 키니  아이세움   \n",
       "260    6                추리 천재 엉덩이 탐정. 9: 세 마리 행운 고양이 사건         트롤  아이세움   \n",
       "320  179                 흔한남매 안 흔한 일기. 1(양장본 HardCover)  흔한남매 (원작)  아이세움   \n",
       "339   18                         흔한남매. 4(양장본 HardCover)  흔한남매 (원작)  아이세움   \n",
       "403  200                      JUSTICE 정의란 무엇인가(10대를 위한)     마이클 샌델  아이세움   \n",
       "495   81                            내일은 실험왕. 49: 진화의 대결     스토리 a.  아이세움   \n",
       "547   31                 흔한남매 안 흔한 일기. 2(양장본 HardCover)  흔한남매 (원작)  아이세움   \n",
       "600    2                         흔한남매. 5(양장본 HardCover)  흔한남매 (원작)  아이세움   \n",
       "678   85                         에그박사. 1(양장본 HardCover)  에그박사 (원작)  아이세움   \n",
       "721   23                                흔한남매의 흔한 호기심. 1  흔한남매 (원작)  아이세움   \n",
       "746  130                            내일은 실험왕. 50: 빅뱅 우주론     스토리 a.  아이세움   \n",
       "749  140                설민석의 만만 한국사. 1: 선사 시대부터 삼국 시대까지        설민석  아이세움   \n",
       "773    4                                        흔한남매. 6  흔한남매 (원작)  아이세움   \n",
       "783   47                 흔한남매 안 흔한 일기. 3(양장본 HardCover)  흔한남매 (원작)  아이세움   \n",
       "852   83                         에그박사. 2(양장본 HardCover)  에그박사 (원작)  아이세움   \n",
       "\n",
       "           출간일       분야     정가   쪽수   월  \n",
       "7   2019-06-20  어린이(초등)  11000  164  12  \n",
       "53  2019-07-25  어린이(초등)  12000   88  12  \n",
       "92  2019-12-05  어린이(초등)  12800  176  12  \n",
       "93  2019-05-01  어린이(초등)  12000   60  12  \n",
       "200 2020-01-09  어린이(초등)  12000  168   1  \n",
       "216 2019-12-17  어린이(초등)  12000  224   1  \n",
       "260 2020-01-15  어린이(초등)  12000   88   2  \n",
       "320 2020-02-27  어린이(초등)  12000  144   2  \n",
       "339 2020-03-26  어린이(초등)  12000  172   3  \n",
       "403 2014-11-30  어린이(초등)  12000  216   3  \n",
       "495 2020-04-28  어린이(초등)  12800  164   5  \n",
       "547 2020-05-26  어린이(초등)  12000  136   6  \n",
       "600 2020-06-29  어린이(초등)  12000  172   7  \n",
       "678 2020-07-23  어린이(초등)  12000  152   8  \n",
       "721 2020-09-03  어린이(초등)  12000  164   9  \n",
       "746 2020-08-25  어린이(초등)  12800  180   9  \n",
       "749 2020-08-26  어린이(초등)  12000  196   9  \n",
       "773 2020-10-15  어린이(초등)  12000  180  10  \n",
       "783 2020-09-25  어린이(초등)  12000  136  10  \n",
       "852 2020-11-12  어린이(초등)  12000  152  11  "
      ]
     },
     "execution_count": 21,
     "metadata": {},
     "output_type": "execute_result"
    }
   ],
   "source": [
    "i = df1['출판사명'] == '아이세움'\n",
    "i = df1[i]\n",
    "i"
   ]
  },
  {
   "cell_type": "markdown",
   "metadata": {},
   "source": [
    "## 6. 분야별 베스트셀러 분포"
   ]
  },
  {
   "cell_type": "code",
   "execution_count": 22,
   "metadata": {
    "scrolled": false
   },
   "outputs": [
    {
     "data": {
      "text/plain": [
       "경제/경영        156\n",
       "소설           117\n",
       "시/에세이        113\n",
       "어린이(초등)      100\n",
       "자기계발          91\n",
       "인문            85\n",
       "만화            41\n",
       "정치/사회         37\n",
       "외국어           27\n",
       "과학            24\n",
       "역사/문화         21\n",
       "가정/육아         16\n",
       "건강            16\n",
       "유아(0~7세)      14\n",
       "예술/대중문화       12\n",
       "요리             9\n",
       "종교             4\n",
       "컴퓨터/IT         3\n",
       "기술/공학          1\n",
       "여행             1\n",
       "취미/실용/스포츠      1\n",
       "Name: 분야, dtype: int64"
      ]
     },
     "execution_count": 22,
     "metadata": {},
     "output_type": "execute_result"
    }
   ],
   "source": [
    "count_a = df1['분야'].value_counts()\n",
    "count_a"
   ]
  },
  {
   "cell_type": "code",
   "execution_count": 67,
   "metadata": {
    "scrolled": false
   },
   "outputs": [
    {
     "data": {
      "image/png": "[encoded data removed]",
      "text/plain": [
       "<Figure size 1152x720 with 1 Axes>"
      ]
     },
     "metadata": {
      "needs_background": "light"
     },
     "output_type": "display_data"
    }
   ],
   "source": [
    "plt.figure(figsize = (16,10))\n",
    "sns.countplot(df1['분야'], order = df1['분야'].value_counts().index)\n",
    "plt.xticks(rotation = - 45 )\n",
    "plt.show()"
   ]
  },
  {
   "cell_type": "markdown",
   "metadata": {},
   "source": [
    "**분야별 베스트셀러를 확인해본 결과 경제/경영 분야의 베스트셀러가 수가 가장 많았고 그 다음이 소설, 시/에세이가 뒤를 이었다.**\n",
    "\n",
    "**어린이 도서, 자기계발, 인문 분야의 도서가 80권 이상으로 그 다음이었다.**\n",
    "\n",
    "**인문 분야의 바로 아래 분야인 만화는 40권 수준으로, 인문 분야와 두 배 가까운 차이를 보인다.**\n",
    "\n",
    "**이를 통해 인기 있는 분야는 주로 6개 분야로 정해져 있고, 그 외 분야와 격차가 매우 큼을 알 수 있다.**"
   ]
  },
  {
   "cell_type": "markdown",
   "metadata": {},
   "source": [
    "## 7. 베스트셀러 가격과 쪽수의 관계 확인"
   ]
  },
  {
   "cell_type": "markdown",
   "metadata": {},
   "source": [
    "### 베스트셀러 가격 분포 확인"
   ]
  },
  {
   "cell_type": "code",
   "execution_count": 24,
   "metadata": {
    "scrolled": true
   },
   "outputs": [
    {
     "data": {
      "text/plain": [
       "Text(0, 0.5, 'Relative Frequncy')"
      ]
     },
     "execution_count": 24,
     "metadata": {},
     "output_type": "execute_result"
    },
    {
     "data": {
      "image/png": "[encoded data removed]",
      "text/plain": [
       "<Figure size 432x288 with 1 Axes>"
      ]
     },
     "metadata": {
      "needs_background": "light"
     },
     "output_type": "display_data"
    }
   ],
   "source": [
    "ax = plt.subplot()\n",
    "ax.hist(df1['정가'], bins=50, density=True, color=\"blue\")    # Y축이 상대빈도로, 색깔이 red로 변경함 \n",
    "ax.set_title(\"Histogram of Price\")\n",
    "ax.set_xlabel(\"Price\")\n",
    "ax.set_ylabel(\"Relative Frequncy\")"
   ]
  },
  {
   "cell_type": "markdown",
   "metadata": {},
   "source": [
    "### 베스트셀러 쪽수 분포 확인"
   ]
  },
  {
   "cell_type": "code",
   "execution_count": 25,
   "metadata": {
    "scrolled": true
   },
   "outputs": [
    {
     "data": {
      "text/plain": [
       "Text(0, 0.5, 'Relative Frequncy')"
      ]
     },
     "execution_count": 25,
     "metadata": {},
     "output_type": "execute_result"
    },
    {
     "data": {
      "image/png": "[encoded data removed]",
      "text/plain": [
       "<Figure size 432x288 with 1 Axes>"
      ]
     },
     "metadata": {
      "needs_background": "light"
     },
     "output_type": "display_data"
    }
   ],
   "source": [
    "ax = plt.subplot()\n",
    "ax.hist(df1['쪽수'], bins=50, density=True, color=\"blue\")    # Y축이 상대빈도로, 색깔이 red로 변경함 \n",
    "ax.set_title(\"Histogram of Page\")\n",
    "ax.set_xlabel(\"Page\")\n",
    "ax.set_ylabel(\"Relative Frequncy\")"
   ]
  },
  {
   "cell_type": "markdown",
   "metadata": {},
   "source": [
    "**히스토그램 상으로 보았을 때 비슷한 형태라고 볼 수 있다. 베스트셀러의 쪽수는 대부분이 200~400페이지 사이에 분포한다.**\n",
    "\n",
    "**100쪽도 안되는 베스트셀러가 존재하는 반면, 1000쪽이 넘는 베스트셀러도 확인됨을 알 수 있다.**"
   ]
  },
  {
   "cell_type": "markdown",
   "metadata": {},
   "source": [
    "### 정가와 쪽수 산점도"
   ]
  },
  {
   "cell_type": "code",
   "execution_count": 66,
   "metadata": {
    "scrolled": false
   },
   "outputs": [
    {
     "data": {
      "text/plain": [
       "Text(0, 0.5, 'Page')"
      ]
     },
     "execution_count": 66,
     "metadata": {},
     "output_type": "execute_result"
    },
    {
     "data": {
      "image/png": "[encoded data removed]",
      "text/plain": [
       "<Figure size 1152x864 with 1 Axes>"
      ]
     },
     "metadata": {
      "needs_background": "light"
     },
     "output_type": "display_data"
    }
   ],
   "source": [
    "fig = plt.figure(figsize = (16,12)) \n",
    "ax = fig.add_subplot()\n",
    "ax.scatter(df1['정가'], df1['쪽수'])\n",
    "ax.set_title(\"Scatter plot between Price and Page\")\n",
    "ax.set_xlabel(\"Price\")\n",
    "ax.set_ylabel(\"Page\")"
   ]
  },
  {
   "cell_type": "markdown",
   "metadata": {},
   "source": [
    "**정가와 쪽수의 산점도를 보았을 때 양의 상관관계가 있음을 확인할 수 있다. 크게 눈에 띄는 이상치도 확인되지 않는다.**"
   ]
  },
  {
   "cell_type": "code",
   "execution_count": 27,
   "metadata": {
    "scrolled": false
   },
   "outputs": [
    {
     "data": {
      "text/html": [
       "<div>\n",
       "<style scoped>\n",
       "    .dataframe tbody tr th:only-of-type {\n",
       "        vertical-align: middle;\n",
       "    }\n",
       "\n",
       "    .dataframe tbody tr th {\n",
       "        vertical-align: top;\n",
       "    }\n",
       "\n",
       "    .dataframe thead th {\n",
       "        text-align: right;\n",
       "    }\n",
       "</style>\n",
       "<table border=\"1\" class=\"dataframe\">\n",
       "  <thead>\n",
       "    <tr style=\"text-align: right;\">\n",
       "      <th></th>\n",
       "      <th>정가</th>\n",
       "      <th>쪽수</th>\n",
       "    </tr>\n",
       "  </thead>\n",
       "  <tbody>\n",
       "    <tr>\n",
       "      <th>0</th>\n",
       "      <td>18000</td>\n",
       "      <td>448</td>\n",
       "    </tr>\n",
       "    <tr>\n",
       "      <th>1</th>\n",
       "      <td>16000</td>\n",
       "      <td>392</td>\n",
       "    </tr>\n",
       "    <tr>\n",
       "      <th>2</th>\n",
       "      <td>13500</td>\n",
       "      <td>248</td>\n",
       "    </tr>\n",
       "    <tr>\n",
       "      <th>3</th>\n",
       "      <td>19800</td>\n",
       "      <td>474</td>\n",
       "    </tr>\n",
       "    <tr>\n",
       "      <th>4</th>\n",
       "      <td>17000</td>\n",
       "      <td>308</td>\n",
       "    </tr>\n",
       "    <tr>\n",
       "      <th>...</th>\n",
       "      <td>...</td>\n",
       "      <td>...</td>\n",
       "    </tr>\n",
       "    <tr>\n",
       "      <th>884</th>\n",
       "      <td>17000</td>\n",
       "      <td>360</td>\n",
       "    </tr>\n",
       "    <tr>\n",
       "      <th>885</th>\n",
       "      <td>14500</td>\n",
       "      <td>260</td>\n",
       "    </tr>\n",
       "    <tr>\n",
       "      <th>886</th>\n",
       "      <td>11000</td>\n",
       "      <td>1</td>\n",
       "    </tr>\n",
       "    <tr>\n",
       "      <th>887</th>\n",
       "      <td>20000</td>\n",
       "      <td>292</td>\n",
       "    </tr>\n",
       "    <tr>\n",
       "      <th>888</th>\n",
       "      <td>16000</td>\n",
       "      <td>320</td>\n",
       "    </tr>\n",
       "  </tbody>\n",
       "</table>\n",
       "<p>889 rows × 2 columns</p>\n",
       "</div>"
      ],
      "text/plain": [
       "        정가   쪽수\n",
       "0    18000  448\n",
       "1    16000  392\n",
       "2    13500  248\n",
       "3    19800  474\n",
       "4    17000  308\n",
       "..     ...  ...\n",
       "884  17000  360\n",
       "885  14500  260\n",
       "886  11000    1\n",
       "887  20000  292\n",
       "888  16000  320\n",
       "\n",
       "[889 rows x 2 columns]"
      ]
     },
     "execution_count": 27,
     "metadata": {},
     "output_type": "execute_result"
    }
   ],
   "source": [
    "cor = pd.DataFrame(df1[['정가', '쪽수']])  # 데이터프레임에서 정가와 쪽수만 따로 분리\n",
    "cor"
   ]
  },
  {
   "cell_type": "markdown",
   "metadata": {},
   "source": [
    "### 정가와 쪽수의 상관도 확인"
   ]
  },
  {
   "cell_type": "code",
   "execution_count": 28,
   "metadata": {
    "scrolled": true
   },
   "outputs": [
    {
     "data": {
      "text/html": [
       "<div>\n",
       "<style scoped>\n",
       "    .dataframe tbody tr th:only-of-type {\n",
       "        vertical-align: middle;\n",
       "    }\n",
       "\n",
       "    .dataframe tbody tr th {\n",
       "        vertical-align: top;\n",
       "    }\n",
       "\n",
       "    .dataframe thead th {\n",
       "        text-align: right;\n",
       "    }\n",
       "</style>\n",
       "<table border=\"1\" class=\"dataframe\">\n",
       "  <thead>\n",
       "    <tr style=\"text-align: right;\">\n",
       "      <th></th>\n",
       "      <th>정가</th>\n",
       "      <th>쪽수</th>\n",
       "    </tr>\n",
       "  </thead>\n",
       "  <tbody>\n",
       "    <tr>\n",
       "      <th>정가</th>\n",
       "      <td>1.000000</td>\n",
       "      <td>0.660748</td>\n",
       "    </tr>\n",
       "    <tr>\n",
       "      <th>쪽수</th>\n",
       "      <td>0.660748</td>\n",
       "      <td>1.000000</td>\n",
       "    </tr>\n",
       "  </tbody>\n",
       "</table>\n",
       "</div>"
      ],
      "text/plain": [
       "          정가        쪽수\n",
       "정가  1.000000  0.660748\n",
       "쪽수  0.660748  1.000000"
      ]
     },
     "execution_count": 28,
     "metadata": {},
     "output_type": "execute_result"
    }
   ],
   "source": [
    "cor.corr()"
   ]
  },
  {
   "cell_type": "markdown",
   "metadata": {},
   "source": [
    "**0.66의 상관도를 갖는다.**"
   ]
  },
  {
   "cell_type": "markdown",
   "metadata": {},
   "source": [
    "# 3. 선형 회귀 분석"
   ]
  },
  {
   "cell_type": "markdown",
   "metadata": {},
   "source": [
    "## 1. 정가와 쪽수가 선형 관계인지 확인해보기"
   ]
  },
  {
   "cell_type": "code",
   "execution_count": 29,
   "metadata": {
    "scrolled": true
   },
   "outputs": [],
   "source": [
    "from statsmodels.formula.api import ols\n",
    "from sklearn.linear_model import LinearRegression"
   ]
  },
  {
   "cell_type": "code",
   "execution_count": 30,
   "metadata": {
    "scrolled": true
   },
   "outputs": [],
   "source": [
    "fit = ols('정가 ~ 쪽수',data=df1).fit()"
   ]
  },
  {
   "cell_type": "markdown",
   "metadata": {},
   "source": [
    "### 모델 확인"
   ]
  },
  {
   "cell_type": "code",
   "execution_count": 31,
   "metadata": {
    "scrolled": false
   },
   "outputs": [
    {
     "data": {
      "text/html": [
       "<table class=\"simpletable\">\n",
       "<caption>OLS Regression Results</caption>\n",
       "<tr>\n",
       "  <th>Dep. Variable:</th>           <td>정가</td>        <th>  R-squared:         </th> <td>   0.437</td> \n",
       "</tr>\n",
       "<tr>\n",
       "  <th>Model:</th>                   <td>OLS</td>       <th>  Adj. R-squared:    </th> <td>   0.436</td> \n",
       "</tr>\n",
       "<tr>\n",
       "  <th>Method:</th>             <td>Least Squares</td>  <th>  F-statistic:       </th> <td>   687.3</td> \n",
       "</tr>\n",
       "<tr>\n",
       "  <th>Date:</th>             <td>Wed, 10 Feb 2021</td> <th>  Prob (F-statistic):</th> <td>1.26e-112</td>\n",
       "</tr>\n",
       "<tr>\n",
       "  <th>Time:</th>                 <td>13:55:55</td>     <th>  Log-Likelihood:    </th> <td> -8485.1</td> \n",
       "</tr>\n",
       "<tr>\n",
       "  <th>No. Observations:</th>      <td>   889</td>      <th>  AIC:               </th> <td>1.697e+04</td>\n",
       "</tr>\n",
       "<tr>\n",
       "  <th>Df Residuals:</th>          <td>   887</td>      <th>  BIC:               </th> <td>1.698e+04</td>\n",
       "</tr>\n",
       "<tr>\n",
       "  <th>Df Model:</th>              <td>     1</td>      <th>                     </th>     <td> </td>    \n",
       "</tr>\n",
       "<tr>\n",
       "  <th>Covariance Type:</th>      <td>nonrobust</td>    <th>                     </th>     <td> </td>    \n",
       "</tr>\n",
       "</table>\n",
       "<table class=\"simpletable\">\n",
       "<tr>\n",
       "      <td></td>         <th>coef</th>     <th>std err</th>      <th>t</th>      <th>P>|t|</th>  <th>[0.025</th>    <th>0.975]</th>  \n",
       "</tr>\n",
       "<tr>\n",
       "  <th>Intercept</th> <td> 9013.5419</td> <td>  271.510</td> <td>   33.198</td> <td> 0.000</td> <td> 8480.664</td> <td> 9546.420</td>\n",
       "</tr>\n",
       "<tr>\n",
       "  <th>쪽수</th>        <td>   20.4583</td> <td>    0.780</td> <td>   26.217</td> <td> 0.000</td> <td>   18.927</td> <td>   21.990</td>\n",
       "</tr>\n",
       "</table>\n",
       "<table class=\"simpletable\">\n",
       "<tr>\n",
       "  <th>Omnibus:</th>       <td>146.200</td> <th>  Durbin-Watson:     </th> <td>   1.870</td>\n",
       "</tr>\n",
       "<tr>\n",
       "  <th>Prob(Omnibus):</th> <td> 0.000</td>  <th>  Jarque-Bera (JB):  </th> <td>1641.696</td>\n",
       "</tr>\n",
       "<tr>\n",
       "  <th>Skew:</th>          <td> 0.346</td>  <th>  Prob(JB):          </th> <td>    0.00</td>\n",
       "</tr>\n",
       "<tr>\n",
       "  <th>Kurtosis:</th>      <td> 9.621</td>  <th>  Cond. No.          </th> <td>    832.</td>\n",
       "</tr>\n",
       "</table><br/><br/>Notes:<br/>[1] Standard Errors assume that the covariance matrix of the errors is correctly specified."
      ],
      "text/plain": [
       "<class 'statsmodels.iolib.summary.Summary'>\n",
       "\"\"\"\n",
       "                            OLS Regression Results                            \n",
       "==============================================================================\n",
       "Dep. Variable:                     정가   R-squared:                       0.437\n",
       "Model:                            OLS   Adj. R-squared:                  0.436\n",
       "Method:                 Least Squares   F-statistic:                     687.3\n",
       "Date:                Wed, 10 Feb 2021   Prob (F-statistic):          1.26e-112\n",
       "Time:                        13:55:55   Log-Likelihood:                -8485.1\n",
       "No. Observations:                 889   AIC:                         1.697e+04\n",
       "Df Residuals:                     887   BIC:                         1.698e+04\n",
       "Df Model:                           1                                         \n",
       "Covariance Type:            nonrobust                                         \n",
       "==============================================================================\n",
       "                 coef    std err          t      P>|t|      [0.025      0.975]\n",
       "------------------------------------------------------------------------------\n",
       "Intercept   9013.5419    271.510     33.198      0.000    8480.664    9546.420\n",
       "쪽수            20.4583      0.780     26.217      0.000      18.927      21.990\n",
       "==============================================================================\n",
       "Omnibus:                      146.200   Durbin-Watson:                   1.870\n",
       "Prob(Omnibus):                  0.000   Jarque-Bera (JB):             1641.696\n",
       "Skew:                           0.346   Prob(JB):                         0.00\n",
       "Kurtosis:                       9.621   Cond. No.                         832.\n",
       "==============================================================================\n",
       "\n",
       "Notes:\n",
       "[1] Standard Errors assume that the covariance matrix of the errors is correctly specified.\n",
       "\"\"\""
      ]
     },
     "execution_count": 31,
     "metadata": {},
     "output_type": "execute_result"
    }
   ],
   "source": [
    "# 단순회귀분석\n",
    "\n",
    "fit.summary()\n",
    "\n",
    "# 결과해석 순서 : 결정계수 확인 -> 모형의 적합도 확인 -> 회귀계수 확인 -> t값과 t값의 유의확률\n",
    "# r-squared 값이 0.437로 설명력이 43.7% 설명력이 조금 낮다.\n",
    "# F값이 687.3, 유의확률은 0.000으로 통계적으로 유의미함.\n",
    "# 결과 중 Intercept(절편)의 t값은 33.198, P>|t|값은 0.000으로 이 회귀모형의 절편값은 유의한 것으로 나타났으며 그 값은 9013.5419으로 나타났다.\n",
    "# 쪽수의 t값은 26.217, P>|t|값은 0.000으로 쪽수도 유의하여 쪽수의 계수는 20.4583으로 도출됐다. \n",
    "\n",
    "# 즉, 1쪽이 증가할수록 정가가 20.4583원 증가한다는 뜻이다."
   ]
  },
  {
   "cell_type": "markdown",
   "metadata": {},
   "source": [
    "**단순회귀분석**\n",
    "\n",
    "\n",
    "**fit.summary() # 결과해석 순서 : 결정계수 확인 -> 모형의 적합도 확인 -> 회귀계수 확인 -> t값과 t값의 유의확률**\n",
    "\n",
    "\n",
    "**r-squared 값이 0.437로 설명력이 43.7% 설명력이 조금 낮다. F값이 687.3, 유의확률은 0.000으로 통계적으로 유의미함.**\n",
    "\n",
    "\n",
    "**결과 중 Intercept(절편)의 t값은 33.198, P>|t|값은 0.000으로 이 회귀모형의 절편값은 유의한 것으로 나타났으며 그 값은 9013.5419으로 나타났다.**\n",
    "\n",
    "\n",
    "**쪽수의 t값은 26.217, P>|t|값은 0.000으로 쪽수도 유의하여 쪽수의 계수는 20.4583으로 도출됐다.**\n",
    "\n",
    "\n",
    "**즉, 1쪽이 증가할수록 정가가 20.4583원 증가한다는 뜻이다.**"
   ]
  },
  {
   "cell_type": "markdown",
   "metadata": {},
   "source": [
    "## 2. 잔차 분석"
   ]
  },
  {
   "cell_type": "code",
   "execution_count": 32,
   "metadata": {
    "scrolled": true
   },
   "outputs": [],
   "source": [
    "resid = fit.resid"
   ]
  },
  {
   "cell_type": "code",
   "execution_count": 33,
   "metadata": {
    "scrolled": true
   },
   "outputs": [],
   "source": [
    "fitted = fit.predict(df1)"
   ]
  },
  {
   "cell_type": "markdown",
   "metadata": {},
   "source": [
    "### 잔차"
   ]
  },
  {
   "cell_type": "code",
   "execution_count": 34,
   "metadata": {
    "scrolled": true
   },
   "outputs": [
    {
     "data": {
      "text/plain": [
       "0      -178.859377\n",
       "1     -1033.194686\n",
       "2      -587.199769\n",
       "3      1089.224874\n",
       "4      1685.302349\n",
       "          ...     \n",
       "884     621.470851\n",
       "885     167.300655\n",
       "886    1965.999846\n",
       "887    5012.635117\n",
       "888     439.802772\n",
       "Length: 889, dtype: float64"
      ]
     },
     "execution_count": 34,
     "metadata": {},
     "output_type": "execute_result"
    }
   ],
   "source": [
    "resid"
   ]
  },
  {
   "cell_type": "markdown",
   "metadata": {},
   "source": [
    "### qq-plot"
   ]
  },
  {
   "cell_type": "code",
   "execution_count": 35,
   "metadata": {
    "scrolled": true
   },
   "outputs": [
    {
     "data": {
      "image/png": "[encoded data removed]",
      "text/plain": [
       "<Figure size 432x288 with 1 Axes>"
      ]
     },
     "metadata": {
      "needs_background": "light"
     },
     "output_type": "display_data"
    }
   ],
   "source": [
    "from scipy.stats import probplot\n",
    "plt.figure()\n",
    "probplot(resid, plot=plt)\n",
    "plt.show()"
   ]
  },
  {
   "cell_type": "markdown",
   "metadata": {},
   "source": [
    "**빨간 실선에서 많이 벗어남을 확인할 수 있다.**"
   ]
  },
  {
   "cell_type": "markdown",
   "metadata": {},
   "source": [
    "### shapiro 테스트(p-value가 0.05보다 커야 정규성 만족)"
   ]
  },
  {
   "cell_type": "code",
   "execution_count": 36,
   "metadata": {
    "scrolled": true
   },
   "outputs": [
    {
     "data": {
      "text/plain": [
       "ShapiroResult(statistic=0.8819159865379333, pvalue=1.906000482952475e-25)"
      ]
     },
     "execution_count": 36,
     "metadata": {},
     "output_type": "execute_result"
    }
   ],
   "source": [
    "from scipy import stats\n",
    "import scipy.stats\n",
    "stats.shapiro(resid)"
   ]
  },
  {
   "cell_type": "markdown",
   "metadata": {},
   "source": [
    "**p값이 0에 가까우므로 잔차가 정규분포를 따르지 않음을 확인.**"
   ]
  },
  {
   "cell_type": "markdown",
   "metadata": {},
   "source": [
    "### 잔차의 선형성"
   ]
  },
  {
   "cell_type": "code",
   "execution_count": 37,
   "metadata": {
    "scrolled": true
   },
   "outputs": [
    {
     "data": {
      "text/plain": [
       "[<matplotlib.lines.Line2D at 0x17593086730>]"
      ]
     },
     "execution_count": 37,
     "metadata": {},
     "output_type": "execute_result"
    },
    {
     "data": {
      "image/png": "[encoded data removed]",
      "text/plain": [
       "<Figure size 432x288 with 1 Axes>"
      ]
     },
     "metadata": {
      "needs_background": "light"
     },
     "output_type": "display_data"
    }
   ],
   "source": [
    "sns.regplot(fitted, resid, lowess=True, line_kws={'color': 'red'})\n",
    "plt.plot([fitted.min(), fitted.max()], [0, 0], '--', color='grey')"
   ]
  },
  {
   "cell_type": "markdown",
   "metadata": {},
   "source": [
    "**빨간 실선이 점선에서 크게 벗어난다면 예측값에 따라 잔차가 크게 달라진다는 것**"
   ]
  },
  {
   "cell_type": "markdown",
   "metadata": {},
   "source": [
    "### 잔차의 등분산성"
   ]
  },
  {
   "cell_type": "code",
   "execution_count": 38,
   "metadata": {
    "scrolled": true
   },
   "outputs": [],
   "source": [
    "sr = scipy.stats.zscore(resid)"
   ]
  },
  {
   "cell_type": "code",
   "execution_count": 39,
   "metadata": {
    "scrolled": true
   },
   "outputs": [
    {
     "data": {
      "text/plain": [
       "<AxesSubplot:>"
      ]
     },
     "execution_count": 39,
     "metadata": {},
     "output_type": "execute_result"
    },
    {
     "data": {
      "image/png": "[encoded data removed]",
      "text/plain": [
       "<Figure size 432x288 with 1 Axes>"
      ]
     },
     "metadata": {
      "needs_background": "light"
     },
     "output_type": "display_data"
    }
   ],
   "source": [
    "sns.regplot(fitted, np.sqrt(np.abs(sr)), lowess=True, line_kws={'color': 'red'})"
   ]
  },
  {
   "cell_type": "markdown",
   "metadata": {},
   "source": [
    "**빨간색 실선이 수평선을 그리는 것이 이상적. 따라서 잔차의 분산이 동일하지 않음을 확인.**"
   ]
  },
  {
   "cell_type": "markdown",
   "metadata": {},
   "source": [
    "# 4. Two-way analysis"
   ]
  },
  {
   "cell_type": "markdown",
   "metadata": {},
   "source": [
    "## 1. 분야별 베스트셀러의 평균 가격"
   ]
  },
  {
   "cell_type": "code",
   "execution_count": 40,
   "metadata": {
    "scrolled": false
   },
   "outputs": [
    {
     "data": {
      "image/png": "[encoded data removed]",
      "text/plain": [
       "<Figure size 1152x720 with 1 Axes>"
      ]
     },
     "metadata": {
      "needs_background": "light"
     },
     "output_type": "display_data"
    }
   ],
   "source": [
    "plt.figure(figsize = (16,10))\n",
    "plt.xticks(rotation = - 45 )\n",
    "sns.barplot(x='분야', y='정가', data=df1)\n",
    "plt.show()"
   ]
  },
  {
   "cell_type": "markdown",
   "metadata": {},
   "source": [
    "**평균 가격이 제일 높은 분야는 예술/대중문화 분야이고, 만화 분야가 평균 가격이 제일 낮다.**"
   ]
  },
  {
   "cell_type": "code",
   "execution_count": 41,
   "metadata": {
    "scrolled": false
   },
   "outputs": [
    {
     "data": {
      "text/plain": [
       "분야\n",
       "가정/육아        16762.500000\n",
       "건강           17737.500000\n",
       "경제/경영        17757.051282\n",
       "과학           19054.166667\n",
       "기술/공학        18000.000000\n",
       "만화            8719.512195\n",
       "소설           13439.316239\n",
       "시/에세이        14719.469027\n",
       "어린이(초등)      11874.000000\n",
       "여행           17000.000000\n",
       "역사/문화        20104.761905\n",
       "예술/대중문화      21808.333333\n",
       "외국어          15048.148148\n",
       "요리           18233.333333\n",
       "유아(0~7세)     12592.857143\n",
       "인문           17338.823529\n",
       "자기계발         15686.813187\n",
       "정치/사회        19278.378378\n",
       "종교           13250.000000\n",
       "취미/실용/스포츠    15000.000000\n",
       "컴퓨터/IT       17866.666667\n",
       "Name: 정가, dtype: float64"
      ]
     },
     "execution_count": 41,
     "metadata": {},
     "output_type": "execute_result"
    }
   ],
   "source": [
    "g_price = df1.groupby('분야')['정가'].mean()\n",
    "g_price"
   ]
  },
  {
   "cell_type": "markdown",
   "metadata": {},
   "source": [
    "## 2. 분야별 베스트셀러의 평균 쪽수"
   ]
  },
  {
   "cell_type": "code",
   "execution_count": 42,
   "metadata": {
    "scrolled": false
   },
   "outputs": [
    {
     "data": {
      "image/png": "[encoded data removed]",
      "text/plain": [
       "<Figure size 1152x720 with 1 Axes>"
      ]
     },
     "metadata": {
      "needs_background": "light"
     },
     "output_type": "display_data"
    }
   ],
   "source": [
    "plt.figure(figsize = (16,10))\n",
    "plt.xticks(rotation = - 45 )\n",
    "sns.barplot(x='분야', y='쪽수', data=df1)\n",
    "plt.show()"
   ]
  },
  {
   "cell_type": "markdown",
   "metadata": {},
   "source": [
    "**역사/문화, 외국어, 정치/사회 분야의 베스트셀러가 평균 쪽수가 제일 많고, 어린이, 유아등 연령대가 낮은 분야의 베스트셀러가 평균 쪽수가 적다.**"
   ]
  },
  {
   "cell_type": "code",
   "execution_count": 43,
   "metadata": {
    "scrolled": false
   },
   "outputs": [
    {
     "data": {
      "text/plain": [
       "분야\n",
       "가정/육아        344.000000\n",
       "건강           346.062500\n",
       "경제/경영        350.974359\n",
       "과학           406.291667\n",
       "기술/공학        398.000000\n",
       "만화           232.585366\n",
       "소설           346.222222\n",
       "시/에세이        259.902655\n",
       "어린이(초등)      165.540000\n",
       "여행           352.000000\n",
       "역사/문화        469.714286\n",
       "예술/대중문화      357.000000\n",
       "외국어          449.851852\n",
       "요리           282.444444\n",
       "유아(0~7세)      60.714286\n",
       "인문           375.576471\n",
       "자기계발         313.725275\n",
       "정치/사회        437.702703\n",
       "종교           271.000000\n",
       "취미/실용/스포츠    240.000000\n",
       "컴퓨터/IT       353.333333\n",
       "Name: 쪽수, dtype: float64"
      ]
     },
     "execution_count": 43,
     "metadata": {},
     "output_type": "execute_result"
    }
   ],
   "source": [
    "g_page = df1.groupby('분야')['쪽수'].mean()\n",
    "g_page"
   ]
  },
  {
   "cell_type": "markdown",
   "metadata": {},
   "source": [
    "## 3. 분야와 계절의 상관관계\n",
    "### 과연 계절마다 선호하는 분야가 다를까?\n",
    "### 12 1 2, 3 4 5, 6 7 8, 9 10 11 로 나누어서 분야별 개수를 판단.**"
   ]
  },
  {
   "cell_type": "markdown",
   "metadata": {},
   "source": [
    "### 월별 데이터가 필요하므로, 중복을 허용한 데이터를 사용해야 한다."
   ]
  },
  {
   "cell_type": "code",
   "execution_count": 44,
   "metadata": {
    "scrolled": true
   },
   "outputs": [],
   "source": [
    "bstSeller = df"
   ]
  },
  {
   "cell_type": "markdown",
   "metadata": {},
   "source": [
    "### 1. 겨울"
   ]
  },
  {
   "cell_type": "code",
   "execution_count": 45,
   "metadata": {
    "scrolled": true
   },
   "outputs": [
    {
     "name": "stdout",
     "output_type": "stream",
     "text": [
      "경제/경영       89\n",
      "시/에세이       82\n",
      "소설          79\n",
      "인문          76\n",
      "자기계발        60\n",
      "어린이(초등)     56\n",
      "외국어         42\n",
      "역사/문화       21\n",
      "과학          15\n",
      "정치/사회       15\n",
      "유아(0~7세)    13\n",
      "만화          12\n",
      "가정/육아       11\n",
      "건강          11\n",
      "예술/대중문화     10\n",
      "컴퓨터/IT       3\n",
      "종교           2\n",
      "요리           2\n",
      "기술/공학        1\n",
      "Name: 분야, dtype: int64\n"
     ]
    }
   ],
   "source": [
    "is_month_wnt = bstSeller[bstSeller['월'] == 12]\n",
    "is_month_wnt = is_month_wnt.append(bstSeller[bstSeller['월'] == 1],ignore_index=True)\n",
    "is_month_wnt = is_month_wnt.append(bstSeller[bstSeller['월'] == 2],ignore_index=True)\n",
    "print(is_month_wnt['분야'].value_counts())"
   ]
  },
  {
   "cell_type": "code",
   "execution_count": 46,
   "metadata": {
    "scrolled": false
   },
   "outputs": [
    {
     "data": {
      "text/plain": [
       "<AxesSubplot:xlabel='분야', ylabel='count'>"
      ]
     },
     "execution_count": 46,
     "metadata": {},
     "output_type": "execute_result"
    },
    {
     "data": {
      "image/png": "[encoded data removed]",
      "text/plain": [
       "<Figure size 864x576 with 1 Axes>"
      ]
     },
     "metadata": {
      "needs_background": "light"
     },
     "output_type": "display_data"
    }
   ],
   "source": [
    "plt.figure(figsize = (12,8))\n",
    "plt.xticks(rotation = - 45 )\n",
    "sns.countplot(is_month_wnt['분야'], order = is_month_wnt['분야'].value_counts().index)"
   ]
  },
  {
   "cell_type": "markdown",
   "metadata": {},
   "source": [
    "**겨울에는 외국어 분야의 책이 다른 계절에 비해 2배 정도 더 베스트셀러에 올랐다.**"
   ]
  },
  {
   "cell_type": "markdown",
   "metadata": {},
   "source": [
    "### 2. 봄"
   ]
  },
  {
   "cell_type": "code",
   "execution_count": 47,
   "metadata": {
    "scrolled": false
   },
   "outputs": [
    {
     "name": "stdout",
     "output_type": "stream",
     "text": [
      "소설          102\n",
      "경제/경영        93\n",
      "시/에세이        70\n",
      "인문           68\n",
      "자기계발         67\n",
      "어린이(초등)      56\n",
      "외국어          25\n",
      "과학           22\n",
      "정치/사회        20\n",
      "역사/문화        14\n",
      "만화           13\n",
      "가정/육아        11\n",
      "유아(0~7세)     10\n",
      "예술/대중문화       9\n",
      "건강            8\n",
      "요리            6\n",
      "컴퓨터/IT        2\n",
      "종교            2\n",
      "기술/공학         1\n",
      "여행            1\n",
      "Name: 분야, dtype: int64\n"
     ]
    }
   ],
   "source": [
    "is_month_spr = bstSeller[bstSeller['월'] == 3]\n",
    "is_month_spr = is_month_spr.append(bstSeller[bstSeller['월'] == 4],ignore_index=True)\n",
    "is_month_spr = is_month_spr.append(bstSeller[bstSeller['월'] == 5],ignore_index=True)\n",
    "print(is_month_spr['분야'].value_counts())"
   ]
  },
  {
   "cell_type": "code",
   "execution_count": 48,
   "metadata": {
    "scrolled": false
   },
   "outputs": [
    {
     "data": {
      "text/plain": [
       "<AxesSubplot:xlabel='분야', ylabel='count'>"
      ]
     },
     "execution_count": 48,
     "metadata": {},
     "output_type": "execute_result"
    },
    {
     "data": {
      "image/png": "[encoded data removed]",
      "text/plain": [
       "<Figure size 864x576 with 1 Axes>"
      ]
     },
     "metadata": {
      "needs_background": "light"
     },
     "output_type": "display_data"
    }
   ],
   "source": [
    "plt.figure(figsize = (12,8))\n",
    "plt.xticks(rotation = - 45 )\n",
    "sns.countplot(is_month_spr['분야'], order = is_month_spr['분야'].value_counts().index)"
   ]
  },
  {
   "cell_type": "markdown",
   "metadata": {},
   "source": [
    "**봄에는 소설을 많이 읽는다.**"
   ]
  },
  {
   "cell_type": "markdown",
   "metadata": {},
   "source": [
    "### 3. 여름"
   ]
  },
  {
   "cell_type": "code",
   "execution_count": 49,
   "metadata": {
    "scrolled": false
   },
   "outputs": [
    {
     "name": "stdout",
     "output_type": "stream",
     "text": [
      "경제/경영       98\n",
      "소설          90\n",
      "시/에세이       85\n",
      "인문          70\n",
      "자기계발        60\n",
      "어린이(초등)     56\n",
      "외국어         28\n",
      "정치/사회       23\n",
      "역사/문화       17\n",
      "만화          17\n",
      "과학          14\n",
      "건강          10\n",
      "가정/육아        9\n",
      "유아(0~7세)     9\n",
      "요리           6\n",
      "예술/대중문화      4\n",
      "컴퓨터/IT       3\n",
      "여행           1\n",
      "Name: 분야, dtype: int64\n"
     ]
    }
   ],
   "source": [
    "is_month_summ = bstSeller[bstSeller['월'] == 6]\n",
    "is_month_summ = is_month_summ.append(bstSeller[bstSeller['월'] == 7],ignore_index=True)\n",
    "is_month_summ = is_month_summ.append(bstSeller[bstSeller['월'] == 8],ignore_index=True)\n",
    "print(is_month_summ['분야'].value_counts())"
   ]
  },
  {
   "cell_type": "code",
   "execution_count": 50,
   "metadata": {
    "scrolled": false
   },
   "outputs": [
    {
     "data": {
      "text/plain": [
       "<AxesSubplot:xlabel='분야', ylabel='count'>"
      ]
     },
     "execution_count": 50,
     "metadata": {},
     "output_type": "execute_result"
    },
    {
     "data": {
      "image/png": "[encoded data removed]",
      "text/plain": [
       "<Figure size 864x576 with 1 Axes>"
      ]
     },
     "metadata": {
      "needs_background": "light"
     },
     "output_type": "display_data"
    }
   ],
   "source": [
    "plt.figure(figsize = (12,8))\n",
    "plt.xticks(rotation = - 45 )\n",
    "sns.countplot(is_month_summ['분야'], order = is_month_summ['분야'].value_counts().index)"
   ]
  },
  {
   "cell_type": "markdown",
   "metadata": {},
   "source": [
    "### 4. 가을"
   ]
  },
  {
   "cell_type": "code",
   "execution_count": 51,
   "metadata": {
    "scrolled": false
   },
   "outputs": [
    {
     "name": "stdout",
     "output_type": "stream",
     "text": [
      "경제/경영        106\n",
      "소설            85\n",
      "시/에세이         84\n",
      "인문            79\n",
      "자기계발          64\n",
      "어린이(초등)       60\n",
      "외국어           20\n",
      "정치/사회         19\n",
      "만화            16\n",
      "역사/문화         13\n",
      "과학            13\n",
      "가정/육아          9\n",
      "유아(0~7세)       8\n",
      "예술/대중문화        6\n",
      "컴퓨터/IT         6\n",
      "건강             5\n",
      "요리             4\n",
      "취미/실용/스포츠      1\n",
      "기술/공학          1\n",
      "종교             1\n",
      "Name: 분야, dtype: int64\n"
     ]
    },
    {
     "data": {
      "text/plain": [
       "<AxesSubplot:xlabel='분야', ylabel='count'>"
      ]
     },
     "execution_count": 51,
     "metadata": {},
     "output_type": "execute_result"
    },
    {
     "data": {
      "image/png": "[encoded data removed]",
      "text/plain": [
       "<Figure size 864x576 with 1 Axes>"
      ]
     },
     "metadata": {
      "needs_background": "light"
     },
     "output_type": "display_data"
    }
   ],
   "source": [
    "is_month_fall = bstSeller[bstSeller['월'] == 9]\n",
    "is_month_fall = is_month_fall.append(bstSeller[bstSeller['월'] == 10],ignore_index=True)\n",
    "is_month_fall = is_month_fall.append(bstSeller[bstSeller['월'] == 11],ignore_index=True)\n",
    "print(is_month_fall['분야'].value_counts())\n",
    "plt.figure(figsize = (12,8))\n",
    "plt.xticks(rotation = - 45 )\n",
    "sns.countplot(is_month_fall['분야'],order = is_month_fall['분야'].value_counts().index)"
   ]
  },
  {
   "cell_type": "code",
   "execution_count": 52,
   "metadata": {
    "scrolled": false
   },
   "outputs": [
    {
     "data": {
      "text/html": [
       "<div>\n",
       "<style scoped>\n",
       "    .dataframe tbody tr th:only-of-type {\n",
       "        vertical-align: middle;\n",
       "    }\n",
       "\n",
       "    .dataframe tbody tr th {\n",
       "        vertical-align: top;\n",
       "    }\n",
       "\n",
       "    .dataframe thead th {\n",
       "        text-align: right;\n",
       "    }\n",
       "</style>\n",
       "<table border=\"1\" class=\"dataframe\">\n",
       "  <thead>\n",
       "    <tr style=\"text-align: right;\">\n",
       "      <th></th>\n",
       "      <th>순위</th>\n",
       "      <th>도서명</th>\n",
       "      <th>저자명</th>\n",
       "      <th>출판사명</th>\n",
       "      <th>출간일</th>\n",
       "      <th>분야</th>\n",
       "      <th>정가</th>\n",
       "      <th>쪽수</th>\n",
       "      <th>월</th>\n",
       "    </tr>\n",
       "  </thead>\n",
       "  <tbody>\n",
       "    <tr>\n",
       "      <th>19</th>\n",
       "      <td>20</td>\n",
       "      <td>해커스 토익 기출 보카 TOEIC VOCA(개정판 5판)</td>\n",
       "      <td>David Cho</td>\n",
       "      <td>해커스어학연구소</td>\n",
       "      <td>2020-03-05</td>\n",
       "      <td>외국어</td>\n",
       "      <td>12900</td>\n",
       "      <td>566</td>\n",
       "      <td>12</td>\n",
       "    </tr>\n",
       "    <tr>\n",
       "      <th>69</th>\n",
       "      <td>70</td>\n",
       "      <td>해커스 토익 RC 리딩(Reading)(개정판 8판)</td>\n",
       "      <td>David Cho</td>\n",
       "      <td>해커스어학연구소</td>\n",
       "      <td>2020-03-02</td>\n",
       "      <td>외국어</td>\n",
       "      <td>18800</td>\n",
       "      <td>800</td>\n",
       "      <td>12</td>\n",
       "    </tr>\n",
       "    <tr>\n",
       "      <th>77</th>\n",
       "      <td>78</td>\n",
       "      <td>영어회화 핵심패턴 233</td>\n",
       "      <td>백선엽</td>\n",
       "      <td>길벗이지톡</td>\n",
       "      <td>2016-08-15</td>\n",
       "      <td>외국어</td>\n",
       "      <td>15000</td>\n",
       "      <td>404</td>\n",
       "      <td>12</td>\n",
       "    </tr>\n",
       "    <tr>\n",
       "      <th>89</th>\n",
       "      <td>90</td>\n",
       "      <td>해커스 토익 LC 리스닝(Listening)(개정판 8판)</td>\n",
       "      <td>David Cho</td>\n",
       "      <td>해커스어학연구소</td>\n",
       "      <td>2020-03-18</td>\n",
       "      <td>외국어</td>\n",
       "      <td>18800</td>\n",
       "      <td>626</td>\n",
       "      <td>12</td>\n",
       "    </tr>\n",
       "    <tr>\n",
       "      <th>115</th>\n",
       "      <td>116</td>\n",
       "      <td>기적의 말하기 영단어 1000(무료 MP3 파일)</td>\n",
       "      <td>이시원</td>\n",
       "      <td>시원스쿨닷컴</td>\n",
       "      <td>2019-02-12</td>\n",
       "      <td>외국어</td>\n",
       "      <td>9000</td>\n",
       "      <td>348</td>\n",
       "      <td>12</td>\n",
       "    </tr>\n",
       "    <tr>\n",
       "      <th>141</th>\n",
       "      <td>142</td>\n",
       "      <td>해커스 보카(Hackers Vocabulary)(개정판 2판)</td>\n",
       "      <td>David Cho</td>\n",
       "      <td>해커스어학연구소</td>\n",
       "      <td>2015-07-01</td>\n",
       "      <td>외국어</td>\n",
       "      <td>16900</td>\n",
       "      <td>366</td>\n",
       "      <td>12</td>\n",
       "    </tr>\n",
       "    <tr>\n",
       "      <th>143</th>\n",
       "      <td>144</td>\n",
       "      <td>해커스 토익 700+ LC+RC(한 권으로 끝내는)</td>\n",
       "      <td>해커스 어학연구소</td>\n",
       "      <td>해커스어학연구소</td>\n",
       "      <td>2020-04-17</td>\n",
       "      <td>외국어</td>\n",
       "      <td>19500</td>\n",
       "      <td>596</td>\n",
       "      <td>12</td>\n",
       "    </tr>\n",
       "    <tr>\n",
       "      <th>192</th>\n",
       "      <td>193</td>\n",
       "      <td>해커스 토익 스타트 리딩(Reading) RC(개정판 4판)</td>\n",
       "      <td>David Cho</td>\n",
       "      <td>해커스어학연구소</td>\n",
       "      <td>2020-02-20</td>\n",
       "      <td>외국어</td>\n",
       "      <td>14900</td>\n",
       "      <td>580</td>\n",
       "      <td>12</td>\n",
       "    </tr>\n",
       "    <tr>\n",
       "      <th>210</th>\n",
       "      <td>70</td>\n",
       "      <td>해커스 토익 스타트 리스닝(Listening) LC(개정판 4판)</td>\n",
       "      <td>David Cho</td>\n",
       "      <td>해커스어학연구소</td>\n",
       "      <td>2020-03-09</td>\n",
       "      <td>외국어</td>\n",
       "      <td>14900</td>\n",
       "      <td>572</td>\n",
       "      <td>1</td>\n",
       "    </tr>\n",
       "    <tr>\n",
       "      <th>228</th>\n",
       "      <td>130</td>\n",
       "      <td>해커스 토익 왕기초 RC Reading 리딩(2020)</td>\n",
       "      <td>해커스 어학연구소</td>\n",
       "      <td>해커스어학연구소</td>\n",
       "      <td>2020-05-28</td>\n",
       "      <td>외국어</td>\n",
       "      <td>13900</td>\n",
       "      <td>340</td>\n",
       "      <td>1</td>\n",
       "    </tr>\n",
       "    <tr>\n",
       "      <th>230</th>\n",
       "      <td>133</td>\n",
       "      <td>해커스 OPIc 오픽 Advanced 공략(2주 만에 끝내는)(개정판 2판)</td>\n",
       "      <td>해커스 오픽연구소</td>\n",
       "      <td>해커스</td>\n",
       "      <td>2019-12-02</td>\n",
       "      <td>외국어</td>\n",
       "      <td>15900</td>\n",
       "      <td>321</td>\n",
       "      <td>1</td>\n",
       "    </tr>\n",
       "    <tr>\n",
       "      <th>232</th>\n",
       "      <td>140</td>\n",
       "      <td>해커스 토익스피킹(토스) Start(2주 만에 끝내는)(개정판 4판)</td>\n",
       "      <td>David Cho</td>\n",
       "      <td>해커스어학연구소</td>\n",
       "      <td>2020-01-06</td>\n",
       "      <td>외국어</td>\n",
       "      <td>19800</td>\n",
       "      <td>552</td>\n",
       "      <td>1</td>\n",
       "    </tr>\n",
       "    <tr>\n",
       "      <th>236</th>\n",
       "      <td>151</td>\n",
       "      <td>여행영어 10분의 기적(해커스톡)</td>\n",
       "      <td>해커스어학연구소</td>\n",
       "      <td>해커스어학연구소</td>\n",
       "      <td>2019-01-02</td>\n",
       "      <td>외국어</td>\n",
       "      <td>9800</td>\n",
       "      <td>222</td>\n",
       "      <td>1</td>\n",
       "    </tr>\n",
       "    <tr>\n",
       "      <th>240</th>\n",
       "      <td>161</td>\n",
       "      <td>해커스 토플 리딩(Hackers TOEFL Reading)</td>\n",
       "      <td>David Cho</td>\n",
       "      <td>해커스어학연구소</td>\n",
       "      <td>2019-08-01</td>\n",
       "      <td>외국어</td>\n",
       "      <td>23900</td>\n",
       "      <td>544</td>\n",
       "      <td>1</td>\n",
       "    </tr>\n",
       "    <tr>\n",
       "      <th>244</th>\n",
       "      <td>176</td>\n",
       "      <td>왕초보 영어회화 10분의 기적: 기초패턴으로 말하기(해커스톡)</td>\n",
       "      <td>해커스어학연구소</td>\n",
       "      <td>해커스어학연구소</td>\n",
       "      <td>2018-10-05</td>\n",
       "      <td>외국어</td>\n",
       "      <td>11900</td>\n",
       "      <td>237</td>\n",
       "      <td>1</td>\n",
       "    </tr>\n",
       "    <tr>\n",
       "      <th>245</th>\n",
       "      <td>177</td>\n",
       "      <td>해커스 토익 중급 리딩(Hackers TOEIC Reading)(신토익 Editio...</td>\n",
       "      <td>David Cho</td>\n",
       "      <td>해커스어학연구소</td>\n",
       "      <td>2020-05-22</td>\n",
       "      <td>외국어</td>\n",
       "      <td>14900</td>\n",
       "      <td>504</td>\n",
       "      <td>1</td>\n",
       "    </tr>\n",
       "    <tr>\n",
       "      <th>249</th>\n",
       "      <td>182</td>\n",
       "      <td>영어회화 핵심패턴 233 기초편</td>\n",
       "      <td>백선엽</td>\n",
       "      <td>길벗이지톡</td>\n",
       "      <td>2018-07-20</td>\n",
       "      <td>외국어</td>\n",
       "      <td>15000</td>\n",
       "      <td>404</td>\n",
       "      <td>1</td>\n",
       "    </tr>\n",
       "    <tr>\n",
       "      <th>251</th>\n",
       "      <td>186</td>\n",
       "      <td>해커스 뉴텝스(New TEPS) 기출 보카</td>\n",
       "      <td>David Cho</td>\n",
       "      <td>해커스어학연구소</td>\n",
       "      <td>2018-10-17</td>\n",
       "      <td>외국어</td>\n",
       "      <td>14900</td>\n",
       "      <td>568</td>\n",
       "      <td>1</td>\n",
       "    </tr>\n",
       "    <tr>\n",
       "      <th>255</th>\n",
       "      <td>194</td>\n",
       "      <td>해커스 토익스피킹(토스) Level. 7·8(2주 만에 끝내는)(개정판 3판)</td>\n",
       "      <td>해커스 어학연구소</td>\n",
       "      <td>해커스어학연구소</td>\n",
       "      <td>2019-07-31</td>\n",
       "      <td>외국어</td>\n",
       "      <td>19800</td>\n",
       "      <td>472</td>\n",
       "      <td>1</td>\n",
       "    </tr>\n",
       "    <tr>\n",
       "      <th>279</th>\n",
       "      <td>78</td>\n",
       "      <td>친절한 대학의 다시 배우는 영어 교실. 1</td>\n",
       "      <td>이상현(이지 쌤)</td>\n",
       "      <td>길벗</td>\n",
       "      <td>2019-12-31</td>\n",
       "      <td>외국어</td>\n",
       "      <td>13000</td>\n",
       "      <td>228</td>\n",
       "      <td>2</td>\n",
       "    </tr>\n",
       "    <tr>\n",
       "      <th>283</th>\n",
       "      <td>96</td>\n",
       "      <td>친절한 대학의 다시 배우는 영어 교실. 2</td>\n",
       "      <td>이상현(이지 쌤)</td>\n",
       "      <td>길벗</td>\n",
       "      <td>2020-01-31</td>\n",
       "      <td>외국어</td>\n",
       "      <td>13000</td>\n",
       "      <td>268</td>\n",
       "      <td>2</td>\n",
       "    </tr>\n",
       "    <tr>\n",
       "      <th>360</th>\n",
       "      <td>107</td>\n",
       "      <td>영어 회화의 결정적 단어들</td>\n",
       "      <td>서영조</td>\n",
       "      <td>사람in</td>\n",
       "      <td>2020-03-06</td>\n",
       "      <td>외국어</td>\n",
       "      <td>15000</td>\n",
       "      <td>320</td>\n",
       "      <td>3</td>\n",
       "    </tr>\n",
       "    <tr>\n",
       "      <th>362</th>\n",
       "      <td>114</td>\n",
       "      <td>영어회화 이디엄(미국적인 너무나 미국적인)</td>\n",
       "      <td>김아영</td>\n",
       "      <td>사람in</td>\n",
       "      <td>2020-01-03</td>\n",
       "      <td>외국어</td>\n",
       "      <td>15000</td>\n",
       "      <td>336</td>\n",
       "      <td>3</td>\n",
       "    </tr>\n",
       "    <tr>\n",
       "      <th>575</th>\n",
       "      <td>113</td>\n",
       "      <td>신기하게 영어 뇌가 만들어지는 영문법(12만 유튜버 지후쌤의)</td>\n",
       "      <td>주지후</td>\n",
       "      <td>파고다북스</td>\n",
       "      <td>2020-06-10</td>\n",
       "      <td>외국어</td>\n",
       "      <td>15000</td>\n",
       "      <td>400</td>\n",
       "      <td>6</td>\n",
       "    </tr>\n",
       "    <tr>\n",
       "      <th>648</th>\n",
       "      <td>167</td>\n",
       "      <td>ETS 토익 기출 VOCA 출제기관 공식수험서(개정판)</td>\n",
       "      <td>ETS</td>\n",
       "      <td>YBM</td>\n",
       "      <td>2018-06-05</td>\n",
       "      <td>외국어</td>\n",
       "      <td>12900</td>\n",
       "      <td>512</td>\n",
       "      <td>7</td>\n",
       "    </tr>\n",
       "    <tr>\n",
       "      <th>656</th>\n",
       "      <td>196</td>\n",
       "      <td>영단기 토익 기본서 RC(한정판)</td>\n",
       "      <td>정재현</td>\n",
       "      <td>에스티유니타스</td>\n",
       "      <td>2020-03-06</td>\n",
       "      <td>외국어</td>\n",
       "      <td>5900</td>\n",
       "      <td>720</td>\n",
       "      <td>7</td>\n",
       "    </tr>\n",
       "    <tr>\n",
       "      <th>789</th>\n",
       "      <td>76</td>\n",
       "      <td>딱 이만큼 영어 회화</td>\n",
       "      <td>김영익</td>\n",
       "      <td>다산북스</td>\n",
       "      <td>2020-09-09</td>\n",
       "      <td>외국어</td>\n",
       "      <td>16000</td>\n",
       "      <td>340</td>\n",
       "      <td>10</td>\n",
       "    </tr>\n",
       "  </tbody>\n",
       "</table>\n",
       "</div>"
      ],
      "text/plain": [
       "      순위                                                도서명        저자명  \\\n",
       "19    20                    해커스 토익 기출 보카 TOEIC VOCA(개정판 5판)  David Cho   \n",
       "69    70                      해커스 토익 RC 리딩(Reading)(개정판 8판)  David Cho   \n",
       "77    78                                      영어회화 핵심패턴 233        백선엽   \n",
       "89    90                   해커스 토익 LC 리스닝(Listening)(개정판 8판)  David Cho   \n",
       "115  116                        기적의 말하기 영단어 1000(무료 MP3 파일)        이시원   \n",
       "141  142                 해커스 보카(Hackers Vocabulary)(개정판 2판)  David Cho   \n",
       "143  144                       해커스 토익 700+ LC+RC(한 권으로 끝내는)  해커스 어학연구소   \n",
       "192  193                  해커스 토익 스타트 리딩(Reading) RC(개정판 4판)  David Cho   \n",
       "210   70               해커스 토익 스타트 리스닝(Listening) LC(개정판 4판)  David Cho   \n",
       "228  130                     해커스 토익 왕기초 RC Reading 리딩(2020)  해커스 어학연구소   \n",
       "230  133         해커스 OPIc 오픽 Advanced 공략(2주 만에 끝내는)(개정판 2판)  해커스 오픽연구소   \n",
       "232  140             해커스 토익스피킹(토스) Start(2주 만에 끝내는)(개정판 4판)  David Cho   \n",
       "236  151                                 여행영어 10분의 기적(해커스톡)   해커스어학연구소   \n",
       "240  161                   해커스 토플 리딩(Hackers TOEFL Reading)  David Cho   \n",
       "244  176                 왕초보 영어회화 10분의 기적: 기초패턴으로 말하기(해커스톡)   해커스어학연구소   \n",
       "245  177  해커스 토익 중급 리딩(Hackers TOEIC Reading)(신토익 Editio...  David Cho   \n",
       "249  182                                  영어회화 핵심패턴 233 기초편        백선엽   \n",
       "251  186                            해커스 뉴텝스(New TEPS) 기출 보카  David Cho   \n",
       "255  194        해커스 토익스피킹(토스) Level. 7·8(2주 만에 끝내는)(개정판 3판)  해커스 어학연구소   \n",
       "279   78                            친절한 대학의 다시 배우는 영어 교실. 1  이상현(이지 쌤)   \n",
       "283   96                            친절한 대학의 다시 배우는 영어 교실. 2  이상현(이지 쌤)   \n",
       "360  107                                     영어 회화의 결정적 단어들        서영조   \n",
       "362  114                            영어회화 이디엄(미국적인 너무나 미국적인)        김아영   \n",
       "575  113                 신기하게 영어 뇌가 만들어지는 영문법(12만 유튜버 지후쌤의)        주지후   \n",
       "648  167                     ETS 토익 기출 VOCA 출제기관 공식수험서(개정판)        ETS   \n",
       "656  196                                 영단기 토익 기본서 RC(한정판)        정재현   \n",
       "789   76                                        딱 이만큼 영어 회화        김영익   \n",
       "\n",
       "         출판사명        출간일   분야     정가   쪽수   월  \n",
       "19   해커스어학연구소 2020-03-05  외국어  12900  566  12  \n",
       "69   해커스어학연구소 2020-03-02  외국어  18800  800  12  \n",
       "77      길벗이지톡 2016-08-15  외국어  15000  404  12  \n",
       "89   해커스어학연구소 2020-03-18  외국어  18800  626  12  \n",
       "115    시원스쿨닷컴 2019-02-12  외국어   9000  348  12  \n",
       "141  해커스어학연구소 2015-07-01  외국어  16900  366  12  \n",
       "143  해커스어학연구소 2020-04-17  외국어  19500  596  12  \n",
       "192  해커스어학연구소 2020-02-20  외국어  14900  580  12  \n",
       "210  해커스어학연구소 2020-03-09  외국어  14900  572   1  \n",
       "228  해커스어학연구소 2020-05-28  외국어  13900  340   1  \n",
       "230       해커스 2019-12-02  외국어  15900  321   1  \n",
       "232  해커스어학연구소 2020-01-06  외국어  19800  552   1  \n",
       "236  해커스어학연구소 2019-01-02  외국어   9800  222   1  \n",
       "240  해커스어학연구소 2019-08-01  외국어  23900  544   1  \n",
       "244  해커스어학연구소 2018-10-05  외국어  11900  237   1  \n",
       "245  해커스어학연구소 2020-05-22  외국어  14900  504   1  \n",
       "249     길벗이지톡 2018-07-20  외국어  15000  404   1  \n",
       "251  해커스어학연구소 2018-10-17  외국어  14900  568   1  \n",
       "255  해커스어학연구소 2019-07-31  외국어  19800  472   1  \n",
       "279        길벗 2019-12-31  외국어  13000  228   2  \n",
       "283        길벗 2020-01-31  외국어  13000  268   2  \n",
       "360      사람in 2020-03-06  외국어  15000  320   3  \n",
       "362      사람in 2020-01-03  외국어  15000  336   3  \n",
       "575     파고다북스 2020-06-10  외국어  15000  400   6  \n",
       "648       YBM 2018-06-05  외국어  12900  512   7  \n",
       "656   에스티유니타스 2020-03-06  외국어   5900  720   7  \n",
       "789      다산북스 2020-09-09  외국어  16000  340  10  "
      ]
     },
     "execution_count": 52,
     "metadata": {},
     "output_type": "execute_result"
    }
   ],
   "source": [
    "f = df1['분야'] == '외국어'\n",
    "f = df1[f]\n",
    "f"
   ]
  },
  {
   "cell_type": "markdown",
   "metadata": {},
   "source": [
    "**확실히 외국어 분야의 경우 겨울에 대부분 분포해있음을 확인 가능**"
   ]
  },
  {
   "cell_type": "markdown",
   "metadata": {},
   "source": [
    "## 4. 출간일 관련 분석"
   ]
  },
  {
   "cell_type": "code",
   "execution_count": 53,
   "metadata": {
    "scrolled": true
   },
   "outputs": [],
   "source": [
    "df1['출간일'] = df1['출간일'].astype(str).str[:4]  # apply(str) 타입을 변환해주어야 함"
   ]
  },
  {
   "cell_type": "code",
   "execution_count": 54,
   "metadata": {
    "scrolled": true
   },
   "outputs": [],
   "source": [
    "df1['출간일'] = df1['출간일'].astype('category').str[:4]  # 맨 앞 4자리만 남김"
   ]
  },
  {
   "cell_type": "code",
   "execution_count": 55,
   "metadata": {
    "scrolled": false
   },
   "outputs": [
    {
     "data": {
      "text/html": [
       "<div>\n",
       "<style scoped>\n",
       "    .dataframe tbody tr th:only-of-type {\n",
       "        vertical-align: middle;\n",
       "    }\n",
       "\n",
       "    .dataframe tbody tr th {\n",
       "        vertical-align: top;\n",
       "    }\n",
       "\n",
       "    .dataframe thead th {\n",
       "        text-align: right;\n",
       "    }\n",
       "</style>\n",
       "<table border=\"1\" class=\"dataframe\">\n",
       "  <thead>\n",
       "    <tr style=\"text-align: right;\">\n",
       "      <th></th>\n",
       "      <th>순위</th>\n",
       "      <th>도서명</th>\n",
       "      <th>저자명</th>\n",
       "      <th>출판사명</th>\n",
       "      <th>출간일</th>\n",
       "      <th>분야</th>\n",
       "      <th>정가</th>\n",
       "      <th>쪽수</th>\n",
       "      <th>월</th>\n",
       "    </tr>\n",
       "  </thead>\n",
       "  <tbody>\n",
       "    <tr>\n",
       "      <th>0</th>\n",
       "      <td>1</td>\n",
       "      <td>트렌드 코리아 2020</td>\n",
       "      <td>김난도</td>\n",
       "      <td>미래의창</td>\n",
       "      <td>2019</td>\n",
       "      <td>경제/경영</td>\n",
       "      <td>18000</td>\n",
       "      <td>448</td>\n",
       "      <td>12</td>\n",
       "    </tr>\n",
       "    <tr>\n",
       "      <th>1</th>\n",
       "      <td>2</td>\n",
       "      <td>1일 1페이지, 세상에서 가장 짧은 교양 수업 365</td>\n",
       "      <td>데이비드 S. 키더</td>\n",
       "      <td>위즈덤하우스</td>\n",
       "      <td>2019</td>\n",
       "      <td>인문</td>\n",
       "      <td>16000</td>\n",
       "      <td>392</td>\n",
       "      <td>12</td>\n",
       "    </tr>\n",
       "    <tr>\n",
       "      <th>2</th>\n",
       "      <td>3</td>\n",
       "      <td>지쳤거나 좋아하는 게 없거나</td>\n",
       "      <td>글배우</td>\n",
       "      <td>강한별</td>\n",
       "      <td>2019</td>\n",
       "      <td>시/에세이</td>\n",
       "      <td>13500</td>\n",
       "      <td>248</td>\n",
       "      <td>12</td>\n",
       "    </tr>\n",
       "    <tr>\n",
       "      <th>3</th>\n",
       "      <td>4</td>\n",
       "      <td>팩트풀니스(양장본 HardCover)</td>\n",
       "      <td>한스 로슬링</td>\n",
       "      <td>김영사</td>\n",
       "      <td>2019</td>\n",
       "      <td>인문</td>\n",
       "      <td>19800</td>\n",
       "      <td>474</td>\n",
       "      <td>12</td>\n",
       "    </tr>\n",
       "    <tr>\n",
       "      <th>4</th>\n",
       "      <td>5</td>\n",
       "      <td>에이트(양장본 HardCover)</td>\n",
       "      <td>이지성</td>\n",
       "      <td>차이정원</td>\n",
       "      <td>2019</td>\n",
       "      <td>자기계발</td>\n",
       "      <td>17000</td>\n",
       "      <td>308</td>\n",
       "      <td>12</td>\n",
       "    </tr>\n",
       "    <tr>\n",
       "      <th>...</th>\n",
       "      <td>...</td>\n",
       "      <td>...</td>\n",
       "      <td>...</td>\n",
       "      <td>...</td>\n",
       "      <td>...</td>\n",
       "      <td>...</td>\n",
       "      <td>...</td>\n",
       "      <td>...</td>\n",
       "      <td>...</td>\n",
       "    </tr>\n",
       "    <tr>\n",
       "      <th>884</th>\n",
       "      <td>184</td>\n",
       "      <td>권력은 사람의 뇌를 바꾼다</td>\n",
       "      <td>강준만</td>\n",
       "      <td>인물과사상사</td>\n",
       "      <td>2020</td>\n",
       "      <td>정치/사회</td>\n",
       "      <td>17000</td>\n",
       "      <td>360</td>\n",
       "      <td>11</td>\n",
       "    </tr>\n",
       "    <tr>\n",
       "      <th>885</th>\n",
       "      <td>189</td>\n",
       "      <td>시가 나에게 살라고 한다</td>\n",
       "      <td>나태주 (엮음)</td>\n",
       "      <td>&amp;(앤드)</td>\n",
       "      <td>2020</td>\n",
       "      <td>시/에세이</td>\n",
       "      <td>14500</td>\n",
       "      <td>260</td>\n",
       "      <td>11</td>\n",
       "    </tr>\n",
       "    <tr>\n",
       "      <th>886</th>\n",
       "      <td>191</td>\n",
       "      <td>수상한 이웃집(잠뜰TV 오리지널 스토리북)(양장본 HardCover)</td>\n",
       "      <td>잠뜰TV (원작)</td>\n",
       "      <td>서울문화사</td>\n",
       "      <td>2020</td>\n",
       "      <td>어린이(초등)</td>\n",
       "      <td>11000</td>\n",
       "      <td>1</td>\n",
       "      <td>11</td>\n",
       "    </tr>\n",
       "    <tr>\n",
       "      <th>887</th>\n",
       "      <td>198</td>\n",
       "      <td>주식 네 이놈. 2: 기법편</td>\n",
       "      <td>문제룡</td>\n",
       "      <td>지서연</td>\n",
       "      <td>2020</td>\n",
       "      <td>경제/경영</td>\n",
       "      <td>20000</td>\n",
       "      <td>292</td>\n",
       "      <td>11</td>\n",
       "    </tr>\n",
       "    <tr>\n",
       "      <th>888</th>\n",
       "      <td>200</td>\n",
       "      <td>오은영의 화해</td>\n",
       "      <td>오은영</td>\n",
       "      <td>코리아닷컴</td>\n",
       "      <td>2019</td>\n",
       "      <td>자기계발</td>\n",
       "      <td>16000</td>\n",
       "      <td>320</td>\n",
       "      <td>11</td>\n",
       "    </tr>\n",
       "  </tbody>\n",
       "</table>\n",
       "<p>889 rows × 9 columns</p>\n",
       "</div>"
      ],
      "text/plain": [
       "      순위                                     도서명         저자명    출판사명   출간일  \\\n",
       "0      1                            트렌드 코리아 2020         김난도    미래의창  2019   \n",
       "1      2           1일 1페이지, 세상에서 가장 짧은 교양 수업 365  데이비드 S. 키더  위즈덤하우스  2019   \n",
       "2      3                         지쳤거나 좋아하는 게 없거나         글배우     강한별  2019   \n",
       "3      4                    팩트풀니스(양장본 HardCover)      한스 로슬링     김영사  2019   \n",
       "4      5                      에이트(양장본 HardCover)         이지성    차이정원  2019   \n",
       "..   ...                                     ...         ...     ...   ...   \n",
       "884  184                          권력은 사람의 뇌를 바꾼다         강준만  인물과사상사  2020   \n",
       "885  189                           시가 나에게 살라고 한다    나태주 (엮음)   &(앤드)  2020   \n",
       "886  191  수상한 이웃집(잠뜰TV 오리지널 스토리북)(양장본 HardCover)   잠뜰TV (원작)   서울문화사  2020   \n",
       "887  198                         주식 네 이놈. 2: 기법편         문제룡     지서연  2020   \n",
       "888  200                                 오은영의 화해         오은영   코리아닷컴  2019   \n",
       "\n",
       "          분야     정가   쪽수   월  \n",
       "0      경제/경영  18000  448  12  \n",
       "1         인문  16000  392  12  \n",
       "2      시/에세이  13500  248  12  \n",
       "3         인문  19800  474  12  \n",
       "4       자기계발  17000  308  12  \n",
       "..       ...    ...  ...  ..  \n",
       "884    정치/사회  17000  360  11  \n",
       "885    시/에세이  14500  260  11  \n",
       "886  어린이(초등)  11000    1  11  \n",
       "887    경제/경영  20000  292  11  \n",
       "888     자기계발  16000  320  11  \n",
       "\n",
       "[889 rows x 9 columns]"
      ]
     },
     "execution_count": 55,
     "metadata": {},
     "output_type": "execute_result"
    }
   ],
   "source": [
    "df1"
   ]
  },
  {
   "cell_type": "markdown",
   "metadata": {},
   "source": [
    "### 1. 전체 출간일 분포"
   ]
  },
  {
   "cell_type": "code",
   "execution_count": 56,
   "metadata": {
    "scrolled": false
   },
   "outputs": [
    {
     "data": {
      "text/plain": [
       "<AxesSubplot:xlabel='출간일'>"
      ]
     },
     "execution_count": 56,
     "metadata": {},
     "output_type": "execute_result"
    },
    {
     "data": {
      "image/png": "[encoded data removed]",
      "text/plain": [
       "<Figure size 1152x864 with 1 Axes>"
      ]
     },
     "metadata": {
      "needs_background": "light"
     },
     "output_type": "display_data"
    }
   ],
   "source": [
    "plt.figure(figsize = (16,12))\n",
    "plt.xticks(rotation = - 45 )\n",
    "sns.distplot(df1['출간일'], kde=False) "
   ]
  },
  {
   "cell_type": "code",
   "execution_count": 57,
   "metadata": {
    "scrolled": true
   },
   "outputs": [
    {
     "data": {
      "text/plain": [
       "2020    582\n",
       "2019    185\n",
       "2018     38\n",
       "2016     17\n",
       "2017     15\n",
       "2015     13\n",
       "2014      7\n",
       "2013      4\n",
       "2011      4\n",
       "2012      4\n",
       "2009      4\n",
       "2010      4\n",
       "2007      3\n",
       "2008      3\n",
       "2005      2\n",
       "2000      1\n",
       "2003      1\n",
       "1998      1\n",
       "2006      1\n",
       "Name: 출간일, dtype: int64"
      ]
     },
     "execution_count": 57,
     "metadata": {},
     "output_type": "execute_result"
    }
   ],
   "source": [
    "count_y = df1['출간일'].value_counts()\n",
    "count_y"
   ]
  },
  {
   "cell_type": "markdown",
   "metadata": {},
   "source": [
    "**베스트셀러의 대부분이 2020년에 출판된 책이며, 오래된 책일 수록 베스트셀러 목록에 거의 오르지 못했다.**"
   ]
  },
  {
   "cell_type": "code",
   "execution_count": 58,
   "metadata": {
    "scrolled": true
   },
   "outputs": [
    {
     "data": {
      "text/html": [
       "<div>\n",
       "<style scoped>\n",
       "    .dataframe tbody tr th:only-of-type {\n",
       "        vertical-align: middle;\n",
       "    }\n",
       "\n",
       "    .dataframe tbody tr th {\n",
       "        vertical-align: top;\n",
       "    }\n",
       "\n",
       "    .dataframe thead th {\n",
       "        text-align: right;\n",
       "    }\n",
       "</style>\n",
       "<table border=\"1\" class=\"dataframe\">\n",
       "  <thead>\n",
       "    <tr style=\"text-align: right;\">\n",
       "      <th></th>\n",
       "      <th>순위</th>\n",
       "      <th>도서명</th>\n",
       "      <th>저자명</th>\n",
       "      <th>출판사명</th>\n",
       "      <th>출간일</th>\n",
       "      <th>분야</th>\n",
       "      <th>정가</th>\n",
       "      <th>쪽수</th>\n",
       "      <th>월</th>\n",
       "    </tr>\n",
       "  </thead>\n",
       "  <tbody>\n",
       "    <tr>\n",
       "      <th>461</th>\n",
       "      <td>185</td>\n",
       "      <td>호밀밭의 파수꾼(문예세계문학선 3)</td>\n",
       "      <td>J. D. 샐린저</td>\n",
       "      <td>문예출판사</td>\n",
       "      <td>1998</td>\n",
       "      <td>소설</td>\n",
       "      <td>8000</td>\n",
       "      <td>326</td>\n",
       "      <td>4</td>\n",
       "    </tr>\n",
       "  </tbody>\n",
       "</table>\n",
       "</div>"
      ],
      "text/plain": [
       "      순위                  도서명        저자명   출판사명   출간일  분야    정가   쪽수  월\n",
       "461  185  호밀밭의 파수꾼(문예세계문학선 3)  J. D. 샐린저  문예출판사  1998  소설  8000  326  4"
      ]
     },
     "execution_count": 58,
     "metadata": {},
     "output_type": "execute_result"
    }
   ],
   "source": [
    "i = df1['출간일'] == '1998'\n",
    "i = df1[i]\n",
    "i"
   ]
  },
  {
   "cell_type": "code",
   "execution_count": 59,
   "metadata": {
    "scrolled": true
   },
   "outputs": [
    {
     "data": {
      "text/html": [
       "<div>\n",
       "<style scoped>\n",
       "    .dataframe tbody tr th:only-of-type {\n",
       "        vertical-align: middle;\n",
       "    }\n",
       "\n",
       "    .dataframe tbody tr th {\n",
       "        vertical-align: top;\n",
       "    }\n",
       "\n",
       "    .dataframe thead th {\n",
       "        text-align: right;\n",
       "    }\n",
       "</style>\n",
       "<table border=\"1\" class=\"dataframe\">\n",
       "  <thead>\n",
       "    <tr style=\"text-align: right;\">\n",
       "      <th></th>\n",
       "      <th>순위</th>\n",
       "      <th>도서명</th>\n",
       "      <th>저자명</th>\n",
       "      <th>출판사명</th>\n",
       "      <th>출간일</th>\n",
       "      <th>분야</th>\n",
       "      <th>정가</th>\n",
       "      <th>쪽수</th>\n",
       "      <th>월</th>\n",
       "    </tr>\n",
       "  </thead>\n",
       "  <tbody>\n",
       "    <tr>\n",
       "      <th>382</th>\n",
       "      <td>164</td>\n",
       "      <td>난장이가 쏘아 올린 작은 공</td>\n",
       "      <td>조세희</td>\n",
       "      <td>이성과힘</td>\n",
       "      <td>2000</td>\n",
       "      <td>소설</td>\n",
       "      <td>11000</td>\n",
       "      <td>352</td>\n",
       "      <td>3</td>\n",
       "    </tr>\n",
       "  </tbody>\n",
       "</table>\n",
       "</div>"
      ],
      "text/plain": [
       "      순위              도서명  저자명  출판사명   출간일  분야     정가   쪽수  월\n",
       "382  164  난장이가 쏘아 올린 작은 공  조세희  이성과힘  2000  소설  11000  352  3"
      ]
     },
     "execution_count": 59,
     "metadata": {},
     "output_type": "execute_result"
    }
   ],
   "source": [
    "i = df1['출간일'] == '2000'\n",
    "i = df1[i]\n",
    "i"
   ]
  },
  {
   "cell_type": "code",
   "execution_count": 60,
   "metadata": {
    "scrolled": true
   },
   "outputs": [
    {
     "data": {
      "text/html": [
       "<div>\n",
       "<style scoped>\n",
       "    .dataframe tbody tr th:only-of-type {\n",
       "        vertical-align: middle;\n",
       "    }\n",
       "\n",
       "    .dataframe tbody tr th {\n",
       "        vertical-align: top;\n",
       "    }\n",
       "\n",
       "    .dataframe thead th {\n",
       "        text-align: right;\n",
       "    }\n",
       "</style>\n",
       "<table border=\"1\" class=\"dataframe\">\n",
       "  <thead>\n",
       "    <tr style=\"text-align: right;\">\n",
       "      <th></th>\n",
       "      <th>순위</th>\n",
       "      <th>도서명</th>\n",
       "      <th>저자명</th>\n",
       "      <th>출판사명</th>\n",
       "      <th>출간일</th>\n",
       "      <th>분야</th>\n",
       "      <th>정가</th>\n",
       "      <th>쪽수</th>\n",
       "      <th>월</th>\n",
       "    </tr>\n",
       "  </thead>\n",
       "  <tbody>\n",
       "    <tr>\n",
       "      <th>208</th>\n",
       "      <td>67</td>\n",
       "      <td>서양미술사</td>\n",
       "      <td>E. H. 곰브리치</td>\n",
       "      <td>예경</td>\n",
       "      <td>2003</td>\n",
       "      <td>예술/대중문화</td>\n",
       "      <td>38000</td>\n",
       "      <td>688</td>\n",
       "      <td>1</td>\n",
       "    </tr>\n",
       "  </tbody>\n",
       "</table>\n",
       "</div>"
      ],
      "text/plain": [
       "     순위    도서명         저자명 출판사명   출간일       분야     정가   쪽수  월\n",
       "208  67  서양미술사  E. H. 곰브리치   예경  2003  예술/대중문화  38000  688  1"
      ]
     },
     "execution_count": 60,
     "metadata": {},
     "output_type": "execute_result"
    }
   ],
   "source": [
    "i = df1['출간일'] == '2003'\n",
    "i = df1[i]\n",
    "i"
   ]
  },
  {
   "cell_type": "markdown",
   "metadata": {},
   "source": [
    "### 2. 분야별 출간일 분포"
   ]
  },
  {
   "cell_type": "code",
   "execution_count": 61,
   "metadata": {
    "scrolled": false
   },
   "outputs": [
    {
     "data": {
      "text/plain": [
       "<AxesSubplot:xlabel='출간일', ylabel='count'>"
      ]
     },
     "execution_count": 61,
     "metadata": {},
     "output_type": "execute_result"
    },
    {
     "data": {
      "image/png": "[encoded data removed]",
      "text/plain": [
       "<Figure size 1152x864 with 1 Axes>"
      ]
     },
     "metadata": {
      "needs_background": "light"
     },
     "output_type": "display_data"
    }
   ],
   "source": [
    "plt.figure(figsize = (16,12))\n",
    "plt.xticks(rotation = - 45 )\n",
    "sns.countplot(x='출간일', hue='분야', data=df1)"
   ]
  },
  {
   "cell_type": "markdown",
   "metadata": {},
   "source": [
    "**경제/경영 분야는 돋보이게 최근에 출판된 책이 베스트셀러에 오르는 경향을 보이고 있다. 이는 아마 변화에 민감한 분야이기 때문일 것이라고 유추 가능하다.**"
   ]
  },
  {
   "cell_type": "code",
   "execution_count": 62,
   "metadata": {
    "scrolled": false
   },
   "outputs": [
    {
     "data": {
      "text/html": [
       "<div>\n",
       "<style scoped>\n",
       "    .dataframe tbody tr th:only-of-type {\n",
       "        vertical-align: middle;\n",
       "    }\n",
       "\n",
       "    .dataframe tbody tr th {\n",
       "        vertical-align: top;\n",
       "    }\n",
       "\n",
       "    .dataframe thead th {\n",
       "        text-align: right;\n",
       "    }\n",
       "</style>\n",
       "<table border=\"1\" class=\"dataframe\">\n",
       "  <thead>\n",
       "    <tr style=\"text-align: right;\">\n",
       "      <th></th>\n",
       "      <th>순위</th>\n",
       "      <th>도서명</th>\n",
       "      <th>저자명</th>\n",
       "      <th>출판사명</th>\n",
       "      <th>출간일</th>\n",
       "      <th>분야</th>\n",
       "      <th>정가</th>\n",
       "      <th>쪽수</th>\n",
       "      <th>월</th>\n",
       "    </tr>\n",
       "  </thead>\n",
       "  <tbody>\n",
       "    <tr>\n",
       "      <th>0</th>\n",
       "      <td>1</td>\n",
       "      <td>트렌드 코리아 2020</td>\n",
       "      <td>김난도</td>\n",
       "      <td>미래의창</td>\n",
       "      <td>2019</td>\n",
       "      <td>경제/경영</td>\n",
       "      <td>18000</td>\n",
       "      <td>448</td>\n",
       "      <td>12</td>\n",
       "    </tr>\n",
       "    <tr>\n",
       "      <th>10</th>\n",
       "      <td>11</td>\n",
       "      <td>90년생이 온다</td>\n",
       "      <td>임홍택</td>\n",
       "      <td>웨일북(whalebooks)</td>\n",
       "      <td>2018</td>\n",
       "      <td>경제/경영</td>\n",
       "      <td>14000</td>\n",
       "      <td>336</td>\n",
       "      <td>12</td>\n",
       "    </tr>\n",
       "    <tr>\n",
       "      <th>15</th>\n",
       "      <td>16</td>\n",
       "      <td>대한민국 부동산 사용설명서(양장본 HardCover)</td>\n",
       "      <td>김학렬</td>\n",
       "      <td>에프엔미디어</td>\n",
       "      <td>2020</td>\n",
       "      <td>경제/경영</td>\n",
       "      <td>19500</td>\n",
       "      <td>344</td>\n",
       "      <td>12</td>\n",
       "    </tr>\n",
       "    <tr>\n",
       "      <th>16</th>\n",
       "      <td>17</td>\n",
       "      <td>부의 인문학</td>\n",
       "      <td>브라운스톤</td>\n",
       "      <td>오픈마인드</td>\n",
       "      <td>2019</td>\n",
       "      <td>경제/경영</td>\n",
       "      <td>15000</td>\n",
       "      <td>294</td>\n",
       "      <td>12</td>\n",
       "    </tr>\n",
       "    <tr>\n",
       "      <th>17</th>\n",
       "      <td>18</td>\n",
       "      <td>넛지(양장본 HardCover)</td>\n",
       "      <td>리처드 탈러</td>\n",
       "      <td>리더스북</td>\n",
       "      <td>2018</td>\n",
       "      <td>경제/경영</td>\n",
       "      <td>18000</td>\n",
       "      <td>428</td>\n",
       "      <td>12</td>\n",
       "    </tr>\n",
       "    <tr>\n",
       "      <th>...</th>\n",
       "      <td>...</td>\n",
       "      <td>...</td>\n",
       "      <td>...</td>\n",
       "      <td>...</td>\n",
       "      <td>...</td>\n",
       "      <td>...</td>\n",
       "      <td>...</td>\n",
       "      <td>...</td>\n",
       "      <td>...</td>\n",
       "    </tr>\n",
       "    <tr>\n",
       "      <th>857</th>\n",
       "      <td>98</td>\n",
       "      <td>7대 이슈로 보는 돈의 역사. 2</td>\n",
       "      <td>홍춘욱</td>\n",
       "      <td>로크미디어</td>\n",
       "      <td>2020</td>\n",
       "      <td>경제/경영</td>\n",
       "      <td>17800</td>\n",
       "      <td>364</td>\n",
       "      <td>11</td>\n",
       "    </tr>\n",
       "    <tr>\n",
       "      <th>867</th>\n",
       "      <td>129</td>\n",
       "      <td>1타 7피 주식 초보 최고 계략</td>\n",
       "      <td>박성현</td>\n",
       "      <td>에프엔미디어</td>\n",
       "      <td>2020</td>\n",
       "      <td>경제/경영</td>\n",
       "      <td>16000</td>\n",
       "      <td>264</td>\n",
       "      <td>11</td>\n",
       "    </tr>\n",
       "    <tr>\n",
       "      <th>877</th>\n",
       "      <td>170</td>\n",
       "      <td>언카피어블</td>\n",
       "      <td>짐 매켈비</td>\n",
       "      <td>리더스북</td>\n",
       "      <td>2020</td>\n",
       "      <td>경제/경영</td>\n",
       "      <td>16000</td>\n",
       "      <td>314</td>\n",
       "      <td>11</td>\n",
       "    </tr>\n",
       "    <tr>\n",
       "      <th>880</th>\n",
       "      <td>175</td>\n",
       "      <td>위기의 시대, 돈의 미래(양장본 HardCover)</td>\n",
       "      <td>짐 로저스</td>\n",
       "      <td>리더스북</td>\n",
       "      <td>2020</td>\n",
       "      <td>경제/경영</td>\n",
       "      <td>17500</td>\n",
       "      <td>264</td>\n",
       "      <td>11</td>\n",
       "    </tr>\n",
       "    <tr>\n",
       "      <th>887</th>\n",
       "      <td>198</td>\n",
       "      <td>주식 네 이놈. 2: 기법편</td>\n",
       "      <td>문제룡</td>\n",
       "      <td>지서연</td>\n",
       "      <td>2020</td>\n",
       "      <td>경제/경영</td>\n",
       "      <td>20000</td>\n",
       "      <td>292</td>\n",
       "      <td>11</td>\n",
       "    </tr>\n",
       "  </tbody>\n",
       "</table>\n",
       "<p>156 rows × 9 columns</p>\n",
       "</div>"
      ],
      "text/plain": [
       "      순위                            도서명     저자명             출판사명   출간일     분야  \\\n",
       "0      1                   트렌드 코리아 2020     김난도             미래의창  2019  경제/경영   \n",
       "10    11                       90년생이 온다     임홍택  웨일북(whalebooks)  2018  경제/경영   \n",
       "15    16  대한민국 부동산 사용설명서(양장본 HardCover)     김학렬           에프엔미디어  2020  경제/경영   \n",
       "16    17                         부의 인문학   브라운스톤            오픈마인드  2019  경제/경영   \n",
       "17    18              넛지(양장본 HardCover)  리처드 탈러             리더스북  2018  경제/경영   \n",
       "..   ...                            ...     ...              ...   ...    ...   \n",
       "857   98             7대 이슈로 보는 돈의 역사. 2     홍춘욱            로크미디어  2020  경제/경영   \n",
       "867  129              1타 7피 주식 초보 최고 계략     박성현           에프엔미디어  2020  경제/경영   \n",
       "877  170                          언카피어블   짐 매켈비             리더스북  2020  경제/경영   \n",
       "880  175   위기의 시대, 돈의 미래(양장본 HardCover)   짐 로저스             리더스북  2020  경제/경영   \n",
       "887  198                주식 네 이놈. 2: 기법편     문제룡              지서연  2020  경제/경영   \n",
       "\n",
       "        정가   쪽수   월  \n",
       "0    18000  448  12  \n",
       "10   14000  336  12  \n",
       "15   19500  344  12  \n",
       "16   15000  294  12  \n",
       "17   18000  428  12  \n",
       "..     ...  ...  ..  \n",
       "857  17800  364  11  \n",
       "867  16000  264  11  \n",
       "877  16000  314  11  \n",
       "880  17500  264  11  \n",
       "887  20000  292  11  \n",
       "\n",
       "[156 rows x 9 columns]"
      ]
     },
     "execution_count": 62,
     "metadata": {},
     "output_type": "execute_result"
    }
   ],
   "source": [
    "eco = df1['분야'] == '경제/경영'\n",
    "eco = df1[eco]\n",
    "eco"
   ]
  },
  {
   "cell_type": "code",
   "execution_count": 63,
   "metadata": {
    "scrolled": true
   },
   "outputs": [
    {
     "data": {
      "text/plain": [
       "<AxesSubplot:xlabel='출간일', ylabel='count'>"
      ]
     },
     "execution_count": 63,
     "metadata": {},
     "output_type": "execute_result"
    },
    {
     "data": {
      "image/png": "[encoded data removed]",
      "text/plain": [
       "<Figure size 432x288 with 1 Axes>"
      ]
     },
     "metadata": {
      "needs_background": "light"
     },
     "output_type": "display_data"
    }
   ],
   "source": [
    "sns.countplot(x='출간일', hue='분야', data=eco, order = eco['출간일'].value_counts().index)"
   ]
  },
  {
   "cell_type": "code",
   "execution_count": 64,
   "metadata": {
    "scrolled": false
   },
   "outputs": [
    {
     "data": {
      "text/html": [
       "<div>\n",
       "<style scoped>\n",
       "    .dataframe tbody tr th:only-of-type {\n",
       "        vertical-align: middle;\n",
       "    }\n",
       "\n",
       "    .dataframe tbody tr th {\n",
       "        vertical-align: top;\n",
       "    }\n",
       "\n",
       "    .dataframe thead th {\n",
       "        text-align: right;\n",
       "    }\n",
       "</style>\n",
       "<table border=\"1\" class=\"dataframe\">\n",
       "  <thead>\n",
       "    <tr style=\"text-align: right;\">\n",
       "      <th></th>\n",
       "      <th>순위</th>\n",
       "      <th>도서명</th>\n",
       "      <th>저자명</th>\n",
       "      <th>출판사명</th>\n",
       "      <th>출간일</th>\n",
       "      <th>분야</th>\n",
       "      <th>정가</th>\n",
       "      <th>쪽수</th>\n",
       "      <th>월</th>\n",
       "    </tr>\n",
       "  </thead>\n",
       "  <tbody>\n",
       "    <tr>\n",
       "      <th>5</th>\n",
       "      <td>6</td>\n",
       "      <td>작가들의 비밀스러운 삶</td>\n",
       "      <td>기욤 뮈소</td>\n",
       "      <td>밝은세상</td>\n",
       "      <td>2019</td>\n",
       "      <td>소설</td>\n",
       "      <td>14800</td>\n",
       "      <td>340</td>\n",
       "      <td>12</td>\n",
       "    </tr>\n",
       "    <tr>\n",
       "      <th>12</th>\n",
       "      <td>13</td>\n",
       "      <td>데미안(리커버 한정판)(초판본)(1919년 오리지널 초판본 패브릭 에디션)(양장본 ...</td>\n",
       "      <td>헤르만 헤세</td>\n",
       "      <td>더스토리</td>\n",
       "      <td>2017</td>\n",
       "      <td>소설</td>\n",
       "      <td>12000</td>\n",
       "      <td>248</td>\n",
       "      <td>12</td>\n",
       "    </tr>\n",
       "    <tr>\n",
       "      <th>22</th>\n",
       "      <td>23</td>\n",
       "      <td>일의 기쁨과 슬픔</td>\n",
       "      <td>장류진</td>\n",
       "      <td>창비</td>\n",
       "      <td>2019</td>\n",
       "      <td>소설</td>\n",
       "      <td>14000</td>\n",
       "      <td>236</td>\n",
       "      <td>12</td>\n",
       "    </tr>\n",
       "    <tr>\n",
       "      <th>28</th>\n",
       "      <td>29</td>\n",
       "      <td>82년생 김지영(오늘의 젊은 작가 13)(양장본 HardCover)</td>\n",
       "      <td>조남주</td>\n",
       "      <td>민음사</td>\n",
       "      <td>2016</td>\n",
       "      <td>소설</td>\n",
       "      <td>13000</td>\n",
       "      <td>192</td>\n",
       "      <td>12</td>\n",
       "    </tr>\n",
       "    <tr>\n",
       "      <th>29</th>\n",
       "      <td>30</td>\n",
       "      <td>아홉 명의 완벽한 타인들</td>\n",
       "      <td>리안 모리아티</td>\n",
       "      <td>마시멜로</td>\n",
       "      <td>2019</td>\n",
       "      <td>소설</td>\n",
       "      <td>15800</td>\n",
       "      <td>600</td>\n",
       "      <td>12</td>\n",
       "    </tr>\n",
       "    <tr>\n",
       "      <th>...</th>\n",
       "      <td>...</td>\n",
       "      <td>...</td>\n",
       "      <td>...</td>\n",
       "      <td>...</td>\n",
       "      <td>...</td>\n",
       "      <td>...</td>\n",
       "      <td>...</td>\n",
       "      <td>...</td>\n",
       "      <td>...</td>\n",
       "    </tr>\n",
       "    <tr>\n",
       "      <th>828</th>\n",
       "      <td>11</td>\n",
       "      <td>일인칭 단수(양장본 HardCover)</td>\n",
       "      <td>무라카미 하루키</td>\n",
       "      <td>문학동네</td>\n",
       "      <td>2020</td>\n",
       "      <td>소설</td>\n",
       "      <td>14500</td>\n",
       "      <td>236</td>\n",
       "      <td>11</td>\n",
       "    </tr>\n",
       "    <tr>\n",
       "      <th>830</th>\n",
       "      <td>16</td>\n",
       "      <td>추리소설가의 살인사건(양장본 HardCover)</td>\n",
       "      <td>히가시노 게이고</td>\n",
       "      <td>소미미디어</td>\n",
       "      <td>2020</td>\n",
       "      <td>소설</td>\n",
       "      <td>15800</td>\n",
       "      <td>288</td>\n",
       "      <td>11</td>\n",
       "    </tr>\n",
       "    <tr>\n",
       "      <th>831</th>\n",
       "      <td>20</td>\n",
       "      <td>바이러스 X</td>\n",
       "      <td>김진명</td>\n",
       "      <td>이타북스</td>\n",
       "      <td>2020</td>\n",
       "      <td>소설</td>\n",
       "      <td>15800</td>\n",
       "      <td>324</td>\n",
       "      <td>11</td>\n",
       "    </tr>\n",
       "    <tr>\n",
       "      <th>837</th>\n",
       "      <td>42</td>\n",
       "      <td>인생은 소설이다</td>\n",
       "      <td>기욤 뮈소</td>\n",
       "      <td>밝은세상</td>\n",
       "      <td>2020</td>\n",
       "      <td>소설</td>\n",
       "      <td>15000</td>\n",
       "      <td>312</td>\n",
       "      <td>11</td>\n",
       "    </tr>\n",
       "    <tr>\n",
       "      <th>874</th>\n",
       "      <td>153</td>\n",
       "      <td>블랙 쇼맨과 이름 없는 마을의 살인(양장본 HardCover)</td>\n",
       "      <td>히가시노 게이고</td>\n",
       "      <td>알에이치코리아</td>\n",
       "      <td>2020</td>\n",
       "      <td>소설</td>\n",
       "      <td>18000</td>\n",
       "      <td>528</td>\n",
       "      <td>11</td>\n",
       "    </tr>\n",
       "  </tbody>\n",
       "</table>\n",
       "<p>117 rows × 9 columns</p>\n",
       "</div>"
      ],
      "text/plain": [
       "      순위                                                도서명       저자명  \\\n",
       "5      6                                       작가들의 비밀스러운 삶     기욤 뮈소   \n",
       "12    13  데미안(리커버 한정판)(초판본)(1919년 오리지널 초판본 패브릭 에디션)(양장본 ...    헤르만 헤세   \n",
       "22    23                                          일의 기쁨과 슬픔       장류진   \n",
       "28    29              82년생 김지영(오늘의 젊은 작가 13)(양장본 HardCover)       조남주   \n",
       "29    30                                      아홉 명의 완벽한 타인들   리안 모리아티   \n",
       "..   ...                                                ...       ...   \n",
       "828   11                              일인칭 단수(양장본 HardCover)  무라카미 하루키   \n",
       "830   16                         추리소설가의 살인사건(양장본 HardCover)  히가시노 게이고   \n",
       "831   20                                             바이러스 X       김진명   \n",
       "837   42                                           인생은 소설이다     기욤 뮈소   \n",
       "874  153                 블랙 쇼맨과 이름 없는 마을의 살인(양장본 HardCover)  히가시노 게이고   \n",
       "\n",
       "        출판사명   출간일  분야     정가   쪽수   월  \n",
       "5       밝은세상  2019  소설  14800  340  12  \n",
       "12      더스토리  2017  소설  12000  248  12  \n",
       "22        창비  2019  소설  14000  236  12  \n",
       "28       민음사  2016  소설  13000  192  12  \n",
       "29      마시멜로  2019  소설  15800  600  12  \n",
       "..       ...   ...  ..    ...  ...  ..  \n",
       "828     문학동네  2020  소설  14500  236  11  \n",
       "830    소미미디어  2020  소설  15800  288  11  \n",
       "831     이타북스  2020  소설  15800  324  11  \n",
       "837     밝은세상  2020  소설  15000  312  11  \n",
       "874  알에이치코리아  2020  소설  18000  528  11  \n",
       "\n",
       "[117 rows x 9 columns]"
      ]
     },
     "execution_count": 64,
     "metadata": {},
     "output_type": "execute_result"
    }
   ],
   "source": [
    "nov = df1['분야'] == '소설'\n",
    "nov = df1[nov]\n",
    "nov"
   ]
  },
  {
   "cell_type": "code",
   "execution_count": 65,
   "metadata": {
    "scrolled": true
   },
   "outputs": [
    {
     "data": {
      "text/plain": [
       "<AxesSubplot:xlabel='출간일', ylabel='count'>"
      ]
     },
     "execution_count": 65,
     "metadata": {},
     "output_type": "execute_result"
    },
    {
     "data": {
      "image/png": "[encoded data removed]",
      "text/plain": [
       "<Figure size 432x288 with 1 Axes>"
      ]
     },
     "metadata": {
      "needs_background": "light"
     },
     "output_type": "display_data"
    }
   ],
   "source": [
    "sns.countplot(x='출간일', hue='분야', data=nov) # order = nov['출간일'].value_counts().index"
   ]
  },
  {
   "cell_type": "markdown",
   "metadata": {},
   "source": [
    "**소설 분야는 비교적 베스트셀러의 분포가 다양하다.**"
   ]
  },
  {
   "cell_type": "code",
   "execution_count": null,
   "metadata": {
    "scrolled": true
   },
   "outputs": [],
   "source": []
  }
 ],
 "metadata": {
  "kernelspec": {
   "display_name": "Python 3",
   "language": "python",
   "name": "python3"
  },
  "language_info": {
   "codemirror_mode": {
    "name": "ipython",
    "version": 3
   },
   "file_extension": ".py",
   "mimetype": "text/x-python",
   "name": "python",
   "nbconvert_exporter": "python",
   "pygments_lexer": "ipython3",
   "version": "3.8.5"
  }
 },
 "nbformat": 4,
 "nbformat_minor": 4
}
